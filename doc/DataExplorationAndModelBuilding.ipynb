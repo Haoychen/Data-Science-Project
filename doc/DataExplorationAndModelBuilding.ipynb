{
 "cells": [
  {
   "cell_type": "markdown",
   "metadata": {},
   "source": [
    "# Data Exploration and Model Building\n",
    "\n",
    "Train data contains 72983 samples and 34 columns for each sample. Test data contains 48707 samples, and 33 coulmns for each sample.\n",
    "\n",
    "## Data Type\n",
    "Before we explore the dataset, we want to comfirm the data type for each column."
   ]
  },
  {
   "cell_type": "code",
   "execution_count": 1,
   "metadata": {},
   "outputs": [],
   "source": [
    "import pandas as pd\n",
    "import matplotlib.pylab as plt\n",
    "import numpy as np\n",
    "import seaborn as sns\n",
    "from sklearn import preprocessing\n",
    "from sklearn.model_selection import GridSearchCV\n",
    "from datetime import datetime\n",
    "import warnings\n",
    "import random\n",
    "import lightgbm as lgb\n",
    "%matplotlib inline \n",
    "warnings.filterwarnings('ignore')"
   ]
  },
  {
   "cell_type": "code",
   "execution_count": 2,
   "metadata": {
    "collapsed": true
   },
   "outputs": [],
   "source": [
    "train_data = pd.read_csv('../data/training.csv')\n",
    "test_data = pd.read_csv('../data/test.csv')"
   ]
  },
  {
   "cell_type": "code",
   "execution_count": 3,
   "metadata": {
    "collapsed": true
   },
   "outputs": [],
   "source": [
    "# Trim feature is highly correlated to Model and SubModel, and it contains lots of missing value\n",
    "train_data.drop(['Trim'], axis=1, inplace=True)\n",
    "test_data.drop(['Trim'], axis=1, inplace=True)\n",
    "\n",
    "# WheelTypeId is duplicate of WheelType\n",
    "train_data.drop(['WheelTypeID'], axis=1, inplace=True)\n",
    "test_data.drop(['WheelTypeID'], axis=1, inplace=True)\n",
    "\n",
    "# VehYear is duplicate of VehicleAge\n",
    "train_data.drop(['VehYear'], axis=1, inplace=True)\n",
    "test_data.drop(['VehYear'], axis=1, inplace=True)"
   ]
  },
  {
   "cell_type": "code",
   "execution_count": 4,
   "metadata": {
    "collapsed": true
   },
   "outputs": [],
   "source": [
    "train_data_y = train_data['IsBadBuy']\n",
    "train_data_x = train_data.drop(['RefId', 'IsBadBuy'], axis=1)"
   ]
  },
  {
   "cell_type": "code",
   "execution_count": 5,
   "metadata": {
    "collapsed": true
   },
   "outputs": [],
   "source": [
    "test_idx = test_data['RefId']\n",
    "test_data_x = test_data.drop(['RefId'], axis=1)"
   ]
  },
  {
   "cell_type": "markdown",
   "metadata": {},
   "source": [
    "## Missing Values Imputation\n",
    "Both train data and test data contain missing values, and we need to do missing value imputation for both of them. Thus, I combine the features in train and test dataset together and then do missing value imputation for the combined feature data frame. To mimic typo, I transfer all string in the dataframe to uppercase."
   ]
  },
  {
   "cell_type": "code",
   "execution_count": 6,
   "metadata": {
    "collapsed": true
   },
   "outputs": [],
   "source": [
    "features = pd.concat([train_data_x, test_data_x])"
   ]
  },
  {
   "cell_type": "code",
   "execution_count": 7,
   "metadata": {
    "collapsed": true
   },
   "outputs": [],
   "source": [
    "for col in features.select_dtypes(include=[\"object\"]).columns.values:\n",
    "    features[col] = features[col].str.upper()\n",
    "    "
   ]
  },
  {
   "cell_type": "markdown",
   "metadata": {},
   "source": [
    "#### Check Feature Data Type"
   ]
  },
  {
   "cell_type": "code",
   "execution_count": 8,
   "metadata": {},
   "outputs": [
    {
     "data": {
      "text/plain": [
       "array(['VehicleAge', 'VehOdo', 'MMRAcquisitionAuctionAveragePrice',\n",
       "       'MMRAcquisitionAuctionCleanPrice',\n",
       "       'MMRAcquisitionRetailAveragePrice', 'MMRAcquisitonRetailCleanPrice',\n",
       "       'MMRCurrentAuctionAveragePrice', 'MMRCurrentAuctionCleanPrice',\n",
       "       'MMRCurrentRetailAveragePrice', 'MMRCurrentRetailCleanPrice',\n",
       "       'BYRNO', 'VNZIP1', 'VehBCost', 'IsOnlineSale', 'WarrantyCost'], dtype=object)"
      ]
     },
     "execution_count": 8,
     "metadata": {},
     "output_type": "execute_result"
    }
   ],
   "source": [
    "features.select_dtypes(include=[\"float64\", \"int64\"]).columns.values"
   ]
  },
  {
   "cell_type": "code",
   "execution_count": 9,
   "metadata": {},
   "outputs": [
    {
     "data": {
      "text/plain": [
       "array(['PurchDate', 'Auction', 'Make', 'Model', 'SubModel', 'Color',\n",
       "       'Transmission', 'WheelType', 'Nationality', 'Size',\n",
       "       'TopThreeAmericanName', 'PRIMEUNIT', 'AUCGUART', 'VNST'], dtype=object)"
      ]
     },
     "execution_count": 9,
     "metadata": {},
     "output_type": "execute_result"
    }
   ],
   "source": [
    "features.select_dtypes(include=[\"object\"]).columns.values"
   ]
  },
  {
   "cell_type": "markdown",
   "metadata": {},
   "source": [
    "#### Check NaN Values"
   ]
  },
  {
   "cell_type": "code",
   "execution_count": 10,
   "metadata": {},
   "outputs": [
    {
     "data": {
      "text/plain": [
       "PurchDate                                 0\n",
       "Auction                                   0\n",
       "VehicleAge                                0\n",
       "Make                                      0\n",
       "Model                                     0\n",
       "SubModel                                 13\n",
       "Color                                    12\n",
       "Transmission                             12\n",
       "WheelType                              5362\n",
       "VehOdo                                    0\n",
       "Nationality                              12\n",
       "Size                                     12\n",
       "TopThreeAmericanName                     12\n",
       "MMRAcquisitionAuctionAveragePrice        28\n",
       "MMRAcquisitionAuctionCleanPrice          28\n",
       "MMRAcquisitionRetailAveragePrice         28\n",
       "MMRAcquisitonRetailCleanPrice            28\n",
       "MMRCurrentAuctionAveragePrice           458\n",
       "MMRCurrentAuctionCleanPrice             458\n",
       "MMRCurrentRetailAveragePrice            458\n",
       "MMRCurrentRetailCleanPrice              458\n",
       "PRIMEUNIT                            115755\n",
       "AUCGUART                             115755\n",
       "BYRNO                                     0\n",
       "VNZIP1                                    0\n",
       "VNST                                      0\n",
       "VehBCost                                  0\n",
       "IsOnlineSale                              0\n",
       "WarrantyCost                              0\n",
       "dtype: int64"
      ]
     },
     "execution_count": 10,
     "metadata": {},
     "output_type": "execute_result"
    }
   ],
   "source": [
    "features.isnull().sum()"
   ]
  },
  {
   "cell_type": "markdown",
   "metadata": {},
   "source": [
    "#### Missing value in SubModel, Transmission, WheelType"
   ]
  },
  {
   "cell_type": "markdown",
   "metadata": {},
   "source": [
    "**Model, SubModel, Transmission, WheelType**, these 4 features are correlated. Transmission and WheelType could be infered by Model and SubModel. SubModel could be refered from Model. Thus, We can fill the missing values in these features based on the values in the other features."
   ]
  },
  {
   "cell_type": "code",
   "execution_count": 11,
   "metadata": {
    "collapsed": true
   },
   "outputs": [],
   "source": [
    "# Fill missing values in SubModel\n",
    "features.loc[[24567, 24578], 'SubModel'] = '4D SEDAN SXT FFV'\n",
    "features.loc[[70432], 'SubModel'] = 'REG CAB 2.2L FFV'\n",
    "features.loc[[70434], 'SubModel'] = '4D SEDAN'\n",
    "features.loc[[70437], 'SubModel'] = '4D SEDAN SE'\n",
    "features.loc[[70445], 'SubModel'] = '2D COUPE'\n",
    "features.loc[[70446], 'SubModel'] = '4D SUV 4.6L'\n",
    "features.loc[[70450], 'SubModel'] = 'PASSENGER 3.9L SE'\n",
    "features.loc[[19863], 'SubModel'] = 'SPORT UTILITY'\n",
    "features.loc[[19864], 'SubModel'] = '4D SUV LS'\n",
    "features.loc[[19867], 'SubModel'] = '4D SEDAN CLASSIC'\n",
    "features.loc[[30915], 'SubModel'] = 'MINIVAN 3.3L'\n",
    "features.loc[[37737], 'SubModel'] = '4D SEDAN'"
   ]
  },
  {
   "cell_type": "code",
   "execution_count": 12,
   "metadata": {
    "collapsed": true
   },
   "outputs": [],
   "source": [
    "# Fill missing values in Transmission\n",
    "features.loc[[15906, 19863, 19864, 19867, 24567, 24578, 70432, 70434, 70437, 70445, 70446, 70450],[\"Transmission\"]]=\"AUTO\""
   ]
  },
  {
   "cell_type": "code",
   "execution_count": 13,
   "metadata": {
    "collapsed": true
   },
   "outputs": [],
   "source": [
    "# Fill missing values in WheelType\n",
    "for index, row in features.iterrows():\n",
    "    if str(row['WheelType']) == 'nan':\n",
    "        tmp = features[(features['Model'] == row['Model'])\n",
    "                       & (features['SubModel'] == row['SubModel'])]['WheelType'].value_counts()\n",
    "        if (tmp.size > 0):\n",
    "            features.loc[[index], 'WheelType'] = tmp.index[0]\n",
    "        else:\n",
    "            features.loc[[index], 'WheelType'] = 'ALLOY'"
   ]
  },
  {
   "cell_type": "markdown",
   "metadata": {},
   "source": [
    "#### Missing value in Color"
   ]
  },
  {
   "cell_type": "code",
   "execution_count": 14,
   "metadata": {
    "collapsed": true
   },
   "outputs": [],
   "source": [
    "# Fill missing values in Color using Mode\n",
    "features.loc[features['Color'].isnull(), 'Color'] = 'SILVER'\n",
    "features.loc[features['Color'] == 'NOT AVAIL', 'Color'] = 'SILVER'"
   ]
  },
  {
   "cell_type": "markdown",
   "metadata": {},
   "source": [
    "#### Missing value in Nationality, Size, TopThreeAmericanName\n",
    "The missing values in these 3 features are tied together, they are not randomly missing"
   ]
  },
  {
   "cell_type": "code",
   "execution_count": 15,
   "metadata": {},
   "outputs": [
    {
     "data": {
      "text/html": [
       "<div>\n",
       "<style>\n",
       "    .dataframe thead tr:only-child th {\n",
       "        text-align: right;\n",
       "    }\n",
       "\n",
       "    .dataframe thead th {\n",
       "        text-align: left;\n",
       "    }\n",
       "\n",
       "    .dataframe tbody tr th {\n",
       "        vertical-align: top;\n",
       "    }\n",
       "</style>\n",
       "<table border=\"1\" class=\"dataframe\">\n",
       "  <thead>\n",
       "    <tr style=\"text-align: right;\">\n",
       "      <th></th>\n",
       "      <th>Model</th>\n",
       "      <th>SubModel</th>\n",
       "      <th>Nationality</th>\n",
       "      <th>Size</th>\n",
       "      <th>TopThreeAmericanName</th>\n",
       "    </tr>\n",
       "  </thead>\n",
       "  <tbody>\n",
       "    <tr>\n",
       "      <th>10888</th>\n",
       "      <td>SIERRA 1500</td>\n",
       "      <td>BASE</td>\n",
       "      <td>NaN</td>\n",
       "      <td>NaN</td>\n",
       "      <td>NaN</td>\n",
       "    </tr>\n",
       "    <tr>\n",
       "      <th>25169</th>\n",
       "      <td>NITRO 4WD V6</td>\n",
       "      <td>4D SUV 3.7L SE</td>\n",
       "      <td>NaN</td>\n",
       "      <td>NaN</td>\n",
       "      <td>NaN</td>\n",
       "    </tr>\n",
       "    <tr>\n",
       "      <th>37986</th>\n",
       "      <td>ELANTRA 2.0L I4 MPI</td>\n",
       "      <td>4D SEDAN</td>\n",
       "      <td>NaN</td>\n",
       "      <td>NaN</td>\n",
       "      <td>NaN</td>\n",
       "    </tr>\n",
       "    <tr>\n",
       "      <th>69948</th>\n",
       "      <td>PATRIOT 2WD 4C</td>\n",
       "      <td>4D SUV SPORT</td>\n",
       "      <td>NaN</td>\n",
       "      <td>NaN</td>\n",
       "      <td>NaN</td>\n",
       "    </tr>\n",
       "    <tr>\n",
       "      <th>69958</th>\n",
       "      <td>PATRIOT 2WD 4C</td>\n",
       "      <td>4D SUV SPORT</td>\n",
       "      <td>NaN</td>\n",
       "      <td>NaN</td>\n",
       "      <td>NaN</td>\n",
       "    </tr>\n",
       "    <tr>\n",
       "      <th>2082</th>\n",
       "      <td>NITRO 4WD V6</td>\n",
       "      <td>4D SUV 3.7L SE</td>\n",
       "      <td>NaN</td>\n",
       "      <td>NaN</td>\n",
       "      <td>NaN</td>\n",
       "    </tr>\n",
       "    <tr>\n",
       "      <th>20588</th>\n",
       "      <td>NEON 2.0L I4 SFI</td>\n",
       "      <td>4D SEDAN</td>\n",
       "      <td>NaN</td>\n",
       "      <td>NaN</td>\n",
       "      <td>NaN</td>\n",
       "    </tr>\n",
       "    <tr>\n",
       "      <th>20589</th>\n",
       "      <td>ALTIMA 2.5L I4 EFI</td>\n",
       "      <td>4D SEDAN S</td>\n",
       "      <td>NaN</td>\n",
       "      <td>NaN</td>\n",
       "      <td>NaN</td>\n",
       "    </tr>\n",
       "    <tr>\n",
       "      <th>20594</th>\n",
       "      <td>GRAND AM V6 3.4L V6</td>\n",
       "      <td>4D SEDAN SE</td>\n",
       "      <td>NaN</td>\n",
       "      <td>NaN</td>\n",
       "      <td>NaN</td>\n",
       "    </tr>\n",
       "    <tr>\n",
       "      <th>20595</th>\n",
       "      <td>DURANGO 4WD V8 4.7L</td>\n",
       "      <td>4D SUV 4.7L SLT</td>\n",
       "      <td>NaN</td>\n",
       "      <td>NaN</td>\n",
       "      <td>NaN</td>\n",
       "    </tr>\n",
       "    <tr>\n",
       "      <th>20597</th>\n",
       "      <td>SONATA 4C 2.4L I4 MP</td>\n",
       "      <td>4D SEDAN</td>\n",
       "      <td>NaN</td>\n",
       "      <td>NaN</td>\n",
       "      <td>NaN</td>\n",
       "    </tr>\n",
       "    <tr>\n",
       "      <th>20600</th>\n",
       "      <td>ELANTRA 2.0L I4 MPI</td>\n",
       "      <td>4D SEDAN</td>\n",
       "      <td>NaN</td>\n",
       "      <td>NaN</td>\n",
       "      <td>NaN</td>\n",
       "    </tr>\n",
       "  </tbody>\n",
       "</table>\n",
       "</div>"
      ],
      "text/plain": [
       "                      Model         SubModel Nationality Size  \\\n",
       "10888           SIERRA 1500             BASE         NaN  NaN   \n",
       "25169          NITRO 4WD V6   4D SUV 3.7L SE         NaN  NaN   \n",
       "37986   ELANTRA 2.0L I4 MPI         4D SEDAN         NaN  NaN   \n",
       "69948        PATRIOT 2WD 4C     4D SUV SPORT         NaN  NaN   \n",
       "69958        PATRIOT 2WD 4C     4D SUV SPORT         NaN  NaN   \n",
       "2082           NITRO 4WD V6   4D SUV 3.7L SE         NaN  NaN   \n",
       "20588      NEON 2.0L I4 SFI         4D SEDAN         NaN  NaN   \n",
       "20589    ALTIMA 2.5L I4 EFI       4D SEDAN S         NaN  NaN   \n",
       "20594   GRAND AM V6 3.4L V6      4D SEDAN SE         NaN  NaN   \n",
       "20595   DURANGO 4WD V8 4.7L  4D SUV 4.7L SLT         NaN  NaN   \n",
       "20597  SONATA 4C 2.4L I4 MP         4D SEDAN         NaN  NaN   \n",
       "20600   ELANTRA 2.0L I4 MPI         4D SEDAN         NaN  NaN   \n",
       "\n",
       "      TopThreeAmericanName  \n",
       "10888                  NaN  \n",
       "25169                  NaN  \n",
       "37986                  NaN  \n",
       "69948                  NaN  \n",
       "69958                  NaN  \n",
       "2082                   NaN  \n",
       "20588                  NaN  \n",
       "20589                  NaN  \n",
       "20594                  NaN  \n",
       "20595                  NaN  \n",
       "20597                  NaN  \n",
       "20600                  NaN  "
      ]
     },
     "execution_count": 15,
     "metadata": {},
     "output_type": "execute_result"
    }
   ],
   "source": [
    "features[features['Nationality'].isnull()][['Model', 'SubModel', 'Nationality', 'Size', 'TopThreeAmericanName']]"
   ]
  },
  {
   "cell_type": "code",
   "execution_count": 16,
   "metadata": {
    "collapsed": true
   },
   "outputs": [],
   "source": [
    "features.loc[[10888], 'Nationality'] = 'AMERICAN'\n",
    "features.loc[[10888], 'Size'] = 'LARGE TRUCK'\n",
    "features.loc[[10888], 'TopThreeAmericanName'] = 'GM'\n",
    "features.loc[[25169, 2082], 'Nationality'] = 'AMERICAN'\n",
    "features.loc[[25169, 2082], 'Size'] = 'MEDIUM SUV'\n",
    "features.loc[[25169, 2082], 'TopThreeAmericanName'] = 'CHRYSLER'\n",
    "features.loc[[37986], 'Nationality'] = 'OTHER ASIAN'\n",
    "features.loc[[37986], 'Size'] = 'MEDIUM'\n",
    "features.loc[[37986], 'TopThreeAmericanName'] = 'OTHER'\n",
    "features.loc[[69948, 69958], 'Nationality'] = 'AMERICAN'\n",
    "features.loc[[69948, 69958], 'Size'] = 'SMALL SUV'\n",
    "features.loc[[69948, 69958], 'TopThreeAmericanName'] = 'CHRYSLER'\n",
    "features.loc[[20588], 'Nationality'] = 'AMERICAN'\n",
    "features.loc[[20588], 'Size'] = 'LARGE TRUCK'\n",
    "features.loc[[20588], 'TopThreeAmericanName'] = 'CHRYSLER'\n",
    "features.loc[[20589], 'Nationality'] = 'AMERICAN'\n",
    "features.loc[[20589], 'Size'] = 'MEDIUM SUV'\n",
    "features.loc[[20589], 'TopThreeAmericanName'] = 'GM'\n",
    "features.loc[[20594], 'Nationality'] = 'AMERICAN'\n",
    "features.loc[[20594], 'Size'] = 'COMPACT'\n",
    "features.loc[[20594], 'TopThreeAmericanName'] = 'GM'\n",
    "features.loc[[20595], 'Nationality'] = 'AMERICAN'\n",
    "features.loc[[20595], 'Size'] = 'LARGE'\n",
    "features.loc[[20595], 'TopThreeAmericanName'] = 'FORD'\n",
    "features.loc[[20597], 'Nationality'] = 'AMERICAN'\n",
    "features.loc[[20597], 'Size'] = 'MEDIUM'\n",
    "features.loc[[20597], 'TopThreeAmericanName'] = 'GM'\n",
    "features.loc[[20600], 'Nationality'] = 'AMERICAN'\n",
    "features.loc[[20600], 'Size'] = 'MEDIUM'\n",
    "features.loc[[20600], 'TopThreeAmericanName'] = 'CHRYSLER'"
   ]
  },
  {
   "cell_type": "markdown",
   "metadata": {},
   "source": [
    "#### Missing value in MMRAcquisitionAuctionAveragePrice, MMRAcquisitionAuctionCleanPrice, MMRAcquisitionRetailAveragePrice, MMRAcquisitonRetailCleanPrice\n",
    "The missing values in these 4 features are tied together. It seems to be non-randomly missing. Due to time limit, I would use mean value to replace the nan."
   ]
  },
  {
   "cell_type": "code",
   "execution_count": 17,
   "metadata": {
    "collapsed": true
   },
   "outputs": [],
   "source": [
    "# MMRAcquisitionAuctionAveragePrice\n",
    "mean_auc_avg_price = features['MMRAcquisitionAuctionAveragePrice'].dropna().values.mean()\n",
    "features.loc[features['MMRAcquisitionAuctionAveragePrice'].isnull(),\n",
    "             'MMRAcquisitionAuctionAveragePrice'] = mean_auc_avg_price\n",
    "\n",
    "# MMRAcquisitionAuctionCleanPrice\n",
    "mean_auc_clean_price = features['MMRAcquisitionAuctionCleanPrice'].dropna().values.mean()\n",
    "features.loc[features['MMRAcquisitionAuctionCleanPrice'].isnull(),\n",
    "             'MMRAcquisitionAuctionCleanPrice'] = mean_auc_clean_price\n",
    "\n",
    "# MMRAcquisitionRetailAveragePrice\n",
    "mean_retail_avg_price = features['MMRAcquisitionRetailAveragePrice'].dropna().values.mean()\n",
    "features.loc[features['MMRAcquisitionRetailAveragePrice'].isnull(),\n",
    "             'MMRAcquisitionRetailAveragePrice'] = mean_retail_avg_price\n",
    "\n",
    "# MMRAcquisitonRetailCleanPrice\n",
    "mean_retail_clean_price = features['MMRAcquisitonRetailCleanPrice'].dropna().values.mean()\n",
    "features.loc[features['MMRAcquisitonRetailCleanPrice'].isnull(),\n",
    "             'MMRAcquisitonRetailCleanPrice'] = mean_retail_clean_price\n"
   ]
  },
  {
   "cell_type": "markdown",
   "metadata": {},
   "source": [
    "#### Missing value in MMRCurrentAuctionAveragePrice, MMRCurrentAuctionCleanPrice, MMRCurrentRetailAveragePrice, MMRCurrentRetailCleanPrice\n",
    "The missing values in these 4 features are tied together. It seems to be non-randomly missing. Due to time limit, I would use mean value to replace the nan."
   ]
  },
  {
   "cell_type": "code",
   "execution_count": 18,
   "metadata": {
    "collapsed": true
   },
   "outputs": [],
   "source": [
    "# MMRAcquisitionAuctionAveragePrice\n",
    "mean_auc_avg_price = features['MMRCurrentAuctionAveragePrice'].dropna().values.mean()\n",
    "features.loc[features['MMRCurrentAuctionAveragePrice'].isnull(),\n",
    "             'MMRCurrentAuctionAveragePrice'] = mean_auc_avg_price\n",
    "\n",
    "# MMRAcquisitionAuctionCleanPrice\n",
    "mean_auc_clean_price = features['MMRCurrentAuctionCleanPrice'].dropna().values.mean()\n",
    "features.loc[features['MMRCurrentAuctionCleanPrice'].isnull(),\n",
    "             'MMRCurrentAuctionCleanPrice'] = mean_auc_clean_price\n",
    "\n",
    "# MMRAcquisitionRetailAveragePrice\n",
    "mean_retail_avg_price = features['MMRCurrentRetailAveragePrice'].dropna().values.mean()\n",
    "features.loc[features['MMRCurrentRetailAveragePrice'].isnull(),\n",
    "             'MMRCurrentRetailAveragePrice'] = mean_retail_avg_price\n",
    "\n",
    "# MMRAcquisitonRetailCleanPrice\n",
    "mean_retail_clean_price = features['MMRCurrentRetailCleanPrice'].dropna().values.mean()\n",
    "features.loc[features['MMRCurrentRetailCleanPrice'].isnull(),\n",
    "             'MMRCurrentRetailCleanPrice'] = mean_retail_clean_price"
   ]
  },
  {
   "cell_type": "markdown",
   "metadata": {},
   "source": [
    "#### Missing value in PRIMEUNIT, AUCGUART\n",
    "As the values of these 2 features in most samples are nan, I would create a new level for these two features"
   ]
  },
  {
   "cell_type": "code",
   "execution_count": 19,
   "metadata": {
    "collapsed": true
   },
   "outputs": [],
   "source": [
    "features.loc[features['PRIMEUNIT'].isnull(), 'PRIMEUNIT'] = 'OTHER'\n",
    "features.loc[features['AUCGUART'].isnull(), 'AUCGUART'] = 'OTHER'"
   ]
  },
  {
   "cell_type": "markdown",
   "metadata": {},
   "source": [
    "## Imbalanced Dataset\n",
    "After missing value imputation, I want to explore is the distribution of the targets. Based on the results, we find that the distribution of target _**IsBadBuy**_ is  imbalanced. Most of the samples are 0 and only around 12% of the samples in the training dataset are 1. As most machine learning or deep learning mdoels do not work well for imbalanced data, some methods may be used to handle the unbalance labels in our project:\n",
    "1. Downsampling the samples whose IsBadBuy = 0\n",
    "2. Upsampling the samples whose IsBadBuy = 1\n",
    "3. Modify the loss function, increase the loss for samples with IsBadBuy=1, and decrease the loss for samples with IsBadBuy=0\n",
    "4. Use some evaluation metric that could handle imbalance classes, such as AUC. For this dataset, if accurately predicting IsBadBuy=1 is more important and we can endure more false positive, could choose recall to evaluate the model\n",
    "5. Assemble several different classifier using some ensemble methods, such as cascade method"
   ]
  },
  {
   "cell_type": "code",
   "execution_count": 20,
   "metadata": {},
   "outputs": [
    {
     "data": {
      "text/plain": [
       "0    64007\n",
       "1     8976\n",
       "Name: IsBadBuy, dtype: int64"
      ]
     },
     "execution_count": 20,
     "metadata": {},
     "output_type": "execute_result"
    }
   ],
   "source": [
    "train_data['IsBadBuy'].value_counts()"
   ]
  },
  {
   "cell_type": "markdown",
   "metadata": {
    "collapsed": true
   },
   "source": [
    "# Extract features\n",
    "* Features may influence the WarrantyCost and VehBCost  \n",
    "  * AuctionAverageChange: Auction average price change from acquisition to current\n",
    "  * AuctionCleanChange: Auction clean price change from acquisition to current\n",
    "  * RetailAverageChange: Retail average price change from acquisition to current\n",
    "  * RetailCleanChange: Retail clean price change from acquisition to current\n",
    "  * AcqRetailAuctionAverageDiff: The retail and auction average price difference at acquisition time\n",
    "  * AcqRetailAuctionCleanDiff: The retail and auction clean price difference at acquisition time\n",
    "  * CurRetailAuctionAverageDiff: The current retail and auction average price difference\n",
    "  * CurRetailAuctionCleanDiff: The current retail and auction clean price difference\n",
    "* OdoPerYear: Average odometer reading per year, the higher it is, maybe the higher risk that it's bad kicked car\n",
    "* AcqBCostAvgDiff: The difference between acquisition cost and average acqusition cost\n",
    "* AcqBCostCleanDiff: The difference between acquisition cost and clean acqusition cost\n",
    "* AcqWarrantyCostDiff: The difference between WarrantyCost and VehBCost"
   ]
  },
  {
   "cell_type": "code",
   "execution_count": 21,
   "metadata": {
    "collapsed": true
   },
   "outputs": [],
   "source": [
    "# Odometer reading Per Year\n",
    "features['OdoPerYear'] = features['VehOdo'] / (features['VehicleAge'] + 1)\n",
    "\n",
    "features['AuctionAverageChange'] = features['MMRCurrentAuctionAveragePrice'] - features['MMRAcquisitionAuctionAveragePrice']\n",
    "features['AuctionCleanChange'] = features['MMRCurrentAuctionCleanPrice'] - features['MMRAcquisitionAuctionCleanPrice']\n",
    "features['RetailAverageChange'] = features['MMRCurrentRetailAveragePrice'] - features['MMRAcquisitionRetailAveragePrice']\n",
    "features['RetailCleanChange'] = features['MMRCurrentRetailCleanPrice'] - features['MMRAcquisitonRetailCleanPrice']\n",
    "features['AcqRetailAuctionAverageDiff'] = features['MMRAcquisitionRetailAveragePrice'] - features['MMRAcquisitionAuctionAveragePrice']\n",
    "features['AcqRetailAuctionCleanDiff'] = features['MMRAcquisitonRetailCleanPrice'] - features['MMRAcquisitionAuctionCleanPrice']\n",
    "features['CurRetailAuctionAverageDiff'] = features['MMRCurrentRetailAveragePrice'] - features['MMRCurrentAuctionAveragePrice']\n",
    "features['CurRetailAuctionCleanDiff'] = features['MMRCurrentRetailCleanPrice'] - features['MMRCurrentAuctionCleanPrice']\n",
    "\n",
    "features['AcqBCostAvgDiff'] = features['MMRAcquisitionAuctionAveragePrice'] - features['VehBCost']\n",
    "features['AcqBCostCleanDiff'] = features['MMRCurrentAuctionCleanPrice'] - features['VehBCost']\n",
    "features['AcqWarrantyCostDiff'] = features['WarrantyCost'] - features['VehBCost']"
   ]
  },
  {
   "cell_type": "markdown",
   "metadata": {},
   "source": [
    "# Handle Categorical Features\n",
    "We would try to conver categorical features into numerical features or reduce the levels of the categorical features. If the categorical features need to do one-hot encoding, we would do it after we normalize all numerical features."
   ]
  },
  {
   "cell_type": "markdown",
   "metadata": {},
   "source": [
    "#### VNZIP1, Model, SubModel\n",
    "These three features, VNZIP1, Model, SubModel, has too many levels. Using one-hot encoding would lead to very sparse dataset. Thus we would not do one-hot encoding for these two features. To convert them into numerical features, I would use **the percentage of IsBadBuy=1 in each level** to replace the categories."
   ]
  },
  {
   "cell_type": "code",
   "execution_count": 22,
   "metadata": {
    "collapsed": true
   },
   "outputs": [],
   "source": [
    "# Zipcode: VNZIP1\n",
    "avg_percentage = 0.12298754504473644\n",
    "zipcodes = features['VNZIP1'].value_counts().index.tolist()\n",
    "for zipcode in zipcodes:\n",
    "    tmp = train_data[train_data['VNZIP1'] == zipcode]['IsBadBuy'].value_counts().to_dict()\n",
    "    if len(tmp) == 2:\n",
    "        percentage = tmp[1] / (tmp[0] + tmp[1])\n",
    "    elif len(tmp) == 1:\n",
    "        if 1 in tmp:\n",
    "            percentage = 1\n",
    "        else:\n",
    "            percentage = 0\n",
    "    else:\n",
    "        percentage = avg_percentage\n",
    "    features.loc[features['VNZIP1'] == zipcode, 'VNZIP1'] = percentage"
   ]
  },
  {
   "cell_type": "code",
   "execution_count": 23,
   "metadata": {
    "collapsed": true
   },
   "outputs": [],
   "source": [
    "# Model\n",
    "avg_percentage = 0.12298754504473644\n",
    "models = features['Model'].value_counts().index.tolist()\n",
    "for model in models:\n",
    "    tmp = train_data[train_data['Model'] == model]['IsBadBuy'].value_counts().to_dict()\n",
    "    if len(tmp) == 2:\n",
    "        percentage = tmp[1] / (tmp[0] + tmp[1])\n",
    "    elif len(tmp) == 1:\n",
    "        if 1 in tmp:\n",
    "            percentage = 1\n",
    "        else:\n",
    "            percentage = 0\n",
    "    else:\n",
    "        percentage = avg_percentage\n",
    "    features.loc[features['Model'] == model, 'Model'] = percentage"
   ]
  },
  {
   "cell_type": "code",
   "execution_count": 24,
   "metadata": {
    "collapsed": true
   },
   "outputs": [],
   "source": [
    "# SubModel\n",
    "avg_percentage = 0.12298754504473644\n",
    "sub_models = features['SubModel'].value_counts().index.tolist()\n",
    "for sub_model in sub_models:\n",
    "    tmp = train_data[train_data['SubModel'] == sub_model]['IsBadBuy'].value_counts().to_dict()\n",
    "    if len(tmp) == 2:\n",
    "        percentage = tmp[1] / (tmp[0] + tmp[1])\n",
    "    elif len(tmp) == 1:\n",
    "        if 1 in tmp:\n",
    "            percentage = 1\n",
    "        else:\n",
    "            percentage = 0\n",
    "    else:\n",
    "        percentage = avg_percentage\n",
    "    features.loc[features['SubModel'] == sub_model, 'SubModel'] = percentage"
   ]
  },
  {
   "cell_type": "markdown",
   "metadata": {},
   "source": [
    "#### Replace PurchDate to seconds from the earliest PurchDate"
   ]
  },
  {
   "cell_type": "code",
   "execution_count": 25,
   "metadata": {
    "collapsed": true
   },
   "outputs": [],
   "source": [
    "features['PurchDate'] = (pd.to_datetime(features['PurchDate'], format=\"%m/%d/%Y\")\n",
    "                         - pd.datetime(2009,12,7)).dt.total_seconds()"
   ]
  },
  {
   "cell_type": "markdown",
   "metadata": {},
   "source": [
    "#### Reduce the level in Make and VNST"
   ]
  },
  {
   "cell_type": "code",
   "execution_count": 26,
   "metadata": {
    "collapsed": true
   },
   "outputs": [],
   "source": [
    "reduce_make_list = features['Make'].value_counts().index.tolist()[-15:]\n",
    "features.loc[features['Make'].isin(reduce_make_list), 'Make'] = 'OTHER'"
   ]
  },
  {
   "cell_type": "code",
   "execution_count": 27,
   "metadata": {
    "collapsed": true
   },
   "outputs": [],
   "source": [
    "reduce_vnst_list = features['VNST'].value_counts().index.tolist()[-18:]\n",
    "features.loc[features['VNST'].isin(reduce_vnst_list), 'VNST'] = 'OTHER'"
   ]
  },
  {
   "cell_type": "markdown",
   "metadata": {},
   "source": [
    "## Explore Numerical Features\n",
    "The distributions of most numerical features are close to Gaussian Distribution."
   ]
  },
  {
   "cell_type": "code",
   "execution_count": 28,
   "metadata": {
    "collapsed": true
   },
   "outputs": [],
   "source": [
    "numeric_features = features.select_dtypes(include=[\"float64\", \"int64\"]).columns.values.tolist()\n",
    "numeric_features.remove('IsOnlineSale')"
   ]
  },
  {
   "cell_type": "code",
   "execution_count": 29,
   "metadata": {
    "collapsed": true
   },
   "outputs": [],
   "source": [
    "# Normalize features into range (0, 1)\n",
    "min_max_scaler = preprocessing.MinMaxScaler()\n",
    "for feature in numeric_features:\n",
    "    tmp = features[feature].values\n",
    "    scaled = min_max_scaler.fit_transform(tmp)\n",
    "    features[feature] = scaled"
   ]
  },
  {
   "cell_type": "code",
   "execution_count": 30,
   "metadata": {},
   "outputs": [
    {
     "data": {
      "image/png": "[encoded data removed]",
      "text/plain": [
       "<matplotlib.figure.Figure at 0x7f9ed2582c88>"
      ]
     },
     "metadata": {},
     "output_type": "display_data"
    }
   ],
   "source": [
    "plt.figure(figsize=(15, 15))\n",
    "for i in range(27):\n",
    "    plt.subplot(7, 4, i + 1)\n",
    "    sns.distplot(features[numeric_features[i]])\n",
    "    plt.title(numeric_features[i])\n",
    "plt.tight_layout()\n",
    "plt.show()"
   ]
  },
  {
   "cell_type": "markdown",
   "metadata": {},
   "source": [
    "# Change Categorical Features Data Type"
   ]
  },
  {
   "cell_type": "code",
   "execution_count": 31,
   "metadata": {
    "collapsed": true
   },
   "outputs": [],
   "source": [
    "cat_features = features.select_dtypes(include=[\"object\"]).columns.values\n",
    "encoder = preprocessing.LabelEncoder()\n",
    "for cat_feature in cat_features:\n",
    "    features[cat_feature] = encoder.fit_transform(features[cat_feature])\n",
    "    features[cat_feature] = features[cat_feature].astype('category')\n",
    "features['IsOnlineSale'] = features['IsOnlineSale'].astype('category')"
   ]
  },
  {
   "cell_type": "markdown",
   "metadata": {},
   "source": [
    "# Balance Train Data\n",
    "I would do downsampling to the samples whose IsBadBuy = 0 and upsampling to the samples whose IsBadBuy = 1"
   ]
  },
  {
   "cell_type": "code",
   "execution_count": 32,
   "metadata": {
    "collapsed": true
   },
   "outputs": [],
   "source": [
    "train_data_x = features.iloc[:72983]\n",
    "test_data_x = features.iloc[72983:]\n",
    "\n",
    "# Downsampling\n",
    "good_buy = train_data_x[train_data_y.isin([0])].index.tolist()\n",
    "good_buy = np.random.choice(good_buy, 15000).tolist()\n",
    "\n",
    "# Upsampling\n",
    "bad_buy = train_data_x[train_data_y.isin([1])].index.tolist()\n",
    "bad_buy = np.random.choice(bad_buy, 10000).tolist()\n",
    "\n",
    "# Randomly shuffle\n",
    "selected_data = good_buy + bad_buy\n",
    "random.shuffle(selected_data)\n",
    "\n",
    "train_data_x = train_data_x.iloc[selected_data]\n",
    "train_data_y = train_data_y.iloc[selected_data]"
   ]
  },
  {
   "cell_type": "markdown",
   "metadata": {},
   "source": [
    "# Create LightGBM Dataset"
   ]
  },
  {
   "cell_type": "markdown",
   "metadata": {},
   "source": [
    "# Feature Importance\n",
    "I would use GBM to evaluate the feature importance and then based on the feature importance to select important features. The "
   ]
  },
  {
   "cell_type": "code",
   "execution_count": 33,
   "metadata": {
    "collapsed": true,
    "scrolled": true
   },
   "outputs": [],
   "source": [
    "base_classifier = lgb.LGBMClassifier(num_leaves=127, max_depth=8, learning_rate=0.1, n_estimators=500,\n",
    "                                     max_bin=255, subsample_for_bin=20, objective='binary', min_split_gain=0.0, \n",
    "                                     min_child_weight=2, min_child_samples=10, subsample=0.7, subsample_freq=1, \n",
    "                                     colsample_bytree=0.7, reg_alpha=0.01, reg_lambda=0.1)\n",
    "\n",
    "\n",
    "base_booster = base_classifier.fit(train_data_x, train_data_y)"
   ]
  },
  {
   "cell_type": "code",
   "execution_count": 35,
   "metadata": {},
   "outputs": [
    {
     "data": {
      "text/plain": [
       "<matplotlib.axes._subplots.AxesSubplot at 0x7f9ecd8b1c18>"
      ]
     },
     "execution_count": 35,
     "metadata": {},
     "output_type": "execute_result"
    },
    {
     "data": {
      "image/png": "[encoded data removed]",
      "text/plain": [
       "<matplotlib.figure.Figure at 0x7f9ed25826a0>"
      ]
     },
     "metadata": {},
     "output_type": "display_data"
    }
   ],
   "source": [
    "fig, ax = plt.subplots(figsize=(10, 10))\n",
    "lgb.plot_importance(base_booster, height=0.2, importance_type='gain', ax=ax)"
   ]
  },
  {
   "cell_type": "code",
   "execution_count": 36,
   "metadata": {},
   "outputs": [
    {
     "data": {
      "text/plain": [
       "<matplotlib.axes._subplots.AxesSubplot at 0x7f9ed81af2b0>"
      ]
     },
     "execution_count": 36,
     "metadata": {},
     "output_type": "execute_result"
    },
    {
     "data": {
      "image/png": "[encoded data removed]",
      "text/plain": [
       "<matplotlib.figure.Figure at 0x7f9ed82112b0>"
      ]
     },
     "metadata": {},
     "output_type": "display_data"
    }
   ],
   "source": [
    "fig, ax = plt.subplots(figsize=(10, 10))\n",
    "lgb.plot_importance(base_booster, height=0.2, importance_type='split', ax=ax)"
   ]
  },
  {
   "cell_type": "code",
   "execution_count": 37,
   "metadata": {
    "collapsed": true
   },
   "outputs": [],
   "source": [
    "selected_features = []\n",
    "columns = train_data_x.columns.values\n",
    "feature_importance = base_booster.feature_importances_\n",
    "mean_importance = np.mean(feature_importance)\n",
    "for i in range(len(columns)):\n",
    "    if feature_importance[i] >= mean_importance:\n",
    "        selected_features.append(columns[i])"
   ]
  },
  {
   "cell_type": "code",
   "execution_count": 38,
   "metadata": {},
   "outputs": [
    {
     "data": {
      "text/plain": [
       "['PurchDate',\n",
       " 'Model',\n",
       " 'SubModel',\n",
       " 'VehOdo',\n",
       " 'BYRNO',\n",
       " 'VNZIP1',\n",
       " 'VehBCost',\n",
       " 'WarrantyCost',\n",
       " 'OdoPerYear',\n",
       " 'AuctionAverageChange',\n",
       " 'AuctionCleanChange',\n",
       " 'RetailAverageChange',\n",
       " 'RetailCleanChange',\n",
       " 'CurRetailAuctionAverageDiff',\n",
       " 'CurRetailAuctionCleanDiff',\n",
       " 'AcqBCostAvgDiff',\n",
       " 'AcqBCostCleanDiff',\n",
       " 'AcqWarrantyCostDiff']"
      ]
     },
     "execution_count": 38,
     "metadata": {},
     "output_type": "execute_result"
    }
   ],
   "source": [
    "selected_features"
   ]
  },
  {
   "cell_type": "code",
   "execution_count": 39,
   "metadata": {
    "collapsed": true
   },
   "outputs": [],
   "source": [
    "selected_train_data_x = train_data_x[selected_features]\n",
    "selected_test_data_x = test_data_x[selected_features]"
   ]
  },
  {
   "cell_type": "markdown",
   "metadata": {},
   "source": [
    "# Hyperparameter Tuning"
   ]
  },
  {
   "cell_type": "markdown",
   "metadata": {},
   "source": [
    "#### Tune num_leaves, max_depth and min_child_weight"
   ]
  },
  {
   "cell_type": "code",
   "execution_count": 40,
   "metadata": {},
   "outputs": [
    {
     "name": "stdout",
     "output_type": "stream",
     "text": [
      "Fitting 5 folds for each of 100 candidates, totalling 500 fits\n",
      "[CV] max_depth=-1, min_child_weight=1, num_leaves=31 .................\n",
      "[CV] max_depth=-1, min_child_weight=1, num_leaves=31 .................\n",
      "[CV] max_depth=-1, min_child_weight=1, num_leaves=31 .................\n",
      "[CV] max_depth=-1, min_child_weight=1, num_leaves=31 .................\n",
      "[CV] max_depth=-1, min_child_weight=1, num_leaves=31 .................\n",
      "[CV] max_depth=-1, min_child_weight=1, num_leaves=63 .................\n",
      "[CV] max_depth=-1, min_child_weight=1, num_leaves=63 .................\n",
      "[CV] max_depth=-1, min_child_weight=1, num_leaves=63 .................\n",
      "[CV] max_depth=-1, min_child_weight=1, num_leaves=63 .................\n",
      "[CV] max_depth=-1, min_child_weight=1, num_leaves=63 .................\n",
      "[CV] max_depth=-1, min_child_weight=1, num_leaves=127 ................\n",
      "[CV] max_depth=-1, min_child_weight=1, num_leaves=127 ................\n",
      "[CV]  max_depth=-1, min_child_weight=1, num_leaves=31, score=0.879292, total=  29.4s\n",
      "[CV] max_depth=-1, min_child_weight=1, num_leaves=127 ................\n"
     ]
    },
    {
     "name": "stderr",
     "output_type": "stream",
     "text": [
      "[Parallel(n_jobs=-1)]: Done   1 tasks      | elapsed:   31.1s\n"
     ]
    },
    {
     "name": "stdout",
     "output_type": "stream",
     "text": [
      "[CV]  max_depth=-1, min_child_weight=1, num_leaves=31, score=0.884265, total=  29.8s\n",
      "[CV] max_depth=-1, min_child_weight=1, num_leaves=127 ................\n",
      "[CV]  max_depth=-1, min_child_weight=1, num_leaves=31, score=0.877778, total=  30.1s\n",
      "[CV] max_depth=-1, min_child_weight=1, num_leaves=127 ................\n",
      "[CV]  max_depth=-1, min_child_weight=1, num_leaves=31, score=0.878862, total=  32.0s\n",
      "[CV] max_depth=-1, min_child_weight=1, num_leaves=256 ................\n",
      "[CV]  max_depth=-1, min_child_weight=1, num_leaves=31, score=0.887840, total=  33.8s\n",
      "[CV] max_depth=-1, min_child_weight=1, num_leaves=256 ................\n",
      "[CV]  max_depth=-1, min_child_weight=1, num_leaves=63, score=0.899530, total=  58.1s\n",
      "[CV] max_depth=-1, min_child_weight=1, num_leaves=256 ................\n",
      "[CV]  max_depth=-1, min_child_weight=1, num_leaves=63, score=0.909166, total=  59.3s\n",
      "[CV] max_depth=-1, min_child_weight=1, num_leaves=256 ................\n",
      "[CV]  max_depth=-1, min_child_weight=1, num_leaves=63, score=0.901681, total= 1.0min\n",
      "[CV] max_depth=-1, min_child_weight=1, num_leaves=256 ................\n"
     ]
    },
    {
     "name": "stderr",
     "output_type": "stream",
     "text": [
      "[Parallel(n_jobs=-1)]: Done   8 tasks      | elapsed:  1.0min\n"
     ]
    },
    {
     "name": "stdout",
     "output_type": "stream",
     "text": [
      "[CV]  max_depth=-1, min_child_weight=1, num_leaves=63, score=0.898345, total= 1.0min\n",
      "[CV] max_depth=-1, min_child_weight=2, num_leaves=31 .................\n",
      "[CV]  max_depth=-1, min_child_weight=1, num_leaves=63, score=0.906215, total= 1.1min\n",
      "[CV] max_depth=-1, min_child_weight=2, num_leaves=31 .................\n",
      "[CV]  max_depth=-1, min_child_weight=2, num_leaves=31, score=0.889146, total=  30.5s\n",
      "[CV] max_depth=-1, min_child_weight=2, num_leaves=31 .................\n",
      "[CV]  max_depth=-1, min_child_weight=2, num_leaves=31, score=0.880507, total=  31.2s\n",
      "[CV] max_depth=-1, min_child_weight=2, num_leaves=31 .................\n",
      "[CV]  max_depth=-1, min_child_weight=1, num_leaves=127, score=0.916122, total= 2.0min\n",
      "[CV] max_depth=-1, min_child_weight=2, num_leaves=31 .................\n",
      "[CV]  max_depth=-1, min_child_weight=2, num_leaves=31, score=0.876985, total=  31.0s\n",
      "[CV] max_depth=-1, min_child_weight=2, num_leaves=63 .................\n",
      "[CV]  max_depth=-1, min_child_weight=1, num_leaves=127, score=0.903629, total= 2.1min\n",
      "[CV] max_depth=-1, min_child_weight=2, num_leaves=63 .................\n",
      "[CV]  max_depth=-1, min_child_weight=2, num_leaves=31, score=0.880433, total=  30.0s\n",
      "[CV] max_depth=-1, min_child_weight=2, num_leaves=63 .................\n",
      "[CV]  max_depth=-1, min_child_weight=1, num_leaves=127, score=0.904111, total= 1.9min\n",
      "[CV] max_depth=-1, min_child_weight=2, num_leaves=63 .................\n"
     ]
    },
    {
     "name": "stderr",
     "output_type": "stream",
     "text": [
      "[Parallel(n_jobs=-1)]: Done  17 tasks      | elapsed:  2.5min\n"
     ]
    },
    {
     "name": "stdout",
     "output_type": "stream",
     "text": [
      "[CV]  max_depth=-1, min_child_weight=1, num_leaves=127, score=0.906049, total= 2.1min\n",
      "[CV] max_depth=-1, min_child_weight=2, num_leaves=63 .................\n",
      "[CV]  max_depth=-1, min_child_weight=2, num_leaves=31, score=0.885165, total=  34.5s\n",
      "[CV] max_depth=-1, min_child_weight=2, num_leaves=127 ................\n",
      "[CV]  max_depth=-1, min_child_weight=1, num_leaves=127, score=0.912850, total= 2.1min\n",
      "[CV] max_depth=-1, min_child_weight=2, num_leaves=127 ................\n",
      "[CV]  max_depth=-1, min_child_weight=2, num_leaves=63, score=0.896780, total=  57.6s\n",
      "[CV] max_depth=-1, min_child_weight=2, num_leaves=127 ................\n",
      "[CV]  max_depth=-1, min_child_weight=2, num_leaves=63, score=0.908274, total= 1.1min\n",
      "[CV] max_depth=-1, min_child_weight=2, num_leaves=127 ................\n",
      "[CV]  max_depth=-1, min_child_weight=2, num_leaves=63, score=0.898349, total= 1.1min\n",
      "[CV] max_depth=-1, min_child_weight=2, num_leaves=127 ................\n",
      "[CV]  max_depth=-1, min_child_weight=2, num_leaves=63, score=0.897396, total= 1.0min\n",
      "[CV] max_depth=-1, min_child_weight=2, num_leaves=256 ................\n",
      "[CV]  max_depth=-1, min_child_weight=1, num_leaves=256, score=0.917407, total= 3.1min\n",
      "[CV] max_depth=-1, min_child_weight=2, num_leaves=256 ................\n",
      "[CV]  max_depth=-1, min_child_weight=2, num_leaves=63, score=0.906619, total= 1.1min\n",
      "[CV] max_depth=-1, min_child_weight=2, num_leaves=256 ................\n"
     ]
    },
    {
     "name": "stderr",
     "output_type": "stream",
     "text": [
      "[Parallel(n_jobs=-1)]: Done  26 tasks      | elapsed:  3.8min\n"
     ]
    },
    {
     "name": "stdout",
     "output_type": "stream",
     "text": [
      "[CV]  max_depth=-1, min_child_weight=1, num_leaves=256, score=0.907918, total= 3.2min\n",
      "[CV] max_depth=-1, min_child_weight=2, num_leaves=256 ................\n",
      "[CV]  max_depth=-1, min_child_weight=1, num_leaves=256, score=0.907439, total= 2.9min\n",
      "[CV]  max_depth=-1, min_child_weight=1, num_leaves=256, score=0.914093, total= 2.9min\n",
      "[CV] max_depth=-1, min_child_weight=2, num_leaves=256 ................\n",
      "[CV] max_depth=-1, min_child_weight=3, num_leaves=31 .................\n",
      "[CV]  max_depth=-1, min_child_weight=1, num_leaves=256, score=0.904915, total= 3.2min\n",
      "[CV] max_depth=-1, min_child_weight=3, num_leaves=31 .................\n",
      "[CV]  max_depth=-1, min_child_weight=3, num_leaves=31, score=0.888110, total=  31.2s\n",
      "[CV] max_depth=-1, min_child_weight=3, num_leaves=31 .................\n",
      "[CV]  max_depth=-1, min_child_weight=2, num_leaves=127, score=0.915136, total= 2.0min\n",
      "[CV] max_depth=-1, min_child_weight=3, num_leaves=31 .................\n",
      "[CV]  max_depth=-1, min_child_weight=3, num_leaves=31, score=0.876362, total=  32.3s\n",
      "[CV] max_depth=-1, min_child_weight=3, num_leaves=31 .................\n",
      "[CV]  max_depth=-1, min_child_weight=2, num_leaves=127, score=0.905480, total= 2.2min\n",
      "[CV] max_depth=-1, min_child_weight=3, num_leaves=63 .................\n",
      "[CV]  max_depth=-1, min_child_weight=3, num_leaves=31, score=0.877157, total=  31.7s\n",
      "[CV] max_depth=-1, min_child_weight=3, num_leaves=63 .................\n",
      "[CV]  max_depth=-1, min_child_weight=2, num_leaves=127, score=0.903033, total= 1.9min\n",
      "[CV] max_depth=-1, min_child_weight=3, num_leaves=63 .................\n",
      "[CV]  max_depth=-1, min_child_weight=2, num_leaves=127, score=0.901447, total= 2.0min\n",
      "[CV] max_depth=-1, min_child_weight=3, num_leaves=63 .................\n"
     ]
    },
    {
     "name": "stderr",
     "output_type": "stream",
     "text": [
      "[Parallel(n_jobs=-1)]: Done  37 tasks      | elapsed:  5.2min\n"
     ]
    },
    {
     "name": "stdout",
     "output_type": "stream",
     "text": [
      "[CV]  max_depth=-1, min_child_weight=3, num_leaves=31, score=0.878636, total=  30.6s\n",
      "[CV] max_depth=-1, min_child_weight=3, num_leaves=63 .................\n",
      "[CV]  max_depth=-1, min_child_weight=3, num_leaves=31, score=0.887602, total=  34.2s\n",
      "[CV] max_depth=-1, min_child_weight=3, num_leaves=127 ................\n",
      "[CV]  max_depth=-1, min_child_weight=2, num_leaves=127, score=0.908383, total= 2.2min\n",
      "[CV] max_depth=-1, min_child_weight=3, num_leaves=127 ................\n",
      "[CV]  max_depth=-1, min_child_weight=3, num_leaves=63, score=0.907796, total= 1.1min\n",
      "[CV] max_depth=-1, min_child_weight=3, num_leaves=127 ................\n",
      "[CV]  max_depth=-1, min_child_weight=3, num_leaves=63, score=0.894452, total= 1.0min\n",
      "[CV] max_depth=-1, min_child_weight=3, num_leaves=127 ................\n",
      "[CV]  max_depth=-1, min_child_weight=3, num_leaves=63, score=0.896143, total=  58.9s\n",
      "[CV] max_depth=-1, min_child_weight=3, num_leaves=127 ................\n",
      "[CV]  max_depth=-1, min_child_weight=3, num_leaves=63, score=0.896588, total=  57.0s\n",
      "[CV] max_depth=-1, min_child_weight=3, num_leaves=256 ................\n",
      "[CV]  max_depth=-1, min_child_weight=2, num_leaves=256, score=0.916581, total= 2.7min\n",
      "[CV] max_depth=-1, min_child_weight=3, num_leaves=256 ................\n",
      "[CV]  max_depth=-1, min_child_weight=3, num_leaves=63, score=0.906913, total=  59.0s\n",
      "[CV] max_depth=-1, min_child_weight=3, num_leaves=256 ................\n",
      "[CV]  max_depth=-1, min_child_weight=2, num_leaves=256, score=0.903099, total= 2.6min\n",
      "[CV] max_depth=-1, min_child_weight=3, num_leaves=256 ................\n",
      "[CV]  max_depth=-1, min_child_weight=2, num_leaves=256, score=0.903986, total= 2.8min\n",
      "[CV] max_depth=-1, min_child_weight=3, num_leaves=256 ................\n"
     ]
    },
    {
     "name": "stderr",
     "output_type": "stream",
     "text": [
      "[Parallel(n_jobs=-1)]: Done  48 tasks      | elapsed:  6.6min\n"
     ]
    },
    {
     "name": "stdout",
     "output_type": "stream",
     "text": [
      "[CV]  max_depth=-1, min_child_weight=2, num_leaves=256, score=0.911168, total= 2.7min\n",
      "[CV] max_depth=-1, min_child_weight=4, num_leaves=31 .................\n",
      "[CV]  max_depth=-1, min_child_weight=2, num_leaves=256, score=0.903464, total= 2.9min\n",
      "[CV] max_depth=-1, min_child_weight=4, num_leaves=31 .................\n",
      "[CV]  max_depth=-1, min_child_weight=4, num_leaves=31, score=0.885635, total=  30.5s\n",
      "[CV] max_depth=-1, min_child_weight=4, num_leaves=31 .................\n",
      "[CV]  max_depth=-1, min_child_weight=4, num_leaves=31, score=0.877442, total=  33.4s\n",
      "[CV] max_depth=-1, min_child_weight=4, num_leaves=31 .................\n",
      "[CV]  max_depth=-1, min_child_weight=3, num_leaves=127, score=0.915089, total= 2.0min\n",
      "[CV] max_depth=-1, min_child_weight=4, num_leaves=31 .................\n",
      "[CV]  max_depth=-1, min_child_weight=3, num_leaves=127, score=0.901706, total= 2.2min\n",
      "[CV] max_depth=-1, min_child_weight=4, num_leaves=63 .................\n",
      "[CV]  max_depth=-1, min_child_weight=4, num_leaves=31, score=0.873992, total=  32.9s\n",
      "[CV] max_depth=-1, min_child_weight=4, num_leaves=63 .................\n",
      "[CV]  max_depth=-1, min_child_weight=3, num_leaves=127, score=0.909877, total= 1.8min\n",
      "[CV] max_depth=-1, min_child_weight=4, num_leaves=63 .................\n",
      "[CV]  max_depth=-1, min_child_weight=4, num_leaves=31, score=0.883325, total=  31.0s\n",
      "[CV] max_depth=-1, min_child_weight=4, num_leaves=63 .................\n",
      "[CV]  max_depth=-1, min_child_weight=4, num_leaves=31, score=0.872199, total=  33.1s\n",
      "[CV] max_depth=-1, min_child_weight=4, num_leaves=63 .................\n",
      "[CV]  max_depth=-1, min_child_weight=3, num_leaves=127, score=0.900373, total= 2.0min\n",
      "[CV] max_depth=-1, min_child_weight=4, num_leaves=127 ................\n",
      "[CV]  max_depth=-1, min_child_weight=3, num_leaves=127, score=0.902914, total= 2.1min\n",
      "[CV] max_depth=-1, min_child_weight=4, num_leaves=127 ................\n",
      "[CV]  max_depth=-1, min_child_weight=3, num_leaves=256, score=0.912414, total= 2.3min\n",
      "[CV] max_depth=-1, min_child_weight=4, num_leaves=127 ................\n"
     ]
    },
    {
     "name": "stderr",
     "output_type": "stream",
     "text": [
      "[Parallel(n_jobs=-1)]: Done  61 tasks      | elapsed:  8.6min\n"
     ]
    },
    {
     "name": "stdout",
     "output_type": "stream",
     "text": [
      "[CV]  max_depth=-1, min_child_weight=3, num_leaves=256, score=0.902837, total= 2.4min\n",
      "[CV] max_depth=-1, min_child_weight=4, num_leaves=127 ................\n",
      "[CV]  max_depth=-1, min_child_weight=3, num_leaves=256, score=0.901743, total= 2.4min\n",
      "[CV] max_depth=-1, min_child_weight=4, num_leaves=127 ................\n",
      "[CV]  max_depth=-1, min_child_weight=4, num_leaves=63, score=0.896105, total=  58.9s\n",
      "[CV] max_depth=-1, min_child_weight=4, num_leaves=256 ................\n",
      "[CV]  max_depth=-1, min_child_weight=3, num_leaves=256, score=0.898659, total= 2.3min\n",
      "[CV] max_depth=-1, min_child_weight=4, num_leaves=256 ................\n",
      "[CV]  max_depth=-1, min_child_weight=4, num_leaves=63, score=0.901951, total= 1.2min\n",
      "[CV] max_depth=-1, min_child_weight=4, num_leaves=256 ................\n",
      "[CV]  max_depth=-1, min_child_weight=4, num_leaves=63, score=0.896230, total=  58.5s\n",
      "[CV] max_depth=-1, min_child_weight=4, num_leaves=256 ................\n",
      "[CV]  max_depth=-1, min_child_weight=3, num_leaves=256, score=0.910632, total= 2.5min\n",
      "[CV] max_depth=-1, min_child_weight=4, num_leaves=256 ................\n",
      "[CV]  max_depth=-1, min_child_weight=4, num_leaves=63, score=0.890824, total= 1.0min\n",
      "[CV] max_depth=-1, min_child_weight=5, num_leaves=31 .................\n",
      "[CV]  max_depth=-1, min_child_weight=4, num_leaves=63, score=0.904919, total= 1.1min\n",
      "[CV] max_depth=-1, min_child_weight=5, num_leaves=31 .................\n",
      "[CV]  max_depth=-1, min_child_weight=5, num_leaves=31, score=0.883786, total=  30.8s\n",
      "[CV] max_depth=-1, min_child_weight=5, num_leaves=31 .................\n",
      "[CV]  max_depth=-1, min_child_weight=5, num_leaves=31, score=0.873722, total=  31.5s\n",
      "[CV] max_depth=-1, min_child_weight=5, num_leaves=31 .................\n",
      "[CV]  max_depth=-1, min_child_weight=4, num_leaves=127, score=0.910409, total= 1.9min\n",
      "[CV] max_depth=-1, min_child_weight=5, num_leaves=31 .................\n",
      "[CV]  max_depth=-1, min_child_weight=5, num_leaves=31, score=0.871560, total=  31.1s\n",
      "[CV] max_depth=-1, min_child_weight=5, num_leaves=63 .................\n"
     ]
    },
    {
     "name": "stderr",
     "output_type": "stream",
     "text": [
      "[Parallel(n_jobs=-1)]: Done  74 tasks      | elapsed: 10.2min\n"
     ]
    },
    {
     "name": "stdout",
     "output_type": "stream",
     "text": [
      "[CV]  max_depth=-1, min_child_weight=5, num_leaves=31, score=0.873284, total=  34.0s\n",
      "[CV] max_depth=-1, min_child_weight=5, num_leaves=63 .................\n",
      "[CV]  max_depth=-1, min_child_weight=4, num_leaves=127, score=0.900360, total= 1.8min\n",
      "[CV] max_depth=-1, min_child_weight=5, num_leaves=63 .................\n",
      "[CV]  max_depth=-1, min_child_weight=4, num_leaves=127, score=0.899335, total= 2.1min\n",
      "[CV] max_depth=-1, min_child_weight=5, num_leaves=63 .................\n",
      "[CV]  max_depth=-1, min_child_weight=4, num_leaves=127, score=0.907208, total= 1.7min\n",
      "[CV] max_depth=-1, min_child_weight=5, num_leaves=63 .................\n",
      "[CV]  max_depth=-1, min_child_weight=4, num_leaves=127, score=0.897054, total= 2.0min\n",
      "[CV] max_depth=-1, min_child_weight=5, num_leaves=127 ................\n",
      "[CV]  max_depth=-1, min_child_weight=5, num_leaves=31, score=0.885813, total=  34.5s\n",
      "[CV] max_depth=-1, min_child_weight=5, num_leaves=127 ................\n",
      "[CV]  max_depth=-1, min_child_weight=4, num_leaves=256, score=0.911926, total= 2.2min\n",
      "[CV] max_depth=-1, min_child_weight=5, num_leaves=127 ................\n",
      "[CV]  max_depth=-1, min_child_weight=4, num_leaves=256, score=0.901781, total= 2.1min\n",
      "[CV] max_depth=-1, min_child_weight=5, num_leaves=127 ................\n",
      "[CV]  max_depth=-1, min_child_weight=4, num_leaves=256, score=0.897856, total= 2.1min\n",
      "[CV] max_depth=-1, min_child_weight=5, num_leaves=127 ................\n",
      "[CV]  max_depth=-1, min_child_weight=5, num_leaves=63, score=0.903355, total=  59.6s\n",
      "[CV] max_depth=-1, min_child_weight=5, num_leaves=256 ................\n",
      "[CV]  max_depth=-1, min_child_weight=4, num_leaves=256, score=0.907082, total= 2.2min\n",
      "[CV] max_depth=-1, min_child_weight=5, num_leaves=256 ................\n",
      "[CV]  max_depth=-1, min_child_weight=5, num_leaves=63, score=0.892819, total= 1.0min\n",
      "[CV] max_depth=-1, min_child_weight=5, num_leaves=256 ................\n",
      "[CV]  max_depth=-1, min_child_weight=5, num_leaves=63, score=0.893545, total=  59.3s\n",
      "[CV] max_depth=-1, min_child_weight=5, num_leaves=256 ................\n",
      "[CV]  max_depth=-1, min_child_weight=4, num_leaves=256, score=0.901816, total= 2.6min\n",
      "[CV] max_depth=-1, min_child_weight=5, num_leaves=256 ................\n",
      "[CV]  max_depth=-1, min_child_weight=5, num_leaves=63, score=0.889941, total= 1.1min\n",
      "[CV] max_depth=5, min_child_weight=1, num_leaves=31 ..................\n"
     ]
    },
    {
     "name": "stderr",
     "output_type": "stream",
     "text": [
      "[Parallel(n_jobs=-1)]: Done  89 tasks      | elapsed: 11.6min\n"
     ]
    },
    {
     "name": "stdout",
     "output_type": "stream",
     "text": [
      "[CV]  max_depth=-1, min_child_weight=5, num_leaves=63, score=0.898591, total= 1.0min\n",
      "[CV] max_depth=5, min_child_weight=1, num_leaves=31 ..................\n",
      "[CV]  max_depth=5, min_child_weight=1, num_leaves=31, score=0.850851, total=  14.5s\n",
      "[CV] max_depth=5, min_child_weight=1, num_leaves=31 ..................\n",
      "[CV]  max_depth=5, min_child_weight=1, num_leaves=31, score=0.847034, total=  14.7s\n",
      "[CV] max_depth=5, min_child_weight=1, num_leaves=31 ..................\n",
      "[CV]  max_depth=5, min_child_weight=1, num_leaves=31, score=0.836401, total=  14.6s\n",
      "[CV] max_depth=5, min_child_weight=1, num_leaves=31 ..................\n",
      "[CV]  max_depth=5, min_child_weight=1, num_leaves=31, score=0.846778, total=  14.1s\n",
      "[CV] max_depth=5, min_child_weight=1, num_leaves=63 ..................\n",
      "[CV]  max_depth=5, min_child_weight=1, num_leaves=31, score=0.847940, total=  14.4s\n",
      "[CV] max_depth=5, min_child_weight=1, num_leaves=63 ..................\n",
      "[CV]  max_depth=5, min_child_weight=1, num_leaves=63, score=0.851683, total=  14.1s\n",
      "[CV] max_depth=5, min_child_weight=1, num_leaves=63 ..................\n",
      "[CV]  max_depth=-1, min_child_weight=5, num_leaves=127, score=0.908905, total= 1.8min\n",
      "[CV] max_depth=5, min_child_weight=1, num_leaves=63 ..................\n",
      "[CV]  max_depth=5, min_child_weight=1, num_leaves=63, score=0.846221, total=  14.4s\n",
      "[CV] max_depth=5, min_child_weight=1, num_leaves=63 ..................\n",
      "[CV]  max_depth=5, min_child_weight=1, num_leaves=63, score=0.836612, total=  17.4s\n",
      "[CV] max_depth=5, min_child_weight=1, num_leaves=127 .................\n",
      "[CV]  max_depth=-1, min_child_weight=5, num_leaves=127, score=0.897469, total= 2.0min\n",
      "[CV] max_depth=5, min_child_weight=1, num_leaves=127 .................\n",
      "[CV]  max_depth=5, min_child_weight=1, num_leaves=63, score=0.845154, total=  15.0s\n",
      "[CV] max_depth=5, min_child_weight=1, num_leaves=127 .................\n",
      "[CV]  max_depth=-1, min_child_weight=5, num_leaves=127, score=0.894683, total= 1.9min\n",
      "[CV] max_depth=5, min_child_weight=1, num_leaves=127 .................\n",
      "[CV]  max_depth=-1, min_child_weight=5, num_leaves=127, score=0.898984, total= 1.9min\n",
      "[CV] max_depth=5, min_child_weight=1, num_leaves=127 .................\n",
      "[CV]  max_depth=-1, min_child_weight=5, num_leaves=127, score=0.906913, total= 1.7min\n",
      "[CV] max_depth=5, min_child_weight=1, num_leaves=256 .................\n"
     ]
    },
    {
     "name": "stderr",
     "output_type": "stream",
     "text": [
      "[Parallel(n_jobs=-1)]: Done 104 tasks      | elapsed: 13.0min\n"
     ]
    },
    {
     "name": "stdout",
     "output_type": "stream",
     "text": [
      "[CV]  max_depth=5, min_child_weight=1, num_leaves=63, score=0.849201, total=  18.3s\n",
      "[CV] max_depth=5, min_child_weight=1, num_leaves=256 .................\n",
      "[CV]  max_depth=5, min_child_weight=1, num_leaves=127, score=0.851683, total=  16.9s\n",
      "[CV] max_depth=5, min_child_weight=1, num_leaves=256 .................\n",
      "[CV]  max_depth=5, min_child_weight=1, num_leaves=127, score=0.846221, total=  16.4s\n",
      "[CV] max_depth=5, min_child_weight=1, num_leaves=256 .................\n",
      "[CV]  max_depth=5, min_child_weight=1, num_leaves=127, score=0.836612, total=  15.4s\n",
      "[CV] max_depth=5, min_child_weight=1, num_leaves=256 .................\n",
      "[CV]  max_depth=5, min_child_weight=1, num_leaves=127, score=0.845154, total=  14.0s\n",
      "[CV] max_depth=5, min_child_weight=2, num_leaves=31 ..................\n",
      "[CV]  max_depth=5, min_child_weight=1, num_leaves=256, score=0.851683, total=  14.3s\n",
      "[CV] max_depth=5, min_child_weight=2, num_leaves=31 ..................\n",
      "[CV]  max_depth=5, min_child_weight=1, num_leaves=127, score=0.849201, total=  15.7s\n",
      "[CV] max_depth=5, min_child_weight=2, num_leaves=31 ..................\n",
      "[CV]  max_depth=5, min_child_weight=1, num_leaves=256, score=0.846221, total=  15.0s\n",
      "[CV] max_depth=5, min_child_weight=2, num_leaves=31 ..................\n",
      "[CV]  max_depth=5, min_child_weight=1, num_leaves=256, score=0.836612, total=  17.0s\n",
      "[CV] max_depth=5, min_child_weight=2, num_leaves=31 ..................\n",
      "[CV]  max_depth=5, min_child_weight=1, num_leaves=256, score=0.845154, total=  15.8s\n",
      "[CV] max_depth=5, min_child_weight=2, num_leaves=63 ..................\n",
      "[CV]  max_depth=5, min_child_weight=1, num_leaves=256, score=0.849201, total=  16.0s\n",
      "[CV] max_depth=5, min_child_weight=2, num_leaves=63 ..................\n",
      "[CV]  max_depth=5, min_child_weight=2, num_leaves=31, score=0.847716, total=  13.9s\n",
      "[CV] max_depth=5, min_child_weight=2, num_leaves=63 ..................\n",
      "[CV]  max_depth=-1, min_child_weight=5, num_leaves=256, score=0.899142, total= 2.1min\n",
      "[CV] max_depth=5, min_child_weight=2, num_leaves=63 ..................\n",
      "[CV]  max_depth=5, min_child_weight=2, num_leaves=31, score=0.846833, total=  14.1s\n",
      "[CV] max_depth=5, min_child_weight=2, num_leaves=63 ..................\n",
      "[CV]  max_depth=5, min_child_weight=2, num_leaves=31, score=0.837011, total=  15.1s\n",
      "[CV] max_depth=5, min_child_weight=2, num_leaves=127 .................\n",
      "[CV]  max_depth=-1, min_child_weight=5, num_leaves=256, score=0.910811, total= 2.3min\n",
      "[CV] max_depth=5, min_child_weight=2, num_leaves=127 .................\n",
      "[CV]  max_depth=5, min_child_weight=2, num_leaves=31, score=0.844719, total=  16.1s\n",
      "[CV] max_depth=5, min_child_weight=2, num_leaves=127 .................\n"
     ]
    },
    {
     "name": "stderr",
     "output_type": "stream",
     "text": [
      "[Parallel(n_jobs=-1)]: Done 121 tasks      | elapsed: 13.6min\n"
     ]
    },
    {
     "name": "stdout",
     "output_type": "stream",
     "text": [
      "[CV]  max_depth=-1, min_child_weight=5, num_leaves=256, score=0.898703, total= 2.2min\n",
      "[CV] max_depth=5, min_child_weight=2, num_leaves=127 .................\n",
      "[CV]  max_depth=5, min_child_weight=2, num_leaves=31, score=0.849094, total=  17.0s\n",
      "[CV] max_depth=5, min_child_weight=2, num_leaves=127 .................\n",
      "[CV]  max_depth=-1, min_child_weight=5, num_leaves=256, score=0.896286, total= 2.2min\n",
      "[CV] max_depth=5, min_child_weight=2, num_leaves=256 .................\n",
      "[CV]  max_depth=5, min_child_weight=2, num_leaves=63, score=0.850973, total=  19.9s\n",
      "[CV] max_depth=5, min_child_weight=2, num_leaves=256 .................\n",
      "[CV]  max_depth=5, min_child_weight=2, num_leaves=63, score=0.848060, total=  13.8s\n",
      "[CV] max_depth=5, min_child_weight=2, num_leaves=256 .................\n",
      "[CV]  max_depth=5, min_child_weight=2, num_leaves=63, score=0.835730, total=  15.5s\n",
      "[CV] max_depth=5, min_child_weight=2, num_leaves=256 .................\n",
      "[CV]  max_depth=5, min_child_weight=2, num_leaves=63, score=0.844726, total=  18.5s\n",
      "[CV] max_depth=5, min_child_weight=2, num_leaves=256 .................\n",
      "[CV]  max_depth=5, min_child_weight=2, num_leaves=127, score=0.850973, total=  14.6s\n",
      "[CV] max_depth=5, min_child_weight=3, num_leaves=31 ..................\n",
      "[CV]  max_depth=5, min_child_weight=2, num_leaves=63, score=0.846070, total=  17.1s\n",
      "[CV] max_depth=5, min_child_weight=3, num_leaves=31 ..................\n",
      "[CV]  max_depth=5, min_child_weight=2, num_leaves=127, score=0.844726, total=  16.1s\n",
      "[CV] max_depth=5, min_child_weight=3, num_leaves=31 ..................\n",
      "[CV]  max_depth=5, min_child_weight=2, num_leaves=127, score=0.846070, total=  14.2s\n",
      "[CV] max_depth=5, min_child_weight=3, num_leaves=31 ..................\n",
      "[CV]  max_depth=5, min_child_weight=2, num_leaves=127, score=0.835730, total=  17.0s\n",
      "[CV] max_depth=5, min_child_weight=3, num_leaves=31 ..................\n",
      "[CV]  max_depth=5, min_child_weight=2, num_leaves=127, score=0.848060, total=  14.8s\n",
      "[CV] max_depth=5, min_child_weight=3, num_leaves=63 ..................\n",
      "[CV]  max_depth=5, min_child_weight=2, num_leaves=256, score=0.850973, total=  14.8s\n",
      "[CV] max_depth=5, min_child_weight=3, num_leaves=63 ..................\n",
      "[CV]  max_depth=5, min_child_weight=2, num_leaves=256, score=0.835730, total=  14.4s\n",
      "[CV] max_depth=5, min_child_weight=3, num_leaves=63 ..................\n",
      "[CV]  max_depth=5, min_child_weight=2, num_leaves=256, score=0.846070, total=  14.6s\n",
      "[CV] max_depth=5, min_child_weight=3, num_leaves=63 ..................\n",
      "[CV]  max_depth=5, min_child_weight=2, num_leaves=256, score=0.844726, total=  18.5s\n",
      "[CV] max_depth=5, min_child_weight=3, num_leaves=63 ..................\n"
     ]
    },
    {
     "name": "stderr",
     "output_type": "stream",
     "text": [
      "[Parallel(n_jobs=-1)]: Done 138 tasks      | elapsed: 14.1min\n"
     ]
    },
    {
     "name": "stdout",
     "output_type": "stream",
     "text": [
      "[CV]  max_depth=5, min_child_weight=2, num_leaves=256, score=0.848060, total=  16.1s\n",
      "[CV] max_depth=5, min_child_weight=3, num_leaves=127 .................\n",
      "[CV]  max_depth=5, min_child_weight=3, num_leaves=31, score=0.849040, total=  14.8s\n",
      "[CV] max_depth=5, min_child_weight=3, num_leaves=127 .................\n",
      "[CV]  max_depth=5, min_child_weight=3, num_leaves=31, score=0.845205, total=  16.3s\n",
      "[CV] max_depth=5, min_child_weight=3, num_leaves=127 .................\n",
      "[CV]  max_depth=5, min_child_weight=3, num_leaves=31, score=0.844297, total=  14.7s\n",
      "[CV] max_depth=5, min_child_weight=3, num_leaves=127 .................\n",
      "[CV]  max_depth=5, min_child_weight=3, num_leaves=31, score=0.846099, total=  16.6s\n",
      "[CV] max_depth=5, min_child_weight=3, num_leaves=127 .................\n",
      "[CV]  max_depth=-1, min_child_weight=5, num_leaves=256, score=0.906515, total= 2.6min\n",
      "[CV] max_depth=5, min_child_weight=3, num_leaves=256 .................\n",
      "[CV]  max_depth=5, min_child_weight=3, num_leaves=31, score=0.833936, total=  21.0s\n",
      "[CV] max_depth=5, min_child_weight=3, num_leaves=256 .................\n",
      "[CV]  max_depth=5, min_child_weight=3, num_leaves=63, score=0.851614, total=  16.9s\n",
      "[CV] max_depth=5, min_child_weight=3, num_leaves=256 .................\n",
      "[CV]  max_depth=5, min_child_weight=3, num_leaves=63, score=0.845511, total=  17.5s\n",
      "[CV] max_depth=5, min_child_weight=3, num_leaves=256 .................\n",
      "[CV]  max_depth=5, min_child_weight=3, num_leaves=63, score=0.845150, total=  15.0s\n",
      "[CV] max_depth=5, min_child_weight=3, num_leaves=256 .................\n",
      "[CV]  max_depth=5, min_child_weight=3, num_leaves=63, score=0.832995, total=  15.6s\n",
      "[CV] max_depth=5, min_child_weight=4, num_leaves=31 ..................\n",
      "[CV]  max_depth=5, min_child_weight=3, num_leaves=127, score=0.851614, total=  15.9s\n",
      "[CV] max_depth=5, min_child_weight=4, num_leaves=31 ..................\n",
      "[CV]  max_depth=5, min_child_weight=3, num_leaves=127, score=0.845511, total=  16.1s\n",
      "[CV] max_depth=5, min_child_weight=4, num_leaves=31 ..................\n",
      "[CV]  max_depth=5, min_child_weight=3, num_leaves=127, score=0.832995, total=  17.2s\n",
      "[CV] max_depth=5, min_child_weight=4, num_leaves=31 ..................\n",
      "[CV]  max_depth=5, min_child_weight=3, num_leaves=127, score=0.845150, total=  15.3s\n",
      "[CV] max_depth=5, min_child_weight=4, num_leaves=31 ..................\n",
      "[CV]  max_depth=5, min_child_weight=3, num_leaves=63, score=0.848227, total=  21.6s\n",
      "[CV] max_depth=5, min_child_weight=4, num_leaves=63 ..................\n",
      "[CV]  max_depth=5, min_child_weight=3, num_leaves=127, score=0.848227, total=  14.4s\n",
      "[CV] max_depth=5, min_child_weight=4, num_leaves=63 ..................\n",
      "[CV]  max_depth=5, min_child_weight=3, num_leaves=256, score=0.832995, total=  14.4s\n",
      "[CV] max_depth=5, min_child_weight=4, num_leaves=63 ..................\n",
      "[CV]  max_depth=5, min_child_weight=3, num_leaves=256, score=0.851614, total=  17.0s\n",
      "[CV] max_depth=5, min_child_weight=4, num_leaves=63 ..................\n"
     ]
    },
    {
     "name": "stderr",
     "output_type": "stream",
     "text": [
      "[Parallel(n_jobs=-1)]: Done 157 tasks      | elapsed: 14.5min\n"
     ]
    },
    {
     "name": "stdout",
     "output_type": "stream",
     "text": [
      "[CV]  max_depth=5, min_child_weight=3, num_leaves=256, score=0.848227, total=  13.9s\n",
      "[CV] max_depth=5, min_child_weight=4, num_leaves=63 ..................\n",
      "[CV]  max_depth=5, min_child_weight=3, num_leaves=256, score=0.845150, total=  18.5s\n",
      "[CV] max_depth=5, min_child_weight=4, num_leaves=127 .................\n",
      "[CV]  max_depth=5, min_child_weight=4, num_leaves=31, score=0.851021, total=  16.2s\n",
      "[CV] max_depth=5, min_child_weight=4, num_leaves=127 .................\n",
      "[CV]  max_depth=5, min_child_weight=3, num_leaves=256, score=0.845511, total=  21.4s\n",
      "[CV] max_depth=5, min_child_weight=4, num_leaves=127 .................\n",
      "[CV]  max_depth=5, min_child_weight=4, num_leaves=31, score=0.835455, total=  16.0s\n",
      "[CV] max_depth=5, min_child_weight=4, num_leaves=127 .................\n",
      "[CV]  max_depth=5, min_child_weight=4, num_leaves=31, score=0.843646, total=  16.6s\n",
      "[CV] max_depth=5, min_child_weight=4, num_leaves=127 .................\n",
      "[CV]  max_depth=5, min_child_weight=4, num_leaves=31, score=0.841132, total=  14.7s\n",
      "[CV] max_depth=5, min_child_weight=4, num_leaves=256 .................\n",
      "[CV]  max_depth=5, min_child_weight=4, num_leaves=31, score=0.846589, total=  15.3s\n",
      "[CV] max_depth=5, min_child_weight=4, num_leaves=256 .................\n",
      "[CV]  max_depth=5, min_child_weight=4, num_leaves=63, score=0.840670, total=  14.2s\n",
      "[CV] max_depth=5, min_child_weight=4, num_leaves=256 .................\n",
      "[CV]  max_depth=5, min_child_weight=4, num_leaves=63, score=0.834283, total=  14.3s\n",
      "[CV] max_depth=5, min_child_weight=4, num_leaves=256 .................\n",
      "[CV]  max_depth=5, min_child_weight=4, num_leaves=63, score=0.843526, total=  15.4s\n",
      "[CV] max_depth=5, min_child_weight=4, num_leaves=256 .................\n",
      "[CV]  max_depth=5, min_child_weight=4, num_leaves=63, score=0.848160, total=  19.6s\n",
      "[CV] max_depth=5, min_child_weight=5, num_leaves=31 ..................\n",
      "[CV]  max_depth=5, min_child_weight=4, num_leaves=63, score=0.846497, total=  14.9s\n",
      "[CV] max_depth=5, min_child_weight=5, num_leaves=31 ..................\n",
      "[CV]  max_depth=5, min_child_weight=4, num_leaves=127, score=0.840670, total=  16.6s\n",
      "[CV] max_depth=5, min_child_weight=5, num_leaves=31 ..................\n",
      "[CV]  max_depth=5, min_child_weight=4, num_leaves=127, score=0.848160, total=  16.9s\n",
      "[CV] max_depth=5, min_child_weight=5, num_leaves=31 ..................\n",
      "[CV]  max_depth=5, min_child_weight=4, num_leaves=127, score=0.843526, total=  14.8s\n",
      "[CV] max_depth=5, min_child_weight=5, num_leaves=31 ..................\n",
      "[CV]  max_depth=5, min_child_weight=4, num_leaves=256, score=0.848160, total=  14.8s\n",
      "[CV] max_depth=5, min_child_weight=5, num_leaves=63 ..................\n",
      "[CV]  max_depth=5, min_child_weight=4, num_leaves=127, score=0.846497, total=  16.0s\n",
      "[CV] max_depth=5, min_child_weight=5, num_leaves=63 ..................\n",
      "[CV]  max_depth=5, min_child_weight=4, num_leaves=127, score=0.834283, total=  20.2s\n",
      "[CV] max_depth=5, min_child_weight=5, num_leaves=63 ..................\n"
     ]
    },
    {
     "name": "stderr",
     "output_type": "stream",
     "text": [
      "[Parallel(n_jobs=-1)]: Done 176 tasks      | elapsed: 15.0min\n"
     ]
    },
    {
     "name": "stdout",
     "output_type": "stream",
     "text": [
      "[CV]  max_depth=5, min_child_weight=4, num_leaves=256, score=0.840670, total=  14.6s\n",
      "[CV] max_depth=5, min_child_weight=5, num_leaves=63 ..................\n",
      "[CV]  max_depth=5, min_child_weight=4, num_leaves=256, score=0.834283, total=  16.5s\n",
      "[CV] max_depth=5, min_child_weight=5, num_leaves=63 ..................\n",
      "[CV]  max_depth=5, min_child_weight=4, num_leaves=256, score=0.843526, total=  14.6s\n",
      "[CV] max_depth=5, min_child_weight=5, num_leaves=127 .................\n",
      "[CV]  max_depth=5, min_child_weight=4, num_leaves=256, score=0.846497, total=  16.5s\n",
      "[CV] max_depth=5, min_child_weight=5, num_leaves=127 .................\n",
      "[CV]  max_depth=5, min_child_weight=5, num_leaves=31, score=0.840239, total=  14.4s\n",
      "[CV] max_depth=5, min_child_weight=5, num_leaves=127 .................\n",
      "[CV]  max_depth=5, min_child_weight=5, num_leaves=31, score=0.847232, total=  19.5s\n",
      "[CV] max_depth=5, min_child_weight=5, num_leaves=127 .................\n",
      "[CV]  max_depth=5, min_child_weight=5, num_leaves=31, score=0.833200, total=  16.2s\n",
      "[CV] max_depth=5, min_child_weight=5, num_leaves=127 .................\n",
      "[CV]  max_depth=5, min_child_weight=5, num_leaves=31, score=0.845589, total=  15.4s\n",
      "[CV] max_depth=5, min_child_weight=5, num_leaves=256 .................\n",
      "[CV]  max_depth=5, min_child_weight=5, num_leaves=63, score=0.848304, total=  16.0s\n",
      "[CV] max_depth=5, min_child_weight=5, num_leaves=256 .................\n",
      "[CV]  max_depth=5, min_child_weight=5, num_leaves=31, score=0.842308, total=  18.6s\n",
      "[CV] max_depth=5, min_child_weight=5, num_leaves=256 .................\n",
      "[CV]  max_depth=5, min_child_weight=5, num_leaves=63, score=0.840239, total=  16.2s\n",
      "[CV] max_depth=5, min_child_weight=5, num_leaves=256 .................\n",
      "[CV]  max_depth=5, min_child_weight=5, num_leaves=63, score=0.842507, total=  15.3s\n",
      "[CV] max_depth=5, min_child_weight=5, num_leaves=256 .................\n",
      "[CV]  max_depth=5, min_child_weight=5, num_leaves=127, score=0.848304, total=  14.1s\n",
      "[CV] max_depth=6, min_child_weight=1, num_leaves=31 ..................\n",
      "[CV]  max_depth=5, min_child_weight=5, num_leaves=63, score=0.833200, total=  18.1s\n",
      "[CV] max_depth=6, min_child_weight=1, num_leaves=31 ..................\n",
      "[CV]  max_depth=5, min_child_weight=5, num_leaves=63, score=0.843769, total=  16.6s\n",
      "[CV] max_depth=6, min_child_weight=1, num_leaves=31 ..................\n",
      "[CV]  max_depth=5, min_child_weight=5, num_leaves=127, score=0.833200, total=  16.0s\n",
      "[CV] max_depth=6, min_child_weight=1, num_leaves=31 ..................\n",
      "[CV]  max_depth=5, min_child_weight=5, num_leaves=127, score=0.840239, total=  16.5s\n",
      "[CV] max_depth=6, min_child_weight=1, num_leaves=31 ..................\n",
      "[CV]  max_depth=5, min_child_weight=5, num_leaves=127, score=0.842507, total=  18.3s\n",
      "[CV] max_depth=6, min_child_weight=1, num_leaves=63 ..................\n",
      "[CV]  max_depth=5, min_child_weight=5, num_leaves=256, score=0.843769, total=  13.7s\n",
      "[CV] max_depth=6, min_child_weight=1, num_leaves=63 ..................\n",
      "[CV]  max_depth=5, min_child_weight=5, num_leaves=127, score=0.843769, total=  16.9s\n",
      "[CV]  max_depth=5, min_child_weight=5, num_leaves=256, score=0.848304, total=  16.9s\n",
      "[CV] max_depth=6, min_child_weight=1, num_leaves=63 ..................\n",
      "[CV] max_depth=6, min_child_weight=1, num_leaves=63 ..................\n"
     ]
    },
    {
     "name": "stderr",
     "output_type": "stream",
     "text": [
      "[Parallel(n_jobs=-1)]: Done 197 tasks      | elapsed: 15.5min\n"
     ]
    },
    {
     "name": "stdout",
     "output_type": "stream",
     "text": [
      "[CV]  max_depth=5, min_child_weight=5, num_leaves=256, score=0.840239, total=  15.6s\n",
      "[CV] max_depth=6, min_child_weight=1, num_leaves=63 ..................\n",
      "[CV]  max_depth=5, min_child_weight=5, num_leaves=256, score=0.842507, total=  16.9s\n",
      "[CV] max_depth=6, min_child_weight=1, num_leaves=127 .................\n",
      "[CV]  max_depth=5, min_child_weight=5, num_leaves=256, score=0.833200, total=  18.2s\n",
      "[CV] max_depth=6, min_child_weight=1, num_leaves=127 .................\n",
      "[CV]  max_depth=6, min_child_weight=1, num_leaves=31, score=0.860488, total=  20.3s\n",
      "[CV] max_depth=6, min_child_weight=1, num_leaves=127 .................\n",
      "[CV]  max_depth=6, min_child_weight=1, num_leaves=31, score=0.865219, total=  21.7s\n",
      "[CV] max_depth=6, min_child_weight=1, num_leaves=127 .................\n",
      "[CV]  max_depth=6, min_child_weight=1, num_leaves=31, score=0.854262, total=  20.8s\n",
      "[CV] max_depth=6, min_child_weight=1, num_leaves=127 .................\n",
      "[CV]  max_depth=6, min_child_weight=1, num_leaves=31, score=0.859975, total=  19.4s\n",
      "[CV] max_depth=6, min_child_weight=1, num_leaves=256 .................\n",
      "[CV]  max_depth=6, min_child_weight=1, num_leaves=31, score=0.862705, total=  21.2s\n",
      "[CV] max_depth=6, min_child_weight=1, num_leaves=256 .................\n",
      "[CV]  max_depth=6, min_child_weight=1, num_leaves=63, score=0.865646, total=  20.0s\n",
      "[CV] max_depth=6, min_child_weight=1, num_leaves=256 .................\n",
      "[CV]  max_depth=6, min_child_weight=1, num_leaves=63, score=0.858322, total=  20.6s\n",
      "[CV] max_depth=6, min_child_weight=1, num_leaves=256 .................\n",
      "[CV]  max_depth=6, min_child_weight=1, num_leaves=63, score=0.873178, total=  24.3s\n",
      "[CV] max_depth=6, min_child_weight=1, num_leaves=256 .................\n",
      "[CV]  max_depth=6, min_child_weight=1, num_leaves=63, score=0.863507, total=  24.2s\n",
      "[CV] max_depth=6, min_child_weight=2, num_leaves=31 ..................\n",
      "[CV]  max_depth=6, min_child_weight=1, num_leaves=63, score=0.863620, total=  25.5s\n",
      "[CV]  max_depth=6, min_child_weight=1, num_leaves=127, score=0.873178, total=  23.0s\n",
      "[CV] max_depth=6, min_child_weight=2, num_leaves=31 ..................\n",
      "[CV] max_depth=6, min_child_weight=2, num_leaves=31 ..................\n",
      "[CV]  max_depth=6, min_child_weight=1, num_leaves=127, score=0.863507, total=  22.6s\n",
      "[CV] max_depth=6, min_child_weight=2, num_leaves=31 ..................\n",
      "[CV]  max_depth=6, min_child_weight=1, num_leaves=127, score=0.865646, total=  20.2s\n",
      "[CV]  max_depth=6, min_child_weight=1, num_leaves=127, score=0.858322, total=  22.3s\n",
      "[CV] max_depth=6, min_child_weight=2, num_leaves=31 ..................\n",
      "[CV] max_depth=6, min_child_weight=2, num_leaves=63 ..................\n",
      "[CV]  max_depth=6, min_child_weight=1, num_leaves=127, score=0.863620, total=  22.8s\n",
      "[CV] max_depth=6, min_child_weight=2, num_leaves=63 ..................\n",
      "[CV]  max_depth=6, min_child_weight=1, num_leaves=256, score=0.873178, total=  21.2s\n",
      "[CV] max_depth=6, min_child_weight=2, num_leaves=63 ..................\n",
      "[CV]  max_depth=6, min_child_weight=1, num_leaves=256, score=0.863507, total=  21.9s\n",
      "[CV] max_depth=6, min_child_weight=2, num_leaves=63 ..................\n",
      "[CV]  max_depth=6, min_child_weight=1, num_leaves=256, score=0.858322, total=  21.6s\n",
      "[CV] max_depth=6, min_child_weight=2, num_leaves=63 ..................\n"
     ]
    },
    {
     "name": "stderr",
     "output_type": "stream",
     "text": [
      "[Parallel(n_jobs=-1)]: Done 218 tasks      | elapsed: 16.3min\n"
     ]
    },
    {
     "name": "stdout",
     "output_type": "stream",
     "text": [
      "[CV]  max_depth=6, min_child_weight=1, num_leaves=256, score=0.865646, total=  22.4s\n",
      "[CV] max_depth=6, min_child_weight=2, num_leaves=127 .................\n",
      "[CV]  max_depth=6, min_child_weight=2, num_leaves=31, score=0.867892, total=  21.1s\n",
      "[CV] max_depth=6, min_child_weight=2, num_leaves=127 .................\n",
      "[CV]  max_depth=6, min_child_weight=1, num_leaves=256, score=0.863620, total=  24.7s\n",
      "[CV] max_depth=6, min_child_weight=2, num_leaves=127 .................\n",
      "[CV]  max_depth=6, min_child_weight=2, num_leaves=31, score=0.852976, total=  20.3s\n",
      "[CV] max_depth=6, min_child_weight=2, num_leaves=127 .................\n",
      "[CV]  max_depth=6, min_child_weight=2, num_leaves=31, score=0.857643, total=  22.7s\n",
      "[CV] max_depth=6, min_child_weight=2, num_leaves=127 .................\n",
      "[CV]  max_depth=6, min_child_weight=2, num_leaves=31, score=0.861490, total=  23.3s\n",
      "[CV] max_depth=6, min_child_weight=2, num_leaves=256 .................\n",
      "[CV]  max_depth=6, min_child_weight=2, num_leaves=31, score=0.862833, total=  21.2s\n",
      "[CV]  max_depth=6, min_child_weight=2, num_leaves=63, score=0.872174, total=  21.1s\n",
      "[CV] max_depth=6, min_child_weight=2, num_leaves=256 .................\n",
      "[CV] max_depth=6, min_child_weight=2, num_leaves=256 .................\n",
      "[CV]  max_depth=6, min_child_weight=2, num_leaves=63, score=0.865815, total=  22.1s\n",
      "[CV] max_depth=6, min_child_weight=2, num_leaves=256 .................\n",
      "[CV]  max_depth=6, min_child_weight=2, num_leaves=63, score=0.859761, total=  21.3s\n",
      "[CV] max_depth=6, min_child_weight=2, num_leaves=256 .................\n",
      "[CV]  max_depth=6, min_child_weight=2, num_leaves=63, score=0.862906, total=  23.3s\n",
      "[CV] max_depth=6, min_child_weight=3, num_leaves=31 ..................\n",
      "[CV]  max_depth=6, min_child_weight=2, num_leaves=63, score=0.871304, total=  21.1s\n",
      "[CV] max_depth=6, min_child_weight=3, num_leaves=31 ..................\n",
      "[CV]  max_depth=6, min_child_weight=2, num_leaves=127, score=0.872174, total=  19.8s\n",
      "[CV] max_depth=6, min_child_weight=3, num_leaves=31 ..................\n",
      "[CV]  max_depth=6, min_child_weight=2, num_leaves=127, score=0.865815, total=  23.0s\n",
      "[CV] max_depth=6, min_child_weight=3, num_leaves=31 ..................\n",
      "[CV]  max_depth=6, min_child_weight=2, num_leaves=127, score=0.862906, total=  22.7s\n",
      "[CV] max_depth=6, min_child_weight=3, num_leaves=31 ..................\n",
      "[CV]  max_depth=6, min_child_weight=2, num_leaves=127, score=0.859761, total=  23.6s\n",
      "[CV] max_depth=6, min_child_weight=3, num_leaves=63 ..................\n",
      "[CV]  max_depth=6, min_child_weight=2, num_leaves=256, score=0.859761, total=  19.6s\n",
      "[CV] max_depth=6, min_child_weight=3, num_leaves=63 ..................\n",
      "[CV]  max_depth=6, min_child_weight=2, num_leaves=256, score=0.865815, total=  23.0s\n",
      "[CV] max_depth=6, min_child_weight=3, num_leaves=63 ..................\n",
      "[CV]  max_depth=6, min_child_weight=2, num_leaves=256, score=0.872174, total=  26.7s\n",
      "[CV] max_depth=6, min_child_weight=3, num_leaves=63 ..................\n",
      "[CV]  max_depth=6, min_child_weight=2, num_leaves=127, score=0.871304, total=  27.0s\n",
      "[CV] max_depth=6, min_child_weight=3, num_leaves=63 ..................\n",
      "[CV]  max_depth=6, min_child_weight=2, num_leaves=256, score=0.862906, total=  22.3s\n",
      "[CV] max_depth=6, min_child_weight=3, num_leaves=127 .................\n",
      "[CV]  max_depth=6, min_child_weight=2, num_leaves=256, score=0.871304, total=  20.4s\n",
      "[CV] max_depth=6, min_child_weight=3, num_leaves=127 .................\n",
      "[CV]  max_depth=6, min_child_weight=3, num_leaves=31, score=0.865480, total=  20.2s\n",
      "[CV] max_depth=6, min_child_weight=3, num_leaves=127 .................\n"
     ]
    },
    {
     "name": "stderr",
     "output_type": "stream",
     "text": [
      "[Parallel(n_jobs=-1)]: Done 241 tasks      | elapsed: 16.9min\n"
     ]
    },
    {
     "name": "stdout",
     "output_type": "stream",
     "text": [
      "[CV]  max_depth=6, min_child_weight=3, num_leaves=31, score=0.859966, total=  20.1s\n",
      "[CV] max_depth=6, min_child_weight=3, num_leaves=127 .................\n",
      "[CV]  max_depth=6, min_child_weight=3, num_leaves=31, score=0.854034, total=  20.8s\n",
      "[CV] max_depth=6, min_child_weight=3, num_leaves=127 .................\n",
      "[CV]  max_depth=6, min_child_weight=3, num_leaves=31, score=0.860106, total=  20.6s\n",
      "[CV] max_depth=6, min_child_weight=3, num_leaves=256 .................\n",
      "[CV]  max_depth=6, min_child_weight=3, num_leaves=31, score=0.863511, total=  21.2s\n",
      "[CV] max_depth=6, min_child_weight=3, num_leaves=256 .................\n",
      "[CV]  max_depth=6, min_child_weight=3, num_leaves=63, score=0.863524, total=  20.9s\n",
      "[CV] max_depth=6, min_child_weight=3, num_leaves=256 .................\n",
      "[CV]  max_depth=6, min_child_weight=3, num_leaves=63, score=0.870971, total=  24.2s\n",
      "[CV] max_depth=6, min_child_weight=3, num_leaves=256 .................\n",
      "[CV]  max_depth=6, min_child_weight=3, num_leaves=127, score=0.870971, total=  20.6s\n",
      "[CV] max_depth=6, min_child_weight=3, num_leaves=256 .................\n",
      "[CV]  max_depth=6, min_child_weight=3, num_leaves=63, score=0.857245, total=  21.9s\n",
      "[CV] max_depth=6, min_child_weight=4, num_leaves=31 ..................\n",
      "[CV]  max_depth=6, min_child_weight=3, num_leaves=63, score=0.864952, total=  23.2s\n",
      "[CV] max_depth=6, min_child_weight=4, num_leaves=31 ..................\n",
      "[CV]  max_depth=6, min_child_weight=3, num_leaves=63, score=0.868913, total=  23.0s\n",
      "[CV] max_depth=6, min_child_weight=4, num_leaves=31 ..................\n",
      "[CV]  max_depth=6, min_child_weight=3, num_leaves=127, score=0.863524, total=  24.1s\n",
      "[CV] max_depth=6, min_child_weight=4, num_leaves=31 ..................\n",
      "[CV]  max_depth=6, min_child_weight=3, num_leaves=127, score=0.857245, total=  22.2s\n",
      "[CV] max_depth=6, min_child_weight=4, num_leaves=31 ..................\n",
      "[CV]  max_depth=6, min_child_weight=3, num_leaves=127, score=0.864952, total=  21.1s\n",
      "[CV] max_depth=6, min_child_weight=4, num_leaves=63 ..................\n",
      "[CV]  max_depth=6, min_child_weight=3, num_leaves=127, score=0.868913, total=  21.3s\n",
      "[CV] max_depth=6, min_child_weight=4, num_leaves=63 ..................\n",
      "[CV]  max_depth=6, min_child_weight=3, num_leaves=256, score=0.870971, total=  21.2s\n",
      "[CV] max_depth=6, min_child_weight=4, num_leaves=63 ..................\n",
      "[CV]  max_depth=6, min_child_weight=3, num_leaves=256, score=0.863524, total=  23.6s\n",
      "[CV] max_depth=6, min_child_weight=4, num_leaves=63 ..................\n",
      "[CV]  max_depth=6, min_child_weight=3, num_leaves=256, score=0.864952, total=  21.5s\n",
      "[CV] max_depth=6, min_child_weight=4, num_leaves=63 ..................\n",
      "[CV]  max_depth=6, min_child_weight=3, num_leaves=256, score=0.857245, total=  21.8s\n",
      "[CV] max_depth=6, min_child_weight=4, num_leaves=127 .................\n",
      "[CV]  max_depth=6, min_child_weight=3, num_leaves=256, score=0.868913, total=  20.5s\n",
      "[CV] max_depth=6, min_child_weight=4, num_leaves=127 .................\n",
      "[CV]  max_depth=6, min_child_weight=4, num_leaves=31, score=0.864411, total=  20.6s\n",
      "[CV] max_depth=6, min_child_weight=4, num_leaves=127 .................\n",
      "[CV]  max_depth=6, min_child_weight=4, num_leaves=31, score=0.847736, total=  21.2s\n",
      "[CV] max_depth=6, min_child_weight=4, num_leaves=127 .................\n",
      "[CV]  max_depth=6, min_child_weight=4, num_leaves=31, score=0.856703, total=  23.0s\n",
      "[CV] max_depth=6, min_child_weight=4, num_leaves=127 .................\n",
      "[CV]  max_depth=6, min_child_weight=4, num_leaves=31, score=0.862364, total=  19.3s\n",
      "[CV] max_depth=6, min_child_weight=4, num_leaves=256 .................\n"
     ]
    },
    {
     "name": "stderr",
     "output_type": "stream",
     "text": [
      "[Parallel(n_jobs=-1)]: Done 264 tasks      | elapsed: 17.7min\n"
     ]
    },
    {
     "name": "stdout",
     "output_type": "stream",
     "text": [
      "[CV]  max_depth=6, min_child_weight=4, num_leaves=31, score=0.856025, total=  23.7s\n",
      "[CV] max_depth=6, min_child_weight=4, num_leaves=256 .................\n",
      "[CV]  max_depth=6, min_child_weight=4, num_leaves=63, score=0.869844, total=  21.2s\n",
      "[CV] max_depth=6, min_child_weight=4, num_leaves=256 .................\n",
      "[CV]  max_depth=6, min_child_weight=4, num_leaves=63, score=0.855355, total=  18.6s\n",
      "[CV] max_depth=6, min_child_weight=4, num_leaves=256 .................\n",
      "[CV]  max_depth=6, min_child_weight=4, num_leaves=63, score=0.859836, total=  22.9s\n",
      "[CV] max_depth=6, min_child_weight=4, num_leaves=256 .................\n",
      "[CV]  max_depth=6, min_child_weight=4, num_leaves=63, score=0.866501, total=  21.7s\n",
      "[CV] max_depth=6, min_child_weight=5, num_leaves=31 ..................\n",
      "[CV]  max_depth=6, min_child_weight=4, num_leaves=63, score=0.860733, total=  23.6s\n",
      "[CV] max_depth=6, min_child_weight=5, num_leaves=31 ..................\n",
      "[CV]  max_depth=6, min_child_weight=4, num_leaves=127, score=0.869844, total=  22.5s\n",
      "[CV] max_depth=6, min_child_weight=5, num_leaves=31 ..................\n",
      "[CV]  max_depth=6, min_child_weight=4, num_leaves=127, score=0.859836, total=  21.1s\n",
      "[CV] max_depth=6, min_child_weight=5, num_leaves=31 ..................\n",
      "[CV]  max_depth=6, min_child_weight=4, num_leaves=127, score=0.855355, total=  22.1s\n",
      "[CV] max_depth=6, min_child_weight=5, num_leaves=31 ..................\n",
      "[CV]  max_depth=6, min_child_weight=4, num_leaves=256, score=0.869844, total=  20.2s\n",
      "[CV] max_depth=6, min_child_weight=5, num_leaves=63 ..................\n",
      "[CV]  max_depth=6, min_child_weight=4, num_leaves=127, score=0.860733, total=  24.7s\n",
      "[CV] max_depth=6, min_child_weight=5, num_leaves=63 ..................\n",
      "[CV]  max_depth=6, min_child_weight=4, num_leaves=127, score=0.866501, total=  23.6s\n",
      "[CV] max_depth=6, min_child_weight=5, num_leaves=63 ..................\n",
      "[CV]  max_depth=6, min_child_weight=4, num_leaves=256, score=0.859836, total=  23.8s\n",
      "[CV] max_depth=6, min_child_weight=5, num_leaves=63 ..................\n",
      "[CV]  max_depth=6, min_child_weight=4, num_leaves=256, score=0.855355, total=  23.0s\n",
      "[CV] max_depth=6, min_child_weight=5, num_leaves=63 ..................\n",
      "[CV]  max_depth=6, min_child_weight=4, num_leaves=256, score=0.860733, total=  20.7s\n",
      "[CV] max_depth=6, min_child_weight=5, num_leaves=127 .................\n",
      "[CV]  max_depth=6, min_child_weight=4, num_leaves=256, score=0.866501, total=  25.7s\n",
      "[CV] max_depth=6, min_child_weight=5, num_leaves=127 .................\n",
      "[CV]  max_depth=6, min_child_weight=5, num_leaves=31, score=0.864542, total=  19.5s\n",
      "[CV] max_depth=6, min_child_weight=5, num_leaves=127 .................\n",
      "[CV]  max_depth=6, min_child_weight=5, num_leaves=31, score=0.854619, total=  19.2s\n",
      "[CV] max_depth=6, min_child_weight=5, num_leaves=127 .................\n",
      "[CV]  max_depth=6, min_child_weight=5, num_leaves=31, score=0.851682, total=  20.3s\n",
      "[CV] max_depth=6, min_child_weight=5, num_leaves=127 .................\n",
      "[CV]  max_depth=6, min_child_weight=5, num_leaves=31, score=0.856387, total=  21.9s\n",
      "[CV] max_depth=6, min_child_weight=5, num_leaves=256 .................\n",
      "[CV]  max_depth=6, min_child_weight=5, num_leaves=31, score=0.864271, total=  21.7s\n",
      "[CV] max_depth=6, min_child_weight=5, num_leaves=256 .................\n",
      "[CV]  max_depth=6, min_child_weight=5, num_leaves=63, score=0.869275, total=  21.7s\n",
      "[CV] max_depth=6, min_child_weight=5, num_leaves=256 .................\n",
      "[CV]  max_depth=6, min_child_weight=5, num_leaves=63, score=0.859992, total=  23.5s\n",
      "[CV] max_depth=6, min_child_weight=5, num_leaves=256 .................\n",
      "[CV]  max_depth=6, min_child_weight=5, num_leaves=63, score=0.855367, total=  24.4s\n",
      "[CV] max_depth=6, min_child_weight=5, num_leaves=256 .................\n",
      "[CV]  max_depth=6, min_child_weight=5, num_leaves=127, score=0.869275, total=  20.0s\n",
      "[CV] max_depth=7, min_child_weight=1, num_leaves=31 ..................\n"
     ]
    },
    {
     "name": "stderr",
     "output_type": "stream",
     "text": [
      "[Parallel(n_jobs=-1)]: Done 289 tasks      | elapsed: 18.5min\n"
     ]
    },
    {
     "name": "stdout",
     "output_type": "stream",
     "text": [
      "[CV]  max_depth=6, min_child_weight=5, num_leaves=63, score=0.858398, total=  22.4s\n",
      "[CV] max_depth=7, min_child_weight=1, num_leaves=31 ..................\n",
      "[CV]  max_depth=6, min_child_weight=5, num_leaves=63, score=0.863546, total=  22.4s\n",
      "[CV] max_depth=7, min_child_weight=1, num_leaves=31 ..................\n",
      "[CV]  max_depth=6, min_child_weight=5, num_leaves=127, score=0.855367, total=  23.3s\n",
      "[CV] max_depth=7, min_child_weight=1, num_leaves=31 ..................\n",
      "[CV]  max_depth=6, min_child_weight=5, num_leaves=127, score=0.863546, total=  21.4s\n",
      "[CV] max_depth=7, min_child_weight=1, num_leaves=31 ..................\n",
      "[CV]  max_depth=6, min_child_weight=5, num_leaves=127, score=0.858398, total=  22.3s\n",
      "[CV] max_depth=7, min_child_weight=1, num_leaves=63 ..................\n",
      "[CV]  max_depth=6, min_child_weight=5, num_leaves=256, score=0.869275, total=  23.7s\n",
      "[CV] max_depth=7, min_child_weight=1, num_leaves=63 ..................\n",
      "[CV]  max_depth=6, min_child_weight=5, num_leaves=127, score=0.859992, total=  28.5s\n",
      "[CV] max_depth=7, min_child_weight=1, num_leaves=63 ..................\n",
      "[CV]  max_depth=6, min_child_weight=5, num_leaves=256, score=0.859992, total=  22.7s\n",
      "[CV] max_depth=7, min_child_weight=1, num_leaves=63 ..................\n",
      "[CV]  max_depth=6, min_child_weight=5, num_leaves=256, score=0.855367, total=  20.8s\n",
      "[CV] max_depth=7, min_child_weight=1, num_leaves=63 ..................\n",
      "[CV]  max_depth=6, min_child_weight=5, num_leaves=256, score=0.858398, total=  22.9s\n",
      "[CV] max_depth=7, min_child_weight=1, num_leaves=127 .................\n",
      "[CV]  max_depth=7, min_child_weight=1, num_leaves=31, score=0.873565, total=  23.3s\n",
      "[CV] max_depth=7, min_child_weight=1, num_leaves=127 .................\n",
      "[CV]  max_depth=6, min_child_weight=5, num_leaves=256, score=0.863546, total=  24.2s\n",
      "[CV] max_depth=7, min_child_weight=1, num_leaves=127 .................\n",
      "[CV]  max_depth=7, min_child_weight=1, num_leaves=31, score=0.860759, total=  23.3s\n",
      "[CV] max_depth=7, min_child_weight=1, num_leaves=127 .................\n",
      "[CV]  max_depth=7, min_child_weight=1, num_leaves=31, score=0.866717, total=  25.3s\n",
      "[CV] max_depth=7, min_child_weight=1, num_leaves=127 .................\n",
      "[CV]  max_depth=7, min_child_weight=1, num_leaves=31, score=0.871749, total=  24.5s\n",
      "[CV] max_depth=7, min_child_weight=1, num_leaves=256 .................\n",
      "[CV]  max_depth=7, min_child_weight=1, num_leaves=31, score=0.867604, total=  25.2s\n",
      "[CV] max_depth=7, min_child_weight=1, num_leaves=256 .................\n",
      "[CV]  max_depth=7, min_child_weight=1, num_leaves=63, score=0.886907, total=  29.7s\n",
      "[CV] max_depth=7, min_child_weight=1, num_leaves=256 .................\n",
      "[CV]  max_depth=7, min_child_weight=1, num_leaves=63, score=0.874189, total=  29.3s\n",
      "[CV] max_depth=7, min_child_weight=1, num_leaves=256 .................\n",
      "[CV]  max_depth=7, min_child_weight=1, num_leaves=63, score=0.877338, total=  28.2s\n",
      "[CV] max_depth=7, min_child_weight=1, num_leaves=256 .................\n",
      "[CV]  max_depth=7, min_child_weight=1, num_leaves=63, score=0.877910, total=  30.2s\n",
      "[CV] max_depth=7, min_child_weight=2, num_leaves=31 ..................\n",
      "[CV]  max_depth=7, min_child_weight=1, num_leaves=63, score=0.880303, total=  29.9s\n",
      "[CV] max_depth=7, min_child_weight=2, num_leaves=31 ..................\n",
      "[CV]  max_depth=7, min_child_weight=1, num_leaves=127, score=0.890114, total=  30.9s\n",
      "[CV] max_depth=7, min_child_weight=2, num_leaves=31 ..................\n",
      "[CV]  max_depth=7, min_child_weight=1, num_leaves=127, score=0.879690, total=  30.9s\n",
      "[CV] max_depth=7, min_child_weight=2, num_leaves=31 ..................\n",
      "[CV]  max_depth=7, min_child_weight=1, num_leaves=127, score=0.878108, total=  32.9s\n",
      "[CV] max_depth=7, min_child_weight=2, num_leaves=31 ..................\n",
      "[CV]  max_depth=7, min_child_weight=1, num_leaves=127, score=0.878937, total=  33.8s\n",
      "[CV] max_depth=7, min_child_weight=2, num_leaves=63 ..................\n"
     ]
    },
    {
     "name": "stderr",
     "output_type": "stream",
     "text": [
      "[Parallel(n_jobs=-1)]: Done 314 tasks      | elapsed: 19.6min\n"
     ]
    },
    {
     "name": "stdout",
     "output_type": "stream",
     "text": [
      "[CV]  max_depth=7, min_child_weight=1, num_leaves=127, score=0.885128, total=  33.7s\n",
      "[CV] max_depth=7, min_child_weight=2, num_leaves=63 ..................\n",
      "[CV]  max_depth=7, min_child_weight=1, num_leaves=256, score=0.878108, total=  29.7s\n",
      "[CV] max_depth=7, min_child_weight=2, num_leaves=63 ..................\n",
      "[CV]  max_depth=7, min_child_weight=1, num_leaves=256, score=0.890114, total=  31.3s\n",
      "[CV] max_depth=7, min_child_weight=2, num_leaves=63 ..................\n",
      "[CV]  max_depth=7, min_child_weight=2, num_leaves=31, score=0.875806, total=  23.0s\n",
      "[CV] max_depth=7, min_child_weight=2, num_leaves=63 ..................\n",
      "[CV]  max_depth=7, min_child_weight=2, num_leaves=31, score=0.869169, total=  23.7s\n",
      "[CV] max_depth=7, min_child_weight=2, num_leaves=127 .................\n",
      "[CV]  max_depth=7, min_child_weight=1, num_leaves=256, score=0.878937, total=  32.4s\n",
      "[CV] max_depth=7, min_child_weight=2, num_leaves=127 .................\n",
      "[CV]  max_depth=7, min_child_weight=1, num_leaves=256, score=0.879690, total=  29.9s\n",
      "[CV] max_depth=7, min_child_weight=2, num_leaves=127 .................\n",
      "[CV]  max_depth=7, min_child_weight=1, num_leaves=256, score=0.885128, total=  30.2s\n",
      "[CV] max_depth=7, min_child_weight=2, num_leaves=127 .................\n",
      "[CV]  max_depth=7, min_child_weight=2, num_leaves=31, score=0.861013, total=  25.1s\n",
      "[CV] max_depth=7, min_child_weight=2, num_leaves=127 .................\n",
      "[CV]  max_depth=7, min_child_weight=2, num_leaves=31, score=0.868020, total=  24.6s\n",
      "[CV] max_depth=7, min_child_weight=2, num_leaves=256 .................\n",
      "[CV]  max_depth=7, min_child_weight=2, num_leaves=31, score=0.872545, total=  30.2s\n",
      "[CV] max_depth=7, min_child_weight=2, num_leaves=256 .................\n",
      "[CV]  max_depth=7, min_child_weight=2, num_leaves=63, score=0.884577, total=  28.8s\n",
      "[CV] max_depth=7, min_child_weight=2, num_leaves=256 .................\n",
      "[CV]  max_depth=7, min_child_weight=2, num_leaves=63, score=0.879662, total=  32.9s\n",
      "[CV] max_depth=7, min_child_weight=2, num_leaves=256 .................\n",
      "[CV]  max_depth=7, min_child_weight=2, num_leaves=63, score=0.873051, total=  30.5s\n",
      "[CV] max_depth=7, min_child_weight=2, num_leaves=256 .................\n",
      "[CV]  max_depth=7, min_child_weight=2, num_leaves=63, score=0.876278, total=  30.3s\n",
      "[CV] max_depth=7, min_child_weight=3, num_leaves=31 ..................\n",
      "[CV]  max_depth=7, min_child_weight=2, num_leaves=63, score=0.884683, total=  31.9s\n",
      "[CV] max_depth=7, min_child_weight=3, num_leaves=31 ..................\n",
      "[CV]  max_depth=7, min_child_weight=2, num_leaves=127, score=0.889591, total=  30.8s\n",
      "[CV] max_depth=7, min_child_weight=3, num_leaves=31 ..................\n",
      "[CV]  max_depth=7, min_child_weight=2, num_leaves=127, score=0.879249, total=  28.3s\n",
      "[CV] max_depth=7, min_child_weight=3, num_leaves=31 ..................\n",
      "[CV]  max_depth=7, min_child_weight=2, num_leaves=127, score=0.878466, total=  29.5s\n",
      "[CV] max_depth=7, min_child_weight=3, num_leaves=31 ..................\n",
      "[CV]  max_depth=7, min_child_weight=2, num_leaves=127, score=0.881005, total=  29.3s\n",
      "[CV] max_depth=7, min_child_weight=3, num_leaves=63 ..................\n",
      "[CV]  max_depth=7, min_child_weight=2, num_leaves=127, score=0.882832, total=  32.6s\n",
      "[CV] max_depth=7, min_child_weight=3, num_leaves=63 ..................\n",
      "[CV]  max_depth=7, min_child_weight=2, num_leaves=256, score=0.889591, total=  30.8s\n",
      "[CV] max_depth=7, min_child_weight=3, num_leaves=63 ..................\n",
      "[CV]  max_depth=7, min_child_weight=2, num_leaves=256, score=0.879249, total=  29.0s\n",
      "[CV] max_depth=7, min_child_weight=3, num_leaves=63 ..................\n",
      "[CV]  max_depth=7, min_child_weight=3, num_leaves=31, score=0.873237, total=  23.5s\n",
      "[CV] max_depth=7, min_child_weight=3, num_leaves=63 ..................\n",
      "[CV]  max_depth=7, min_child_weight=2, num_leaves=256, score=0.878466, total=  36.7s\n",
      "[CV] max_depth=7, min_child_weight=3, num_leaves=127 .................\n",
      "[CV]  max_depth=7, min_child_weight=3, num_leaves=31, score=0.866041, total=  24.0s\n",
      "[CV] max_depth=7, min_child_weight=3, num_leaves=127 .................\n",
      "[CV]  max_depth=7, min_child_weight=3, num_leaves=31, score=0.861291, total=  23.6s\n",
      "[CV] max_depth=7, min_child_weight=3, num_leaves=127 .................\n"
     ]
    },
    {
     "name": "stderr",
     "output_type": "stream",
     "text": [
      "[Parallel(n_jobs=-1)]: Done 341 tasks      | elapsed: 20.7min\n"
     ]
    },
    {
     "name": "stdout",
     "output_type": "stream",
     "text": [
      "[CV]  max_depth=7, min_child_weight=2, num_leaves=256, score=0.881005, total=  31.6s\n",
      "[CV]  max_depth=7, min_child_weight=2, num_leaves=256, score=0.882832, total=  28.5s\n",
      "[CV] max_depth=7, min_child_weight=3, num_leaves=127 .................\n",
      "[CV] max_depth=7, min_child_weight=3, num_leaves=127 .................\n",
      "[CV]  max_depth=7, min_child_weight=3, num_leaves=31, score=0.866568, total=  22.9s\n",
      "[CV] max_depth=7, min_child_weight=3, num_leaves=256 .................\n",
      "[CV]  max_depth=7, min_child_weight=3, num_leaves=31, score=0.869114, total=  24.0s\n",
      "[CV] max_depth=7, min_child_weight=3, num_leaves=256 .................\n",
      "[CV]  max_depth=7, min_child_weight=3, num_leaves=63, score=0.885227, total=  28.8s\n",
      "[CV] max_depth=7, min_child_weight=3, num_leaves=256 .................\n",
      "[CV]  max_depth=7, min_child_weight=3, num_leaves=63, score=0.873812, total=  28.8s\n",
      "[CV] max_depth=7, min_child_weight=3, num_leaves=256 .................\n",
      "[CV]  max_depth=7, min_child_weight=3, num_leaves=63, score=0.872995, total=  30.1s\n",
      "[CV] max_depth=7, min_child_weight=3, num_leaves=256 .................\n",
      "[CV]  max_depth=7, min_child_weight=3, num_leaves=63, score=0.874990, total=  31.2s\n",
      "[CV] max_depth=7, min_child_weight=4, num_leaves=31 ..................\n",
      "[CV]  max_depth=7, min_child_weight=3, num_leaves=63, score=0.881088, total=  29.5s\n",
      "[CV] max_depth=7, min_child_weight=4, num_leaves=31 ..................\n",
      "[CV]  max_depth=7, min_child_weight=3, num_leaves=127, score=0.874543, total=  28.6s\n",
      "[CV] max_depth=7, min_child_weight=4, num_leaves=31 ..................\n",
      "[CV]  max_depth=7, min_child_weight=3, num_leaves=127, score=0.886852, total=  30.0s\n",
      "[CV] max_depth=7, min_child_weight=4, num_leaves=31 ..................\n",
      "[CV]  max_depth=7, min_child_weight=3, num_leaves=256, score=0.886852, total=  27.4s\n",
      "[CV] max_depth=7, min_child_weight=4, num_leaves=31 ..................\n",
      "[CV]  max_depth=7, min_child_weight=3, num_leaves=127, score=0.876670, total=  29.4s\n",
      "[CV] max_depth=7, min_child_weight=4, num_leaves=63 ..................\n",
      "[CV]  max_depth=7, min_child_weight=3, num_leaves=127, score=0.876173, total=  30.7s\n",
      "[CV] max_depth=7, min_child_weight=4, num_leaves=63 ..................\n",
      "[CV]  max_depth=7, min_child_weight=3, num_leaves=127, score=0.881525, total=  31.2s\n",
      "[CV] max_depth=7, min_child_weight=4, num_leaves=63 ..................\n",
      "[CV]  max_depth=7, min_child_weight=3, num_leaves=256, score=0.874543, total=  30.8s\n",
      "[CV] max_depth=7, min_child_weight=4, num_leaves=63 ..................\n",
      "[CV]  max_depth=7, min_child_weight=3, num_leaves=256, score=0.876670, total=  29.1s\n",
      "[CV] max_depth=7, min_child_weight=4, num_leaves=63 ..................\n",
      "[CV]  max_depth=7, min_child_weight=3, num_leaves=256, score=0.876173, total=  30.3s\n",
      "[CV] max_depth=7, min_child_weight=4, num_leaves=127 .................\n",
      "[CV]  max_depth=7, min_child_weight=3, num_leaves=256, score=0.881525, total=  29.5s\n",
      "[CV] max_depth=7, min_child_weight=4, num_leaves=127 .................\n",
      "[CV]  max_depth=7, min_child_weight=4, num_leaves=31, score=0.866974, total=  24.0s\n",
      "[CV] max_depth=7, min_child_weight=4, num_leaves=127 .................\n",
      "[CV]  max_depth=7, min_child_weight=4, num_leaves=31, score=0.869322, total=  21.8s\n",
      "[CV] max_depth=7, min_child_weight=4, num_leaves=127 .................\n",
      "[CV]  max_depth=7, min_child_weight=4, num_leaves=31, score=0.857547, total=  23.5s\n",
      "[CV] max_depth=7, min_child_weight=4, num_leaves=127 .................\n",
      "[CV]  max_depth=7, min_child_weight=4, num_leaves=31, score=0.874832, total=  29.6s\n",
      "[CV] max_depth=7, min_child_weight=4, num_leaves=256 .................\n",
      "[CV]  max_depth=7, min_child_weight=4, num_leaves=31, score=0.865449, total=  24.5s\n",
      "[CV] max_depth=7, min_child_weight=4, num_leaves=256 .................\n",
      "[CV]  max_depth=7, min_child_weight=4, num_leaves=63, score=0.885934, total=  29.6s\n",
      "[CV] max_depth=7, min_child_weight=4, num_leaves=256 .................\n",
      "[CV]  max_depth=7, min_child_weight=4, num_leaves=63, score=0.873709, total=  28.5s\n",
      "[CV] max_depth=7, min_child_weight=4, num_leaves=256 .................\n",
      "[CV]  max_depth=7, min_child_weight=4, num_leaves=63, score=0.871686, total=  28.2s\n",
      "[CV] max_depth=7, min_child_weight=4, num_leaves=256 .................\n"
     ]
    },
    {
     "name": "stderr",
     "output_type": "stream",
     "text": [
      "[Parallel(n_jobs=-1)]: Done 368 tasks      | elapsed: 21.8min\n"
     ]
    },
    {
     "name": "stdout",
     "output_type": "stream",
     "text": [
      "[CV]  max_depth=7, min_child_weight=4, num_leaves=63, score=0.874066, total=  28.3s\n",
      "[CV] max_depth=7, min_child_weight=5, num_leaves=31 ..................\n",
      "[CV]  max_depth=7, min_child_weight=4, num_leaves=63, score=0.877961, total=  28.8s\n",
      "[CV] max_depth=7, min_child_weight=5, num_leaves=31 ..................\n",
      "[CV]  max_depth=7, min_child_weight=4, num_leaves=127, score=0.879686, total=  28.8s\n",
      "[CV] max_depth=7, min_child_weight=5, num_leaves=31 ..................\n",
      "[CV]  max_depth=7, min_child_weight=4, num_leaves=127, score=0.874059, total=  27.3s\n",
      "[CV]  max_depth=7, min_child_weight=4, num_leaves=127, score=0.874103, total=  30.8s\n",
      "[CV] max_depth=7, min_child_weight=5, num_leaves=31 ..................\n",
      "[CV] max_depth=7, min_child_weight=5, num_leaves=31 ..................\n",
      "[CV]  max_depth=7, min_child_weight=4, num_leaves=127, score=0.874816, total=  29.3s\n",
      "[CV] max_depth=7, min_child_weight=5, num_leaves=63 ..................\n",
      "[CV]  max_depth=7, min_child_weight=4, num_leaves=127, score=0.880482, total=  29.6s\n",
      "[CV] max_depth=7, min_child_weight=5, num_leaves=63 ..................\n",
      "[CV]  max_depth=7, min_child_weight=4, num_leaves=256, score=0.879686, total=  31.5s\n",
      "[CV] max_depth=7, min_child_weight=5, num_leaves=63 ..................\n",
      "[CV]  max_depth=7, min_child_weight=4, num_leaves=256, score=0.874103, total=  32.9s\n",
      "[CV] max_depth=7, min_child_weight=5, num_leaves=63 ..................\n",
      "[CV]  max_depth=7, min_child_weight=5, num_leaves=31, score=0.870522, total=  25.3s\n",
      "[CV] max_depth=7, min_child_weight=5, num_leaves=63 ..................\n",
      "[CV]  max_depth=7, min_child_weight=4, num_leaves=256, score=0.874059, total=  29.0s\n",
      "[CV] max_depth=7, min_child_weight=5, num_leaves=127 .................\n",
      "[CV]  max_depth=7, min_child_weight=4, num_leaves=256, score=0.874816, total=  28.6s\n",
      "[CV] max_depth=7, min_child_weight=5, num_leaves=127 .................\n",
      "[CV]  max_depth=7, min_child_weight=4, num_leaves=256, score=0.880482, total=  28.9s\n",
      "[CV] max_depth=7, min_child_weight=5, num_leaves=127 .................\n",
      "[CV]  max_depth=7, min_child_weight=5, num_leaves=31, score=0.863362, total=  25.4s\n",
      "[CV] max_depth=7, min_child_weight=5, num_leaves=127 .................\n",
      "[CV]  max_depth=7, min_child_weight=5, num_leaves=31, score=0.857859, total=  23.4s\n",
      "[CV] max_depth=7, min_child_weight=5, num_leaves=127 .................\n",
      "[CV]  max_depth=7, min_child_weight=5, num_leaves=31, score=0.862717, total=  23.4s\n",
      "[CV] max_depth=7, min_child_weight=5, num_leaves=256 .................\n",
      "[CV]  max_depth=7, min_child_weight=5, num_leaves=31, score=0.869519, total=  25.3s\n",
      "[CV] max_depth=7, min_child_weight=5, num_leaves=256 .................\n",
      "[CV]  max_depth=7, min_child_weight=5, num_leaves=63, score=0.879535, total=  29.2s\n",
      "[CV] max_depth=7, min_child_weight=5, num_leaves=256 .................\n",
      "[CV]  max_depth=7, min_child_weight=5, num_leaves=63, score=0.871497, total=  28.7s\n",
      "[CV] max_depth=7, min_child_weight=5, num_leaves=256 .................\n",
      "[CV]  max_depth=7, min_child_weight=5, num_leaves=127, score=0.873284, total=  25.8s\n",
      "[CV] max_depth=7, min_child_weight=5, num_leaves=256 .................\n",
      "[CV]  max_depth=7, min_child_weight=5, num_leaves=63, score=0.870516, total=  30.9s\n",
      "[CV] max_depth=8, min_child_weight=1, num_leaves=31 ..................\n",
      "[CV]  max_depth=7, min_child_weight=5, num_leaves=127, score=0.881744, total=  27.9s\n",
      "[CV] max_depth=8, min_child_weight=1, num_leaves=31 ..................\n",
      "[CV]  max_depth=7, min_child_weight=5, num_leaves=63, score=0.870502, total=  30.9s\n",
      "[CV] max_depth=8, min_child_weight=1, num_leaves=31 ..................\n",
      "[CV]  max_depth=7, min_child_weight=5, num_leaves=127, score=0.867997, total=  28.0s\n",
      "[CV] max_depth=8, min_child_weight=1, num_leaves=31 ..................\n",
      "[CV]  max_depth=7, min_child_weight=5, num_leaves=63, score=0.878299, total=  30.3s\n",
      "[CV] max_depth=8, min_child_weight=1, num_leaves=31 ..................\n",
      "[CV]  max_depth=7, min_child_weight=5, num_leaves=127, score=0.868476, total=  32.1s\n",
      "[CV] max_depth=8, min_child_weight=1, num_leaves=63 ..................\n",
      "[CV]  max_depth=7, min_child_weight=5, num_leaves=127, score=0.878147, total=  29.8s\n",
      "[CV] max_depth=8, min_child_weight=1, num_leaves=63 ..................\n",
      "[CV]  max_depth=7, min_child_weight=5, num_leaves=256, score=0.881744, total=  28.7s\n",
      "[CV] max_depth=8, min_child_weight=1, num_leaves=63 ..................\n",
      "[CV]  max_depth=7, min_child_weight=5, num_leaves=256, score=0.873284, total=  30.8s\n",
      "[CV] max_depth=8, min_child_weight=1, num_leaves=63 ..................\n"
     ]
    },
    {
     "name": "stderr",
     "output_type": "stream",
     "text": [
      "[Parallel(n_jobs=-1)]: Done 397 tasks      | elapsed: 23.1min\n"
     ]
    },
    {
     "name": "stdout",
     "output_type": "stream",
     "text": [
      "[CV]  max_depth=7, min_child_weight=5, num_leaves=256, score=0.868476, total=  28.0s\n",
      "[CV] max_depth=8, min_child_weight=1, num_leaves=63 ..................\n",
      "[CV]  max_depth=8, min_child_weight=1, num_leaves=31, score=0.868343, total=  24.3s\n",
      "[CV]  max_depth=7, min_child_weight=5, num_leaves=256, score=0.878147, total=  26.6s\n",
      "[CV]  max_depth=8, min_child_weight=1, num_leaves=31, score=0.870343, total=  25.3s\n",
      "[CV] max_depth=8, min_child_weight=1, num_leaves=127 .................\n",
      "[CV] max_depth=8, min_child_weight=1, num_leaves=127 .................\n",
      "[CV] max_depth=8, min_child_weight=1, num_leaves=127 .................\n",
      "[CV]  max_depth=8, min_child_weight=1, num_leaves=31, score=0.879944, total=  26.9s\n",
      "[CV] max_depth=8, min_child_weight=1, num_leaves=127 .................\n",
      "[CV]  max_depth=8, min_child_weight=1, num_leaves=31, score=0.869740, total=  26.7s\n",
      "[CV] max_depth=8, min_child_weight=1, num_leaves=127 .................\n",
      "[CV]  max_depth=7, min_child_weight=5, num_leaves=256, score=0.867997, total=  35.4s\n",
      "[CV] max_depth=8, min_child_weight=1, num_leaves=256 .................\n",
      "[CV]  max_depth=8, min_child_weight=1, num_leaves=31, score=0.877696, total=  31.0s\n",
      "[CV] max_depth=8, min_child_weight=1, num_leaves=256 .................\n",
      "[CV]  max_depth=8, min_child_weight=1, num_leaves=63, score=0.894117, total=  35.6s\n",
      "[CV] max_depth=8, min_child_weight=1, num_leaves=256 .................\n",
      "[CV]  max_depth=8, min_child_weight=1, num_leaves=63, score=0.885996, total=  36.2s\n",
      "[CV] max_depth=8, min_child_weight=1, num_leaves=256 .................\n",
      "[CV]  max_depth=8, min_child_weight=1, num_leaves=63, score=0.887207, total=  34.6s\n",
      "[CV] max_depth=8, min_child_weight=1, num_leaves=256 .................\n",
      "[CV]  max_depth=8, min_child_weight=1, num_leaves=63, score=0.887399, total=  33.8s\n",
      "[CV] max_depth=8, min_child_weight=2, num_leaves=31 ..................\n",
      "[CV]  max_depth=8, min_child_weight=1, num_leaves=63, score=0.889047, total=  34.0s\n",
      "[CV] max_depth=8, min_child_weight=2, num_leaves=31 ..................\n",
      "[CV]  max_depth=8, min_child_weight=1, num_leaves=127, score=0.888546, total=  38.1s\n",
      "[CV] max_depth=8, min_child_weight=2, num_leaves=31 ..................\n",
      "[CV]  max_depth=8, min_child_weight=1, num_leaves=127, score=0.901195, total=  39.5s\n",
      "[CV] max_depth=8, min_child_weight=2, num_leaves=31 ..................\n",
      "[CV]  max_depth=8, min_child_weight=1, num_leaves=127, score=0.891330, total=  41.8s\n",
      "[CV] max_depth=8, min_child_weight=2, num_leaves=31 ..................\n",
      "[CV]  max_depth=8, min_child_weight=1, num_leaves=127, score=0.889706, total=  43.1s\n",
      "[CV] max_depth=8, min_child_weight=2, num_leaves=63 ..................\n",
      "[CV]  max_depth=8, min_child_weight=1, num_leaves=127, score=0.895741, total=  41.3s\n",
      "[CV] max_depth=8, min_child_weight=2, num_leaves=63 ..................\n",
      "[CV]  max_depth=8, min_child_weight=1, num_leaves=256, score=0.898343, total=  40.4s\n",
      "[CV] max_depth=8, min_child_weight=2, num_leaves=63 ..................\n",
      "[CV]  max_depth=8, min_child_weight=2, num_leaves=31, score=0.878334, total=  24.7s\n",
      "[CV] max_depth=8, min_child_weight=2, num_leaves=63 ..................\n",
      "[CV]  max_depth=8, min_child_weight=2, num_leaves=31, score=0.871487, total=  24.4s\n",
      "[CV] max_depth=8, min_child_weight=2, num_leaves=63 ..................\n",
      "[CV]  max_depth=8, min_child_weight=1, num_leaves=256, score=0.890047, total=  50.9s\n",
      "[CV] max_depth=8, min_child_weight=2, num_leaves=127 .................\n",
      "[CV]  max_depth=8, min_child_weight=1, num_leaves=256, score=0.891858, total=  41.3s\n",
      "[CV] max_depth=8, min_child_weight=2, num_leaves=127 .................\n",
      "[CV]  max_depth=8, min_child_weight=2, num_leaves=31, score=0.872146, total=  23.7s\n",
      "[CV] max_depth=8, min_child_weight=2, num_leaves=127 .................\n",
      "[CV]  max_depth=8, min_child_weight=2, num_leaves=31, score=0.866725, total=  25.8s\n",
      "[CV] max_depth=8, min_child_weight=2, num_leaves=127 .................\n",
      "[CV]  max_depth=8, min_child_weight=1, num_leaves=256, score=0.896154, total=  41.0s\n",
      "[CV] max_depth=8, min_child_weight=2, num_leaves=127 .................\n",
      "[CV]  max_depth=8, min_child_weight=1, num_leaves=256, score=0.888075, total=  43.8s\n",
      "[CV] max_depth=8, min_child_weight=2, num_leaves=256 .................\n",
      "[CV]  max_depth=8, min_child_weight=2, num_leaves=31, score=0.878924, total=  26.0s\n",
      "[CV] max_depth=8, min_child_weight=2, num_leaves=256 .................\n",
      "[CV]  max_depth=8, min_child_weight=2, num_leaves=63, score=0.895319, total=  34.9s\n",
      "[CV] max_depth=8, min_child_weight=2, num_leaves=256 .................\n"
     ]
    },
    {
     "name": "stderr",
     "output_type": "stream",
     "text": [
      "[Parallel(n_jobs=-1)]: Done 426 tasks      | elapsed: 24.6min\n"
     ]
    },
    {
     "name": "stdout",
     "output_type": "stream",
     "text": [
      "[CV]  max_depth=8, min_child_weight=2, num_leaves=63, score=0.885602, total=  36.9s\n",
      "[CV] max_depth=8, min_child_weight=2, num_leaves=256 .................\n",
      "[CV]  max_depth=8, min_child_weight=2, num_leaves=63, score=0.883315, total=  36.9s\n",
      "[CV] max_depth=8, min_child_weight=2, num_leaves=256 .................\n",
      "[CV]  max_depth=8, min_child_weight=2, num_leaves=63, score=0.881257, total=  37.0s\n",
      "[CV] max_depth=8, min_child_weight=3, num_leaves=31 ..................\n",
      "[CV]  max_depth=8, min_child_weight=2, num_leaves=63, score=0.890241, total=  35.8s\n",
      "[CV] max_depth=8, min_child_weight=3, num_leaves=31 ..................\n",
      "[CV]  max_depth=8, min_child_weight=2, num_leaves=127, score=0.887167, total=  39.1s\n",
      "[CV] max_depth=8, min_child_weight=3, num_leaves=31 ..................\n",
      "[CV]  max_depth=8, min_child_weight=2, num_leaves=127, score=0.885147, total=  38.2s\n",
      "[CV] max_depth=8, min_child_weight=3, num_leaves=31 ..................\n",
      "[CV]  max_depth=8, min_child_weight=2, num_leaves=127, score=0.890172, total=  40.7s\n",
      "[CV] max_depth=8, min_child_weight=3, num_leaves=31 ..................\n",
      "[CV]  max_depth=8, min_child_weight=2, num_leaves=127, score=0.896724, total=  39.5s\n",
      "[CV] max_depth=8, min_child_weight=3, num_leaves=63 ..................\n",
      "[CV]  max_depth=8, min_child_weight=2, num_leaves=127, score=0.900646, total=  48.9s\n",
      "[CV] max_depth=8, min_child_weight=3, num_leaves=63 ..................\n",
      "[CV]  max_depth=8, min_child_weight=2, num_leaves=256, score=0.888269, total=  39.7s\n",
      "[CV] max_depth=8, min_child_weight=3, num_leaves=63 ..................\n",
      "[CV]  max_depth=8, min_child_weight=2, num_leaves=256, score=0.901274, total=  42.6s\n",
      "[CV] max_depth=8, min_child_weight=3, num_leaves=63 ..................\n",
      "[CV]  max_depth=8, min_child_weight=3, num_leaves=31, score=0.879115, total=  25.9s\n",
      "[CV] max_depth=8, min_child_weight=3, num_leaves=63 ..................\n",
      "[CV]  max_depth=8, min_child_weight=2, num_leaves=256, score=0.886898, total=  40.2s\n",
      "[CV] max_depth=8, min_child_weight=3, num_leaves=127 .................\n",
      "[CV]  max_depth=8, min_child_weight=3, num_leaves=31, score=0.870137, total=  26.1s\n",
      "[CV] max_depth=8, min_child_weight=3, num_leaves=127 .................\n",
      "[CV]  max_depth=8, min_child_weight=2, num_leaves=256, score=0.886014, total=  43.4s\n",
      "[CV] max_depth=8, min_child_weight=3, num_leaves=127 .................\n",
      "[CV]  max_depth=8, min_child_weight=3, num_leaves=31, score=0.864335, total=  25.5s\n",
      "[CV] max_depth=8, min_child_weight=3, num_leaves=127 .................\n",
      "[CV]  max_depth=8, min_child_weight=2, num_leaves=256, score=0.896023, total=  46.9s\n",
      "[CV] max_depth=8, min_child_weight=3, num_leaves=127 .................\n",
      "[CV]  max_depth=8, min_child_weight=3, num_leaves=31, score=0.875793, total=  25.1s\n",
      "[CV] max_depth=8, min_child_weight=3, num_leaves=256 .................\n",
      "[CV]  max_depth=8, min_child_weight=3, num_leaves=31, score=0.873513, total=  27.5s\n",
      "[CV] max_depth=8, min_child_weight=3, num_leaves=256 .................\n",
      "[CV]  max_depth=8, min_child_weight=3, num_leaves=63, score=0.895185, total=  35.1s\n",
      "[CV] max_depth=8, min_child_weight=3, num_leaves=256 .................\n",
      "[CV]  max_depth=8, min_child_weight=3, num_leaves=63, score=0.882154, total=  36.3s\n",
      "[CV] max_depth=8, min_child_weight=3, num_leaves=256 .................\n",
      "[CV]  max_depth=8, min_child_weight=3, num_leaves=63, score=0.882866, total=  36.5s\n",
      "[CV] max_depth=8, min_child_weight=3, num_leaves=256 .................\n",
      "[CV]  max_depth=8, min_child_weight=3, num_leaves=63, score=0.885017, total=  39.7s\n",
      "[CV] max_depth=8, min_child_weight=4, num_leaves=31 ..................\n",
      "[CV]  max_depth=8, min_child_weight=3, num_leaves=63, score=0.890697, total=  35.6s\n",
      "[CV] max_depth=8, min_child_weight=4, num_leaves=31 ..................\n",
      "[CV]  max_depth=8, min_child_weight=3, num_leaves=127, score=0.888276, total=  39.7s\n",
      "[CV] max_depth=8, min_child_weight=4, num_leaves=31 ..................\n",
      "[CV]  max_depth=8, min_child_weight=3, num_leaves=127, score=0.899899, total=  40.8s\n",
      "[CV] max_depth=8, min_child_weight=4, num_leaves=31 ..................\n",
      "[CV]  max_depth=8, min_child_weight=3, num_leaves=127, score=0.881966, total=  38.2s\n",
      "[CV] max_depth=8, min_child_weight=4, num_leaves=31 ..................\n",
      "[CV]  max_depth=8, min_child_weight=3, num_leaves=127, score=0.887362, total=  42.2s\n",
      "[CV] max_depth=8, min_child_weight=4, num_leaves=63 ..................\n",
      "[CV]  max_depth=8, min_child_weight=3, num_leaves=256, score=0.894635, total=  39.2s\n",
      "[CV] max_depth=8, min_child_weight=4, num_leaves=63 ..................\n",
      "[CV]  max_depth=8, min_child_weight=3, num_leaves=127, score=0.894274, total=  42.3s\n",
      "[CV] max_depth=8, min_child_weight=4, num_leaves=63 ..................\n",
      "[CV]  max_depth=8, min_child_weight=3, num_leaves=256, score=0.884796, total=  42.0s\n",
      "[CV] max_depth=8, min_child_weight=4, num_leaves=63 ..................\n"
     ]
    },
    {
     "name": "stderr",
     "output_type": "stream",
     "text": [
      "[Parallel(n_jobs=-1)]: Done 457 tasks      | elapsed: 26.2min\n"
     ]
    },
    {
     "name": "stdout",
     "output_type": "stream",
     "text": [
      "[CV]  max_depth=8, min_child_weight=4, num_leaves=31, score=0.879208, total=  28.6s\n",
      "[CV] max_depth=8, min_child_weight=4, num_leaves=63 ..................\n",
      "[CV]  max_depth=8, min_child_weight=4, num_leaves=31, score=0.867799, total=  25.5s\n",
      "[CV] max_depth=8, min_child_weight=4, num_leaves=127 .................\n",
      "[CV]  max_depth=8, min_child_weight=3, num_leaves=256, score=0.883358, total=  40.8s\n",
      "[CV] max_depth=8, min_child_weight=4, num_leaves=127 .................\n",
      "[CV]  max_depth=8, min_child_weight=3, num_leaves=256, score=0.885261, total=  40.2s\n",
      "[CV] max_depth=8, min_child_weight=4, num_leaves=127 .................\n",
      "[CV]  max_depth=8, min_child_weight=4, num_leaves=31, score=0.865257, total=  26.5s\n",
      "[CV] max_depth=8, min_child_weight=4, num_leaves=127 .................\n",
      "[CV]  max_depth=8, min_child_weight=3, num_leaves=256, score=0.891248, total=  40.4s\n",
      "[CV] max_depth=8, min_child_weight=4, num_leaves=127 .................\n",
      "[CV]  max_depth=8, min_child_weight=4, num_leaves=31, score=0.868728, total=  26.9s\n",
      "[CV] max_depth=8, min_child_weight=4, num_leaves=256 .................\n",
      "[CV]  max_depth=8, min_child_weight=4, num_leaves=31, score=0.874448, total=  25.7s\n",
      "[CV] max_depth=8, min_child_weight=4, num_leaves=256 .................\n",
      "[CV]  max_depth=8, min_child_weight=4, num_leaves=63, score=0.889466, total=  36.8s\n",
      "[CV] max_depth=8, min_child_weight=4, num_leaves=256 .................\n",
      "[CV]  max_depth=8, min_child_weight=4, num_leaves=63, score=0.882001, total=  34.6s\n",
      "[CV] max_depth=8, min_child_weight=4, num_leaves=256 .................\n",
      "[CV]  max_depth=8, min_child_weight=4, num_leaves=63, score=0.880246, total=  37.4s\n",
      "[CV] max_depth=8, min_child_weight=4, num_leaves=256 .................\n",
      "[CV]  max_depth=8, min_child_weight=4, num_leaves=63, score=0.881126, total=  35.5s\n",
      "[CV] max_depth=8, min_child_weight=5, num_leaves=31 ..................\n",
      "[CV]  max_depth=8, min_child_weight=4, num_leaves=127, score=0.891870, total=  37.4s\n",
      "[CV] max_depth=8, min_child_weight=5, num_leaves=31 ..................\n",
      "[CV]  max_depth=8, min_child_weight=4, num_leaves=63, score=0.889571, total=  39.4s\n",
      "[CV] max_depth=8, min_child_weight=5, num_leaves=31 ..................\n",
      "[CV]  max_depth=8, min_child_weight=4, num_leaves=127, score=0.880865, total=  36.4s\n",
      "[CV] max_depth=8, min_child_weight=5, num_leaves=31 ..................\n",
      "[CV]  max_depth=8, min_child_weight=4, num_leaves=127, score=0.893085, total=  37.3s\n",
      "[CV] max_depth=8, min_child_weight=5, num_leaves=31 ..................\n",
      "[CV]  max_depth=8, min_child_weight=4, num_leaves=127, score=0.884842, total=  39.5s\n",
      "[CV] max_depth=8, min_child_weight=5, num_leaves=63 ..................\n",
      "[CV]  max_depth=8, min_child_weight=4, num_leaves=127, score=0.883946, total=  40.8s\n",
      "[CV] max_depth=8, min_child_weight=5, num_leaves=63 ..................\n",
      "[CV]  max_depth=8, min_child_weight=4, num_leaves=256, score=0.884461, total=  37.0s\n",
      "[CV] max_depth=8, min_child_weight=5, num_leaves=63 ..................\n",
      "[CV]  max_depth=8, min_child_weight=4, num_leaves=256, score=0.894751, total=  41.8s\n",
      "[CV] max_depth=8, min_child_weight=5, num_leaves=63 ..................\n",
      "[CV]  max_depth=8, min_child_weight=5, num_leaves=31, score=0.876705, total=  26.5s\n",
      "[CV] max_depth=8, min_child_weight=5, num_leaves=63 ..................\n",
      "[CV]  max_depth=8, min_child_weight=5, num_leaves=31, score=0.866596, total=  24.4s\n",
      "[CV] max_depth=8, min_child_weight=5, num_leaves=127 .................\n",
      "[CV]  max_depth=8, min_child_weight=4, num_leaves=256, score=0.884307, total=  36.7s\n",
      "[CV] max_depth=8, min_child_weight=5, num_leaves=127 .................\n",
      "[CV]  max_depth=8, min_child_weight=4, num_leaves=256, score=0.885418, total=  39.4s\n",
      "[CV] max_depth=8, min_child_weight=5, num_leaves=127 .................\n",
      "[CV]  max_depth=8, min_child_weight=5, num_leaves=31, score=0.868486, total=  25.9s\n",
      "[CV] max_depth=8, min_child_weight=5, num_leaves=127 .................\n",
      "[CV]  max_depth=8, min_child_weight=5, num_leaves=31, score=0.863810, total=  29.7s\n",
      "[CV] max_depth=8, min_child_weight=5, num_leaves=127 .................\n",
      "[CV]  max_depth=8, min_child_weight=4, num_leaves=256, score=0.889176, total=  40.2s\n",
      "[CV] max_depth=8, min_child_weight=5, num_leaves=256 .................\n",
      "[CV]  max_depth=8, min_child_weight=5, num_leaves=31, score=0.875099, total=  26.6s\n",
      "[CV] max_depth=8, min_child_weight=5, num_leaves=256 .................\n",
      "[CV]  max_depth=8, min_child_weight=5, num_leaves=63, score=0.881401, total=  35.2s\n",
      "[CV] max_depth=8, min_child_weight=5, num_leaves=256 .................\n",
      "[CV]  max_depth=8, min_child_weight=5, num_leaves=63, score=0.889109, total=  36.9s\n",
      "[CV] max_depth=8, min_child_weight=5, num_leaves=256 .................\n",
      "[CV]  max_depth=8, min_child_weight=5, num_leaves=63, score=0.876912, total=  34.6s\n",
      "[CV] max_depth=8, min_child_weight=5, num_leaves=256 .................\n",
      "[CV]  max_depth=8, min_child_weight=5, num_leaves=63, score=0.878899, total=  36.2s\n",
      "[CV]  max_depth=8, min_child_weight=5, num_leaves=63, score=0.887161, total=  37.7s\n",
      "[CV]  max_depth=8, min_child_weight=5, num_leaves=127, score=0.891178, total=  35.9s\n",
      "[CV]  max_depth=8, min_child_weight=5, num_leaves=127, score=0.879798, total=  34.9s\n",
      "[CV]  max_depth=8, min_child_weight=5, num_leaves=127, score=0.880544, total=  36.2s\n",
      "[CV]  max_depth=8, min_child_weight=5, num_leaves=127, score=0.876917, total=  35.8s\n",
      "[CV]  max_depth=8, min_child_weight=5, num_leaves=127, score=0.891115, total=  35.8s\n",
      "[CV]  max_depth=8, min_child_weight=5, num_leaves=256, score=0.892464, total=  36.4s\n",
      "[CV]  max_depth=8, min_child_weight=5, num_leaves=256, score=0.881757, total=  33.8s\n",
      "[CV]  max_depth=8, min_child_weight=5, num_leaves=256, score=0.889372, total=  24.3s\n",
      "[CV]  max_depth=8, min_child_weight=5, num_leaves=256, score=0.881928, total=  26.0s\n",
      "[CV]  max_depth=8, min_child_weight=5, num_leaves=256, score=0.879359, total=  25.6s\n"
     ]
    },
    {
     "name": "stderr",
     "output_type": "stream",
     "text": [
      "[Parallel(n_jobs=-1)]: Done 500 out of 500 | elapsed: 28.2min finished\n"
     ]
    },
    {
     "name": "stdout",
     "output_type": "stream",
     "text": [
      "{'max_depth': -1, 'min_child_weight': 1, 'num_leaves': 256}\n"
     ]
    }
   ],
   "source": [
    "base_classifier = lgb.LGBMClassifier(learning_rate=0.1, n_estimators=500, max_bin=255, subsample_for_bin=20, objective='binary', min_split_gain=0.0, \n",
    "                                     min_child_samples=10, subsample=0.7, subsample_freq=1, \n",
    "                                     colsample_bytree=0.7, reg_alpha=0.01, reg_lambda=0.1)\n",
    "\n",
    "gbm_params = {\n",
    "    'num_leaves': [31, 63, 127, 256],\n",
    "    'max_depth': [-1, 5, 6, 7, 8],\n",
    "    'min_child_weight': [1, 2, 3, 4, 5]\n",
    "}\n",
    "\n",
    "\n",
    "grid = GridSearchCV(base_classifier, gbm_params,scoring='roc_auc',cv = 5,verbose=10,n_jobs=-1)\n",
    "\n",
    "grid.fit(selected_train_data_x, train_data_y)\n",
    "\n",
    "print (grid.best_params_)"
   ]
  },
  {
   "cell_type": "markdown",
   "metadata": {},
   "source": [
    "#### Tune subsample, subsample_freq and colsample_bytree"
   ]
  },
  {
   "cell_type": "code",
   "execution_count": 41,
   "metadata": {},
   "outputs": [
    {
     "name": "stdout",
     "output_type": "stream",
     "text": [
      "Fitting 5 folds for each of 80 candidates, totalling 400 fits\n",
      "[CV] colsample_bytree=0.6, subsample=0.6, subsample_freq=1 ...........\n",
      "[CV] colsample_bytree=0.6, subsample=0.6, subsample_freq=1 ...........\n",
      "[CV] colsample_bytree=0.6, subsample=0.6, subsample_freq=1 ...........\n",
      "[CV] colsample_bytree=0.6, subsample=0.6, subsample_freq=1 ...........\n",
      "[CV] colsample_bytree=0.6, subsample=0.6, subsample_freq=1 ...........\n",
      "[CV] colsample_bytree=0.6, subsample=0.6, subsample_freq=2 ...........\n",
      "[CV] colsample_bytree=0.6, subsample=0.6, subsample_freq=2 ...........\n",
      "[CV] colsample_bytree=0.6, subsample=0.6, subsample_freq=2 ...........\n",
      "[CV] colsample_bytree=0.6, subsample=0.6, subsample_freq=2 ...........\n",
      "[CV] colsample_bytree=0.6, subsample=0.6, subsample_freq=2 ...........\n",
      "[CV] colsample_bytree=0.6, subsample=0.6, subsample_freq=3 ...........\n",
      "[CV] colsample_bytree=0.6, subsample=0.6, subsample_freq=3 ...........\n",
      "[CV]  colsample_bytree=0.6, subsample=0.6, subsample_freq=2, score=0.904362, total= 2.7min\n",
      "[CV] colsample_bytree=0.6, subsample=0.6, subsample_freq=3 ...........\n"
     ]
    },
    {
     "name": "stderr",
     "output_type": "stream",
     "text": [
      "[Parallel(n_jobs=-1)]: Done   1 tasks      | elapsed:  2.8min\n"
     ]
    },
    {
     "name": "stdout",
     "output_type": "stream",
     "text": [
      "[CV]  colsample_bytree=0.6, subsample=0.6, subsample_freq=1, score=0.916678, total= 2.8min\n",
      "[CV] colsample_bytree=0.6, subsample=0.6, subsample_freq=3 ...........\n",
      "[CV]  colsample_bytree=0.6, subsample=0.6, subsample_freq=2, score=0.903918, total= 2.8min\n",
      "[CV] colsample_bytree=0.6, subsample=0.6, subsample_freq=3 ...........\n",
      "[CV]  colsample_bytree=0.6, subsample=0.6, subsample_freq=1, score=0.902137, total= 2.8min\n",
      "[CV] colsample_bytree=0.6, subsample=0.6, subsample_freq=4 ...........\n",
      "[CV]  colsample_bytree=0.6, subsample=0.6, subsample_freq=2, score=0.914883, total= 2.8min\n",
      "[CV] colsample_bytree=0.6, subsample=0.6, subsample_freq=4 ...........\n",
      "[CV]  colsample_bytree=0.6, subsample=0.6, subsample_freq=1, score=0.912053, total= 2.9min\n",
      "[CV] colsample_bytree=0.6, subsample=0.6, subsample_freq=4 ...........\n",
      "[CV]  colsample_bytree=0.6, subsample=0.6, subsample_freq=3, score=0.907114, total= 2.9min\n",
      "[CV] colsample_bytree=0.6, subsample=0.6, subsample_freq=4 ...........\n",
      "[CV]  colsample_bytree=0.6, subsample=0.6, subsample_freq=3, score=0.914973, total= 2.9min\n",
      "[CV] colsample_bytree=0.6, subsample=0.6, subsample_freq=4 ...........\n"
     ]
    },
    {
     "name": "stderr",
     "output_type": "stream",
     "text": [
      "[Parallel(n_jobs=-1)]: Done   8 tasks      | elapsed:  3.0min\n"
     ]
    },
    {
     "name": "stdout",
     "output_type": "stream",
     "text": [
      "[CV]  colsample_bytree=0.6, subsample=0.6, subsample_freq=1, score=0.905080, total= 3.0min\n",
      "[CV] colsample_bytree=0.6, subsample=0.6, subsample_freq=5 ...........\n",
      "[CV]  colsample_bytree=0.6, subsample=0.6, subsample_freq=1, score=0.905746, total= 3.0min\n",
      "[CV] colsample_bytree=0.6, subsample=0.6, subsample_freq=5 ...........\n",
      "[CV]  colsample_bytree=0.6, subsample=0.6, subsample_freq=2, score=0.909303, total= 3.0min\n",
      "[CV] colsample_bytree=0.6, subsample=0.6, subsample_freq=5 ...........\n",
      "[CV]  colsample_bytree=0.6, subsample=0.6, subsample_freq=2, score=0.902677, total= 3.0min\n",
      "[CV] colsample_bytree=0.6, subsample=0.6, subsample_freq=5 ...........\n",
      "[CV]  colsample_bytree=0.6, subsample=0.6, subsample_freq=3, score=0.911443, total= 2.7min\n",
      "[CV] colsample_bytree=0.6, subsample=0.6, subsample_freq=5 ...........\n",
      "[CV]  colsample_bytree=0.6, subsample=0.6, subsample_freq=3, score=0.903255, total= 2.8min\n",
      "[CV] colsample_bytree=0.6, subsample=0.7, subsample_freq=1 ...........\n",
      "[CV]  colsample_bytree=0.6, subsample=0.6, subsample_freq=4, score=0.906095, total= 2.8min\n",
      "[CV] colsample_bytree=0.6, subsample=0.7, subsample_freq=1 ...........\n",
      "[CV]  colsample_bytree=0.6, subsample=0.6, subsample_freq=3, score=0.905141, total= 3.0min\n",
      "[CV] colsample_bytree=0.6, subsample=0.7, subsample_freq=1 ...........\n",
      "[CV]  colsample_bytree=0.6, subsample=0.6, subsample_freq=4, score=0.915401, total= 3.0min\n",
      "[CV] colsample_bytree=0.6, subsample=0.7, subsample_freq=1 ...........\n"
     ]
    },
    {
     "name": "stderr",
     "output_type": "stream",
     "text": [
      "[Parallel(n_jobs=-1)]: Done  17 tasks      | elapsed:  5.8min\n"
     ]
    },
    {
     "name": "stdout",
     "output_type": "stream",
     "text": [
      "[CV]  colsample_bytree=0.6, subsample=0.6, subsample_freq=4, score=0.903692, total= 2.9min\n",
      "[CV] colsample_bytree=0.6, subsample=0.7, subsample_freq=1 ...........\n",
      "[CV]  colsample_bytree=0.6, subsample=0.6, subsample_freq=5, score=0.901302, total= 2.9min\n",
      "[CV] colsample_bytree=0.6, subsample=0.7, subsample_freq=2 ...........\n",
      "[CV]  colsample_bytree=0.6, subsample=0.6, subsample_freq=4, score=0.912113, total= 3.0min\n",
      "[CV] colsample_bytree=0.6, subsample=0.7, subsample_freq=2 ...........\n",
      "[CV]  colsample_bytree=0.6, subsample=0.6, subsample_freq=5, score=0.915972, total= 3.1min\n",
      "[CV] colsample_bytree=0.6, subsample=0.7, subsample_freq=2 ...........\n",
      "[CV]  colsample_bytree=0.6, subsample=0.6, subsample_freq=5, score=0.904777, total= 3.0min\n",
      "[CV] colsample_bytree=0.6, subsample=0.7, subsample_freq=2 ...........\n",
      "[CV]  colsample_bytree=0.6, subsample=0.6, subsample_freq=4, score=0.904992, total= 3.2min\n",
      "[CV] colsample_bytree=0.6, subsample=0.7, subsample_freq=2 ...........\n",
      "[CV]  colsample_bytree=0.6, subsample=0.6, subsample_freq=5, score=0.904430, total= 3.3min\n",
      "[CV] colsample_bytree=0.6, subsample=0.7, subsample_freq=3 ...........\n",
      "[CV]  colsample_bytree=0.6, subsample=0.6, subsample_freq=5, score=0.910688, total= 2.7min\n",
      "[CV] colsample_bytree=0.6, subsample=0.7, subsample_freq=3 ...........\n",
      "[CV]  colsample_bytree=0.6, subsample=0.7, subsample_freq=1, score=0.918690, total= 2.9min\n",
      "[CV] colsample_bytree=0.6, subsample=0.7, subsample_freq=3 ...........\n"
     ]
    },
    {
     "name": "stderr",
     "output_type": "stream",
     "text": [
      "[Parallel(n_jobs=-1)]: Done  26 tasks      | elapsed:  8.7min\n"
     ]
    },
    {
     "name": "stdout",
     "output_type": "stream",
     "text": [
      "[CV]  colsample_bytree=0.6, subsample=0.7, subsample_freq=1, score=0.906258, total= 2.9min\n",
      "[CV] colsample_bytree=0.6, subsample=0.7, subsample_freq=3 ...........\n",
      "[CV]  colsample_bytree=0.6, subsample=0.7, subsample_freq=1, score=0.902910, total= 2.9min\n",
      "[CV] colsample_bytree=0.6, subsample=0.7, subsample_freq=3 ...........\n",
      "[CV]  colsample_bytree=0.6, subsample=0.7, subsample_freq=2, score=0.907851, total= 2.8min\n",
      "[CV] colsample_bytree=0.6, subsample=0.7, subsample_freq=4 ...........\n",
      "[CV]  colsample_bytree=0.6, subsample=0.7, subsample_freq=1, score=0.911999, total= 2.9min\n",
      "[CV] colsample_bytree=0.6, subsample=0.7, subsample_freq=4 ...........\n",
      "[CV]  colsample_bytree=0.6, subsample=0.7, subsample_freq=1, score=0.908215, total= 3.2min\n",
      "[CV] colsample_bytree=0.6, subsample=0.7, subsample_freq=4 ...........\n",
      "[CV]  colsample_bytree=0.6, subsample=0.7, subsample_freq=2, score=0.917023, total= 3.1min\n",
      "[CV] colsample_bytree=0.6, subsample=0.7, subsample_freq=4 ...........\n",
      "[CV]  colsample_bytree=0.6, subsample=0.7, subsample_freq=2, score=0.905767, total= 3.0min\n",
      "[CV] colsample_bytree=0.6, subsample=0.7, subsample_freq=4 ...........\n",
      "[CV]  colsample_bytree=0.6, subsample=0.7, subsample_freq=2, score=0.904633, total= 3.1min\n",
      "[CV] colsample_bytree=0.6, subsample=0.7, subsample_freq=5 ...........\n",
      "[CV]  colsample_bytree=0.6, subsample=0.7, subsample_freq=2, score=0.911874, total= 3.1min\n",
      "[CV] colsample_bytree=0.6, subsample=0.7, subsample_freq=5 ...........\n",
      "[CV]  colsample_bytree=0.6, subsample=0.7, subsample_freq=3, score=0.918269, total= 3.4min\n",
      "[CV] colsample_bytree=0.6, subsample=0.7, subsample_freq=5 ...........\n",
      "[CV]  colsample_bytree=0.6, subsample=0.7, subsample_freq=3, score=0.904645, total= 2.9min\n",
      "[CV] colsample_bytree=0.6, subsample=0.7, subsample_freq=5 ...........\n"
     ]
    },
    {
     "name": "stderr",
     "output_type": "stream",
     "text": [
      "[Parallel(n_jobs=-1)]: Done  37 tasks      | elapsed: 11.3min\n"
     ]
    },
    {
     "name": "stdout",
     "output_type": "stream",
     "text": [
      "[CV]  colsample_bytree=0.6, subsample=0.7, subsample_freq=3, score=0.903377, total= 2.8min\n",
      "[CV] colsample_bytree=0.6, subsample=0.7, subsample_freq=5 ...........\n",
      "[CV]  colsample_bytree=0.6, subsample=0.7, subsample_freq=4, score=0.919055, total= 2.9min\n",
      "[CV] colsample_bytree=0.6, subsample=0.8, subsample_freq=1 ...........\n",
      "[CV]  colsample_bytree=0.6, subsample=0.7, subsample_freq=3, score=0.905360, total= 3.1min\n",
      "[CV] colsample_bytree=0.6, subsample=0.8, subsample_freq=1 ...........\n",
      "[CV]  colsample_bytree=0.6, subsample=0.7, subsample_freq=3, score=0.912430, total= 3.0min\n",
      "[CV] colsample_bytree=0.6, subsample=0.8, subsample_freq=1 ...........\n",
      "[CV]  colsample_bytree=0.6, subsample=0.7, subsample_freq=4, score=0.908706, total= 3.0min\n",
      "[CV] colsample_bytree=0.6, subsample=0.8, subsample_freq=1 ...........\n",
      "[CV]  colsample_bytree=0.6, subsample=0.7, subsample_freq=4, score=0.904886, total= 2.9min\n",
      "[CV] colsample_bytree=0.6, subsample=0.8, subsample_freq=1 ...........\n",
      "[CV]  colsample_bytree=0.6, subsample=0.7, subsample_freq=4, score=0.907762, total= 3.1min\n",
      "[CV] colsample_bytree=0.6, subsample=0.8, subsample_freq=2 ...........\n",
      "[CV]  colsample_bytree=0.6, subsample=0.7, subsample_freq=4, score=0.912901, total= 3.1min\n",
      "[CV] colsample_bytree=0.6, subsample=0.8, subsample_freq=2 ...........\n",
      "[CV]  colsample_bytree=0.6, subsample=0.7, subsample_freq=5, score=0.919738, total= 3.1min\n",
      "[CV] colsample_bytree=0.6, subsample=0.8, subsample_freq=2 ...........\n",
      "[CV]  colsample_bytree=0.6, subsample=0.7, subsample_freq=5, score=0.907023, total= 3.1min\n",
      "[CV] colsample_bytree=0.6, subsample=0.8, subsample_freq=2 ...........\n",
      "[CV]  colsample_bytree=0.6, subsample=0.7, subsample_freq=5, score=0.902512, total= 3.3min\n",
      "[CV] colsample_bytree=0.6, subsample=0.8, subsample_freq=2 ...........\n"
     ]
    },
    {
     "name": "stderr",
     "output_type": "stream",
     "text": [
      "[Parallel(n_jobs=-1)]: Done  48 tasks      | elapsed: 13.3min\n"
     ]
    },
    {
     "name": "stdout",
     "output_type": "stream",
     "text": [
      "[CV]  colsample_bytree=0.6, subsample=0.7, subsample_freq=5, score=0.904419, total= 3.0min\n",
      "[CV] colsample_bytree=0.6, subsample=0.8, subsample_freq=3 ...........\n",
      "[CV]  colsample_bytree=0.6, subsample=0.7, subsample_freq=5, score=0.912009, total= 2.8min\n",
      "[CV] colsample_bytree=0.6, subsample=0.8, subsample_freq=3 ...........\n",
      "[CV]  colsample_bytree=0.6, subsample=0.8, subsample_freq=1, score=0.909870, total= 2.9min\n",
      "[CV] colsample_bytree=0.6, subsample=0.8, subsample_freq=3 ...........\n",
      "[CV]  colsample_bytree=0.6, subsample=0.8, subsample_freq=1, score=0.908879, total= 2.9min\n",
      "[CV] colsample_bytree=0.6, subsample=0.8, subsample_freq=3 ...........\n",
      "[CV]  colsample_bytree=0.6, subsample=0.8, subsample_freq=1, score=0.920593, total= 3.1min\n",
      "[CV] colsample_bytree=0.6, subsample=0.8, subsample_freq=3 ...........\n",
      "[CV]  colsample_bytree=0.6, subsample=0.8, subsample_freq=1, score=0.904393, total= 3.0min\n",
      "[CV] colsample_bytree=0.6, subsample=0.8, subsample_freq=4 ...........\n",
      "[CV]  colsample_bytree=0.6, subsample=0.8, subsample_freq=1, score=0.916112, total= 3.1min\n",
      "[CV] colsample_bytree=0.6, subsample=0.8, subsample_freq=4 ...........\n",
      "[CV]  colsample_bytree=0.6, subsample=0.8, subsample_freq=2, score=0.909894, total= 3.1min\n",
      "[CV] colsample_bytree=0.6, subsample=0.8, subsample_freq=4 ...........\n",
      "[CV]  colsample_bytree=0.6, subsample=0.8, subsample_freq=2, score=0.919606, total= 3.3min\n",
      "[CV] colsample_bytree=0.6, subsample=0.8, subsample_freq=4 ...........\n",
      "[CV]  colsample_bytree=0.6, subsample=0.8, subsample_freq=2, score=0.908792, total= 3.3min\n",
      "[CV] colsample_bytree=0.6, subsample=0.8, subsample_freq=4 ...........\n",
      "[CV]  colsample_bytree=0.6, subsample=0.8, subsample_freq=2, score=0.904326, total= 3.3min\n",
      "[CV] colsample_bytree=0.6, subsample=0.8, subsample_freq=5 ...........\n",
      "[CV]  colsample_bytree=0.6, subsample=0.8, subsample_freq=2, score=0.915474, total= 3.3min\n",
      "[CV] colsample_bytree=0.6, subsample=0.8, subsample_freq=5 ...........\n",
      "[CV]  colsample_bytree=0.6, subsample=0.8, subsample_freq=3, score=0.908277, total= 2.9min\n",
      "[CV] colsample_bytree=0.6, subsample=0.8, subsample_freq=5 ...........\n"
     ]
    },
    {
     "name": "stderr",
     "output_type": "stream",
     "text": [
      "[Parallel(n_jobs=-1)]: Done  61 tasks      | elapsed: 17.5min\n"
     ]
    },
    {
     "name": "stdout",
     "output_type": "stream",
     "text": [
      "[CV]  colsample_bytree=0.6, subsample=0.8, subsample_freq=3, score=0.918279, total= 3.2min\n",
      "[CV] colsample_bytree=0.6, subsample=0.8, subsample_freq=5 ...........\n",
      "[CV]  colsample_bytree=0.6, subsample=0.8, subsample_freq=3, score=0.907162, total= 3.0min\n",
      "[CV] colsample_bytree=0.6, subsample=0.8, subsample_freq=5 ...........\n",
      "[CV]  colsample_bytree=0.6, subsample=0.8, subsample_freq=3, score=0.905547, total= 3.1min\n",
      "[CV] colsample_bytree=0.6, subsample=0.9, subsample_freq=1 ...........\n",
      "[CV]  colsample_bytree=0.6, subsample=0.8, subsample_freq=3, score=0.913598, total= 3.1min\n",
      "[CV] colsample_bytree=0.6, subsample=0.9, subsample_freq=1 ...........\n",
      "[CV]  colsample_bytree=0.6, subsample=0.8, subsample_freq=4, score=0.906922, total= 2.9min\n",
      "[CV] colsample_bytree=0.6, subsample=0.9, subsample_freq=1 ...........\n",
      "[CV]  colsample_bytree=0.6, subsample=0.8, subsample_freq=4, score=0.920684, total= 3.1min\n",
      "[CV] colsample_bytree=0.6, subsample=0.9, subsample_freq=1 ...........\n",
      "[CV]  colsample_bytree=0.6, subsample=0.8, subsample_freq=4, score=0.905396, total= 3.1min\n",
      "[CV] colsample_bytree=0.6, subsample=0.9, subsample_freq=1 ...........\n",
      "[CV]  colsample_bytree=0.6, subsample=0.8, subsample_freq=4, score=0.916109, total= 3.1min\n",
      "[CV] colsample_bytree=0.6, subsample=0.9, subsample_freq=2 ...........\n",
      "[CV]  colsample_bytree=0.6, subsample=0.8, subsample_freq=4, score=0.906959, total= 3.3min\n",
      "[CV] colsample_bytree=0.6, subsample=0.9, subsample_freq=2 ...........\n",
      "[CV]  colsample_bytree=0.6, subsample=0.8, subsample_freq=5, score=0.920233, total= 3.4min\n",
      "[CV] colsample_bytree=0.6, subsample=0.9, subsample_freq=2 ...........\n",
      "[CV]  colsample_bytree=0.6, subsample=0.8, subsample_freq=5, score=0.908266, total= 3.2min\n",
      "[CV] colsample_bytree=0.6, subsample=0.9, subsample_freq=2 ...........\n",
      "[CV]  colsample_bytree=0.6, subsample=0.8, subsample_freq=5, score=0.909078, total= 3.0min\n",
      "[CV] colsample_bytree=0.6, subsample=0.9, subsample_freq=2 ...........\n",
      "[CV]  colsample_bytree=0.6, subsample=0.8, subsample_freq=5, score=0.905663, total= 3.0min\n",
      "[CV] colsample_bytree=0.6, subsample=0.9, subsample_freq=3 ...........\n"
     ]
    },
    {
     "name": "stderr",
     "output_type": "stream",
     "text": [
      "[Parallel(n_jobs=-1)]: Done  74 tasks      | elapsed: 20.7min\n"
     ]
    },
    {
     "name": "stdout",
     "output_type": "stream",
     "text": [
      "[CV]  colsample_bytree=0.6, subsample=0.8, subsample_freq=5, score=0.912097, total= 3.0min\n",
      "[CV] colsample_bytree=0.6, subsample=0.9, subsample_freq=3 ...........\n",
      "[CV]  colsample_bytree=0.6, subsample=0.9, subsample_freq=1, score=0.907928, total= 3.1min\n",
      "[CV]  colsample_bytree=0.6, subsample=0.9, subsample_freq=1, score=0.909836, total= 3.0min\n",
      "[CV] colsample_bytree=0.6, subsample=0.9, subsample_freq=3 ...........\n",
      "[CV] colsample_bytree=0.6, subsample=0.9, subsample_freq=3 ...........\n",
      "[CV]  colsample_bytree=0.6, subsample=0.9, subsample_freq=1, score=0.920146, total= 3.2min\n",
      "[CV] colsample_bytree=0.6, subsample=0.9, subsample_freq=3 ...........\n",
      "[CV]  colsample_bytree=0.6, subsample=0.9, subsample_freq=1, score=0.907758, total= 3.2min\n",
      "[CV] colsample_bytree=0.6, subsample=0.9, subsample_freq=4 ...........\n",
      "[CV]  colsample_bytree=0.6, subsample=0.9, subsample_freq=2, score=0.920029, total= 3.0min\n",
      "[CV] colsample_bytree=0.6, subsample=0.9, subsample_freq=4 ...........\n",
      "[CV]  colsample_bytree=0.6, subsample=0.9, subsample_freq=1, score=0.914786, total= 3.3min\n",
      "[CV] colsample_bytree=0.6, subsample=0.9, subsample_freq=4 ...........\n",
      "[CV]  colsample_bytree=0.6, subsample=0.9, subsample_freq=2, score=0.908490, total= 3.3min\n",
      "[CV] colsample_bytree=0.6, subsample=0.9, subsample_freq=4 ...........\n",
      "[CV]  colsample_bytree=0.6, subsample=0.9, subsample_freq=2, score=0.908292, total= 3.3min\n",
      "[CV] colsample_bytree=0.6, subsample=0.9, subsample_freq=4 ...........\n",
      "[CV]  colsample_bytree=0.6, subsample=0.9, subsample_freq=2, score=0.904618, total= 3.3min\n",
      "[CV] colsample_bytree=0.6, subsample=0.9, subsample_freq=5 ...........\n",
      "[CV]  colsample_bytree=0.6, subsample=0.9, subsample_freq=2, score=0.913629, total= 3.1min\n",
      "[CV] colsample_bytree=0.6, subsample=0.9, subsample_freq=5 ...........\n",
      "[CV]  colsample_bytree=0.6, subsample=0.9, subsample_freq=3, score=0.918039, total= 3.2min\n",
      "[CV] colsample_bytree=0.6, subsample=0.9, subsample_freq=5 ...........\n",
      "[CV]  colsample_bytree=0.6, subsample=0.9, subsample_freq=3, score=0.909434, total= 3.2min\n",
      "[CV] colsample_bytree=0.6, subsample=0.9, subsample_freq=5 ...........\n",
      "[CV]  colsample_bytree=0.6, subsample=0.9, subsample_freq=3, score=0.912822, total= 3.0min\n",
      "[CV] colsample_bytree=0.6, subsample=0.9, subsample_freq=5 ...........\n",
      "[CV]  colsample_bytree=0.6, subsample=0.9, subsample_freq=3, score=0.904829, total= 3.2min\n",
      "[CV] colsample_bytree=0.7, subsample=0.6, subsample_freq=1 ...........\n"
     ]
    },
    {
     "name": "stderr",
     "output_type": "stream",
     "text": [
      "[Parallel(n_jobs=-1)]: Done  89 tasks      | elapsed: 24.5min\n"
     ]
    },
    {
     "name": "stdout",
     "output_type": "stream",
     "text": [
      "[CV]  colsample_bytree=0.6, subsample=0.9, subsample_freq=3, score=0.909234, total= 3.3min\n",
      "[CV] colsample_bytree=0.7, subsample=0.6, subsample_freq=1 ...........\n",
      "[CV]  colsample_bytree=0.6, subsample=0.9, subsample_freq=4, score=0.921313, total= 3.3min\n",
      "[CV] colsample_bytree=0.7, subsample=0.6, subsample_freq=1 ...........\n",
      "[CV]  colsample_bytree=0.6, subsample=0.9, subsample_freq=4, score=0.911849, total= 3.0min\n",
      "[CV] colsample_bytree=0.7, subsample=0.6, subsample_freq=1 ...........\n",
      "[CV]  colsample_bytree=0.6, subsample=0.9, subsample_freq=4, score=0.909207, total= 3.3min\n",
      "[CV] colsample_bytree=0.7, subsample=0.6, subsample_freq=1 ...........\n",
      "[CV]  colsample_bytree=0.6, subsample=0.9, subsample_freq=4, score=0.903906, total= 3.3min\n",
      "[CV] colsample_bytree=0.7, subsample=0.6, subsample_freq=2 ...........\n",
      "[CV]  colsample_bytree=0.6, subsample=0.9, subsample_freq=4, score=0.915440, total= 3.2min\n",
      "[CV] colsample_bytree=0.7, subsample=0.6, subsample_freq=2 ...........\n",
      "[CV]  colsample_bytree=0.6, subsample=0.9, subsample_freq=5, score=0.918446, total= 3.4min\n",
      "[CV] colsample_bytree=0.7, subsample=0.6, subsample_freq=2 ...........\n",
      "[CV]  colsample_bytree=0.6, subsample=0.9, subsample_freq=5, score=0.908080, total= 3.2min\n",
      "[CV] colsample_bytree=0.7, subsample=0.6, subsample_freq=2 ...........\n",
      "[CV]  colsample_bytree=0.6, subsample=0.9, subsample_freq=5, score=0.909572, total= 3.3min\n",
      "[CV] colsample_bytree=0.7, subsample=0.6, subsample_freq=2 ...........\n",
      "[CV]  colsample_bytree=0.6, subsample=0.9, subsample_freq=5, score=0.914628, total= 3.0min\n",
      "[CV] colsample_bytree=0.7, subsample=0.6, subsample_freq=3 ...........\n",
      "[CV]  colsample_bytree=0.7, subsample=0.6, subsample_freq=1, score=0.915997, total= 2.8min\n",
      "[CV] colsample_bytree=0.7, subsample=0.6, subsample_freq=3 ...........\n",
      "[CV]  colsample_bytree=0.6, subsample=0.9, subsample_freq=5, score=0.906279, total= 3.2min\n",
      "[CV] colsample_bytree=0.7, subsample=0.6, subsample_freq=3 ...........\n",
      "[CV]  colsample_bytree=0.7, subsample=0.6, subsample_freq=1, score=0.902233, total= 2.7min\n",
      "[CV] colsample_bytree=0.7, subsample=0.6, subsample_freq=3 ...........\n",
      "[CV]  colsample_bytree=0.7, subsample=0.6, subsample_freq=1, score=0.905093, total= 3.2min\n",
      "[CV] colsample_bytree=0.7, subsample=0.6, subsample_freq=3 ...........\n",
      "[CV]  colsample_bytree=0.7, subsample=0.6, subsample_freq=1, score=0.905417, total= 3.1min\n",
      "[CV] colsample_bytree=0.7, subsample=0.6, subsample_freq=4 ...........\n"
     ]
    },
    {
     "name": "stderr",
     "output_type": "stream",
     "text": [
      "[Parallel(n_jobs=-1)]: Done 104 tasks      | elapsed: 28.0min\n"
     ]
    },
    {
     "name": "stdout",
     "output_type": "stream",
     "text": [
      "[CV]  colsample_bytree=0.7, subsample=0.6, subsample_freq=1, score=0.909354, total= 3.1min\n",
      "[CV] colsample_bytree=0.7, subsample=0.6, subsample_freq=4 ...........\n",
      "[CV]  colsample_bytree=0.7, subsample=0.6, subsample_freq=2, score=0.916122, total= 3.1min\n",
      "[CV] colsample_bytree=0.7, subsample=0.6, subsample_freq=4 ...........\n",
      "[CV]  colsample_bytree=0.7, subsample=0.6, subsample_freq=2, score=0.905033, total= 2.9min\n",
      "[CV] colsample_bytree=0.7, subsample=0.6, subsample_freq=4 ...........\n",
      "[CV]  colsample_bytree=0.7, subsample=0.6, subsample_freq=2, score=0.905536, total= 3.1min\n",
      "[CV] colsample_bytree=0.7, subsample=0.6, subsample_freq=4 ...........\n",
      "[CV]  colsample_bytree=0.7, subsample=0.6, subsample_freq=2, score=0.902329, total= 3.0min\n",
      "[CV] colsample_bytree=0.7, subsample=0.6, subsample_freq=5 ...........\n",
      "[CV]  colsample_bytree=0.7, subsample=0.6, subsample_freq=3, score=0.902608, total= 2.9min\n",
      "[CV] colsample_bytree=0.7, subsample=0.6, subsample_freq=5 ...........\n",
      "[CV]  colsample_bytree=0.7, subsample=0.6, subsample_freq=3, score=0.916138, total= 2.9min\n",
      "[CV] colsample_bytree=0.7, subsample=0.6, subsample_freq=5 ...........\n",
      "[CV]  colsample_bytree=0.7, subsample=0.6, subsample_freq=3, score=0.902980, total= 2.9min\n",
      "[CV] colsample_bytree=0.7, subsample=0.6, subsample_freq=5 ...........\n",
      "[CV]  colsample_bytree=0.7, subsample=0.6, subsample_freq=2, score=0.912601, total= 3.1min\n",
      "[CV] colsample_bytree=0.7, subsample=0.6, subsample_freq=5 ...........\n",
      "[CV]  colsample_bytree=0.7, subsample=0.6, subsample_freq=3, score=0.901460, total= 2.7min\n",
      "[CV] colsample_bytree=0.7, subsample=0.7, subsample_freq=1 ...........\n",
      "[CV]  colsample_bytree=0.7, subsample=0.6, subsample_freq=3, score=0.911223, total= 3.1min\n",
      "[CV] colsample_bytree=0.7, subsample=0.7, subsample_freq=1 ...........\n",
      "[CV]  colsample_bytree=0.7, subsample=0.6, subsample_freq=4, score=0.915063, total= 3.1min\n",
      "[CV] colsample_bytree=0.7, subsample=0.7, subsample_freq=1 ...........\n",
      "[CV]  colsample_bytree=0.7, subsample=0.6, subsample_freq=4, score=0.906058, total= 3.0min\n",
      "[CV] colsample_bytree=0.7, subsample=0.7, subsample_freq=1 ...........\n",
      "[CV]  colsample_bytree=0.7, subsample=0.6, subsample_freq=4, score=0.900069, total= 2.9min\n",
      "[CV] colsample_bytree=0.7, subsample=0.7, subsample_freq=1 ...........\n",
      "[CV]  colsample_bytree=0.7, subsample=0.6, subsample_freq=4, score=0.904216, total= 3.1min\n",
      "[CV] colsample_bytree=0.7, subsample=0.7, subsample_freq=2 ...........\n",
      "[CV]  colsample_bytree=0.7, subsample=0.6, subsample_freq=5, score=0.916128, total= 3.0min\n",
      "[CV] colsample_bytree=0.7, subsample=0.7, subsample_freq=2 ...........\n",
      "[CV]  colsample_bytree=0.7, subsample=0.6, subsample_freq=4, score=0.910787, total= 3.1min\n",
      "[CV] colsample_bytree=0.7, subsample=0.7, subsample_freq=2 ...........\n"
     ]
    },
    {
     "name": "stderr",
     "output_type": "stream",
     "text": [
      "[Parallel(n_jobs=-1)]: Done 121 tasks      | elapsed: 33.0min\n"
     ]
    },
    {
     "name": "stdout",
     "output_type": "stream",
     "text": [
      "[CV]  colsample_bytree=0.7, subsample=0.6, subsample_freq=5, score=0.903694, total= 3.0min\n",
      "[CV] colsample_bytree=0.7, subsample=0.7, subsample_freq=2 ...........\n",
      "[CV]  colsample_bytree=0.7, subsample=0.6, subsample_freq=5, score=0.904556, total= 3.0min\n",
      "[CV] colsample_bytree=0.7, subsample=0.7, subsample_freq=2 ...........\n",
      "[CV]  colsample_bytree=0.7, subsample=0.6, subsample_freq=5, score=0.902498, total= 2.9min\n",
      "[CV] colsample_bytree=0.7, subsample=0.7, subsample_freq=3 ...........\n",
      "[CV]  colsample_bytree=0.7, subsample=0.7, subsample_freq=1, score=0.917407, total= 2.8min\n",
      "[CV] colsample_bytree=0.7, subsample=0.7, subsample_freq=3 ...........\n",
      "[CV]  colsample_bytree=0.7, subsample=0.6, subsample_freq=5, score=0.910197, total= 3.0min\n",
      "[CV] colsample_bytree=0.7, subsample=0.7, subsample_freq=3 ...........\n",
      "[CV]  colsample_bytree=0.7, subsample=0.7, subsample_freq=1, score=0.907918, total= 3.1min\n",
      "[CV] colsample_bytree=0.7, subsample=0.7, subsample_freq=3 ...........\n",
      "[CV]  colsample_bytree=0.7, subsample=0.7, subsample_freq=1, score=0.907439, total= 3.0min\n",
      "[CV] colsample_bytree=0.7, subsample=0.7, subsample_freq=3 ...........\n",
      "[CV]  colsample_bytree=0.7, subsample=0.7, subsample_freq=1, score=0.904915, total= 3.0min\n",
      "[CV] colsample_bytree=0.7, subsample=0.7, subsample_freq=4 ...........\n",
      "[CV]  colsample_bytree=0.7, subsample=0.7, subsample_freq=1, score=0.914093, total= 3.0min\n",
      "[CV] colsample_bytree=0.7, subsample=0.7, subsample_freq=4 ...........\n",
      "[CV]  colsample_bytree=0.7, subsample=0.7, subsample_freq=2, score=0.916008, total= 3.1min\n",
      "[CV] colsample_bytree=0.7, subsample=0.7, subsample_freq=4 ...........\n",
      "[CV]  colsample_bytree=0.7, subsample=0.7, subsample_freq=2, score=0.904444, total= 3.0min\n",
      "[CV] colsample_bytree=0.7, subsample=0.7, subsample_freq=4 ...........\n",
      "[CV]  colsample_bytree=0.7, subsample=0.7, subsample_freq=2, score=0.905113, total= 3.1min\n",
      "[CV] colsample_bytree=0.7, subsample=0.7, subsample_freq=4 ...........\n",
      "[CV]  colsample_bytree=0.7, subsample=0.7, subsample_freq=3, score=0.907032, total= 2.8min\n",
      "[CV] colsample_bytree=0.7, subsample=0.7, subsample_freq=5 ...........\n",
      "[CV]  colsample_bytree=0.7, subsample=0.7, subsample_freq=2, score=0.912404, total= 2.9min\n",
      "[CV] colsample_bytree=0.7, subsample=0.7, subsample_freq=5 ...........\n",
      "[CV]  colsample_bytree=0.7, subsample=0.7, subsample_freq=3, score=0.915843, total= 3.0min\n",
      "[CV] colsample_bytree=0.7, subsample=0.7, subsample_freq=5 ...........\n",
      "[CV]  colsample_bytree=0.7, subsample=0.7, subsample_freq=2, score=0.903544, total= 3.0min\n",
      "[CV] colsample_bytree=0.7, subsample=0.7, subsample_freq=5 ...........\n",
      "[CV]  colsample_bytree=0.7, subsample=0.7, subsample_freq=3, score=0.907027, total= 3.0min\n",
      "[CV] colsample_bytree=0.7, subsample=0.7, subsample_freq=5 ...........\n"
     ]
    },
    {
     "name": "stderr",
     "output_type": "stream",
     "text": [
      "[Parallel(n_jobs=-1)]: Done 138 tasks      | elapsed: 36.6min\n"
     ]
    },
    {
     "name": "stdout",
     "output_type": "stream",
     "text": [
      "[CV]  colsample_bytree=0.7, subsample=0.7, subsample_freq=3, score=0.911227, total= 3.1min\n",
      "[CV]  colsample_bytree=0.7, subsample=0.7, subsample_freq=3, score=0.902141, total= 3.1min\n",
      "[CV] colsample_bytree=0.7, subsample=0.8, subsample_freq=1 ...........\n",
      "[CV] colsample_bytree=0.7, subsample=0.8, subsample_freq=1 ...........\n",
      "[CV]  colsample_bytree=0.7, subsample=0.7, subsample_freq=4, score=0.917452, total= 3.0min\n",
      "[CV] colsample_bytree=0.7, subsample=0.8, subsample_freq=1 ...........\n",
      "[CV]  colsample_bytree=0.7, subsample=0.7, subsample_freq=4, score=0.906697, total= 2.9min\n",
      "[CV] colsample_bytree=0.7, subsample=0.8, subsample_freq=1 ...........\n",
      "[CV]  colsample_bytree=0.7, subsample=0.7, subsample_freq=4, score=0.906579, total= 3.0min\n",
      "[CV] colsample_bytree=0.7, subsample=0.8, subsample_freq=1 ...........\n",
      "[CV]  colsample_bytree=0.7, subsample=0.7, subsample_freq=4, score=0.901786, total= 3.0min\n",
      "[CV] colsample_bytree=0.7, subsample=0.8, subsample_freq=2 ...........\n",
      "[CV]  colsample_bytree=0.7, subsample=0.7, subsample_freq=5, score=0.919113, total= 2.9min\n",
      "[CV] colsample_bytree=0.7, subsample=0.8, subsample_freq=2 ...........\n",
      "[CV]  colsample_bytree=0.7, subsample=0.7, subsample_freq=5, score=0.905893, total= 2.9min\n",
      "[CV] colsample_bytree=0.7, subsample=0.8, subsample_freq=2 ...........\n",
      "[CV]  colsample_bytree=0.7, subsample=0.7, subsample_freq=5, score=0.905853, total= 2.9min\n",
      "[CV] colsample_bytree=0.7, subsample=0.8, subsample_freq=2 ...........\n",
      "[CV]  colsample_bytree=0.7, subsample=0.7, subsample_freq=4, score=0.914500, total= 3.2min\n",
      "[CV] colsample_bytree=0.7, subsample=0.8, subsample_freq=2 ...........\n",
      "[CV]  colsample_bytree=0.7, subsample=0.7, subsample_freq=5, score=0.906070, total= 3.0min\n",
      "[CV] colsample_bytree=0.7, subsample=0.8, subsample_freq=3 ...........\n",
      "[CV]  colsample_bytree=0.7, subsample=0.7, subsample_freq=5, score=0.911040, total= 3.0min\n",
      "[CV] colsample_bytree=0.7, subsample=0.8, subsample_freq=3 ...........\n",
      "[CV]  colsample_bytree=0.7, subsample=0.8, subsample_freq=1, score=0.906270, total= 3.2min\n",
      "[CV] colsample_bytree=0.7, subsample=0.8, subsample_freq=3 ...........\n",
      "[CV]  colsample_bytree=0.7, subsample=0.8, subsample_freq=1, score=0.919279, total= 3.4min\n",
      "[CV] colsample_bytree=0.7, subsample=0.8, subsample_freq=3 ...........\n",
      "[CV]  colsample_bytree=0.7, subsample=0.8, subsample_freq=1, score=0.907938, total= 3.0min\n",
      "[CV] colsample_bytree=0.7, subsample=0.8, subsample_freq=3 ...........\n",
      "[CV]  colsample_bytree=0.7, subsample=0.8, subsample_freq=1, score=0.904759, total= 3.0min\n",
      "[CV] colsample_bytree=0.7, subsample=0.8, subsample_freq=4 ...........\n",
      "[CV]  colsample_bytree=0.7, subsample=0.8, subsample_freq=1, score=0.913949, total= 3.1min\n",
      "[CV] colsample_bytree=0.7, subsample=0.8, subsample_freq=4 ...........\n",
      "[CV]  colsample_bytree=0.7, subsample=0.8, subsample_freq=2, score=0.918198, total= 3.0min\n",
      "[CV] colsample_bytree=0.7, subsample=0.8, subsample_freq=4 ...........\n",
      "[CV]  colsample_bytree=0.7, subsample=0.8, subsample_freq=2, score=0.907995, total= 2.9min\n",
      "[CV] colsample_bytree=0.7, subsample=0.8, subsample_freq=4 ...........\n"
     ]
    },
    {
     "name": "stderr",
     "output_type": "stream",
     "text": [
      "[Parallel(n_jobs=-1)]: Done 157 tasks      | elapsed: 42.2min\n"
     ]
    },
    {
     "name": "stdout",
     "output_type": "stream",
     "text": [
      "[CV]  colsample_bytree=0.7, subsample=0.8, subsample_freq=2, score=0.907945, total= 3.1min\n",
      "[CV] colsample_bytree=0.7, subsample=0.8, subsample_freq=4 ...........\n",
      "[CV]  colsample_bytree=0.7, subsample=0.8, subsample_freq=2, score=0.907682, total= 3.0min\n",
      "[CV] colsample_bytree=0.7, subsample=0.8, subsample_freq=5 ...........\n",
      "[CV]  colsample_bytree=0.7, subsample=0.8, subsample_freq=2, score=0.914300, total= 2.9min\n",
      "[CV] colsample_bytree=0.7, subsample=0.8, subsample_freq=5 ...........\n",
      "[CV]  colsample_bytree=0.7, subsample=0.8, subsample_freq=3, score=0.919973, total= 3.1min\n",
      "[CV] colsample_bytree=0.7, subsample=0.8, subsample_freq=5 ...........\n",
      "[CV]  colsample_bytree=0.7, subsample=0.8, subsample_freq=3, score=0.906907, total= 2.9min\n",
      "[CV] colsample_bytree=0.7, subsample=0.8, subsample_freq=5 ...........\n",
      "[CV]  colsample_bytree=0.7, subsample=0.8, subsample_freq=3, score=0.905577, total= 3.0min\n",
      "[CV] colsample_bytree=0.7, subsample=0.8, subsample_freq=5 ...........\n",
      "[CV]  colsample_bytree=0.7, subsample=0.8, subsample_freq=3, score=0.908970, total= 3.4min\n",
      "[CV] colsample_bytree=0.7, subsample=0.9, subsample_freq=1 ...........\n",
      "[CV]  colsample_bytree=0.7, subsample=0.8, subsample_freq=4, score=0.917849, total= 3.0min\n",
      "[CV] colsample_bytree=0.7, subsample=0.9, subsample_freq=1 ...........\n",
      "[CV]  colsample_bytree=0.7, subsample=0.8, subsample_freq=3, score=0.912931, total= 3.3min\n",
      "[CV] colsample_bytree=0.7, subsample=0.9, subsample_freq=1 ...........\n",
      "[CV]  colsample_bytree=0.7, subsample=0.8, subsample_freq=4, score=0.909258, total= 3.2min\n",
      "[CV] colsample_bytree=0.7, subsample=0.9, subsample_freq=1 ...........\n",
      "[CV]  colsample_bytree=0.7, subsample=0.8, subsample_freq=4, score=0.909328, total= 3.1min\n",
      "[CV] colsample_bytree=0.7, subsample=0.9, subsample_freq=1 ...........\n",
      "[CV]  colsample_bytree=0.7, subsample=0.8, subsample_freq=4, score=0.904334, total= 3.0min\n",
      "[CV] colsample_bytree=0.7, subsample=0.9, subsample_freq=2 ...........\n",
      "[CV]  colsample_bytree=0.7, subsample=0.8, subsample_freq=4, score=0.915492, total= 2.9min\n",
      "[CV] colsample_bytree=0.7, subsample=0.9, subsample_freq=2 ...........\n",
      "[CV]  colsample_bytree=0.7, subsample=0.8, subsample_freq=5, score=0.918020, total= 3.0min\n",
      "[CV] colsample_bytree=0.7, subsample=0.9, subsample_freq=2 ...........\n",
      "[CV]  colsample_bytree=0.7, subsample=0.8, subsample_freq=5, score=0.908963, total= 3.1min\n",
      "[CV] colsample_bytree=0.7, subsample=0.9, subsample_freq=2 ...........\n",
      "[CV]  colsample_bytree=0.7, subsample=0.8, subsample_freq=5, score=0.904507, total= 3.0min\n",
      "[CV] colsample_bytree=0.7, subsample=0.9, subsample_freq=2 ...........\n",
      "[CV]  colsample_bytree=0.7, subsample=0.8, subsample_freq=5, score=0.908428, total= 3.0min\n",
      "[CV] colsample_bytree=0.7, subsample=0.9, subsample_freq=3 ...........\n",
      "[CV]  colsample_bytree=0.7, subsample=0.8, subsample_freq=5, score=0.915288, total= 3.3min\n",
      "[CV] colsample_bytree=0.7, subsample=0.9, subsample_freq=3 ...........\n",
      "[CV]  colsample_bytree=0.7, subsample=0.9, subsample_freq=1, score=0.919090, total= 3.2min\n",
      "[CV] colsample_bytree=0.7, subsample=0.9, subsample_freq=3 ...........\n"
     ]
    },
    {
     "name": "stderr",
     "output_type": "stream",
     "text": [
      "[Parallel(n_jobs=-1)]: Done 176 tasks      | elapsed: 47.3min\n"
     ]
    },
    {
     "name": "stdout",
     "output_type": "stream",
     "text": [
      "[CV]  colsample_bytree=0.7, subsample=0.9, subsample_freq=1, score=0.908666, total= 3.2min\n",
      "[CV] colsample_bytree=0.7, subsample=0.9, subsample_freq=3 ...........\n",
      "[CV]  colsample_bytree=0.7, subsample=0.9, subsample_freq=1, score=0.908364, total= 3.3min\n",
      "[CV] colsample_bytree=0.7, subsample=0.9, subsample_freq=3 ...........\n",
      "[CV]  colsample_bytree=0.7, subsample=0.9, subsample_freq=1, score=0.905712, total= 3.2min\n",
      "[CV] colsample_bytree=0.7, subsample=0.9, subsample_freq=4 ...........\n",
      "[CV]  colsample_bytree=0.7, subsample=0.9, subsample_freq=1, score=0.915177, total= 2.9min\n",
      "[CV] colsample_bytree=0.7, subsample=0.9, subsample_freq=4 ...........\n",
      "[CV]  colsample_bytree=0.7, subsample=0.9, subsample_freq=2, score=0.921660, total= 3.0min\n",
      "[CV] colsample_bytree=0.7, subsample=0.9, subsample_freq=4 ...........\n",
      "[CV]  colsample_bytree=0.7, subsample=0.9, subsample_freq=2, score=0.909300, total= 3.0min\n",
      "[CV] colsample_bytree=0.7, subsample=0.9, subsample_freq=4 ...........\n",
      "[CV]  colsample_bytree=0.7, subsample=0.9, subsample_freq=2, score=0.904782, total= 3.1min\n",
      "[CV] colsample_bytree=0.7, subsample=0.9, subsample_freq=4 ...........\n",
      "[CV]  colsample_bytree=0.7, subsample=0.9, subsample_freq=2, score=0.909110, total= 3.2min\n",
      "[CV] colsample_bytree=0.7, subsample=0.9, subsample_freq=5 ...........\n",
      "[CV]  colsample_bytree=0.7, subsample=0.9, subsample_freq=2, score=0.915404, total= 3.1min\n",
      "[CV] colsample_bytree=0.7, subsample=0.9, subsample_freq=5 ...........\n",
      "[CV]  colsample_bytree=0.7, subsample=0.9, subsample_freq=3, score=0.919016, total= 3.1min\n",
      "[CV] colsample_bytree=0.7, subsample=0.9, subsample_freq=5 ...........\n",
      "[CV]  colsample_bytree=0.7, subsample=0.9, subsample_freq=3, score=0.909484, total= 3.2min\n",
      "[CV] colsample_bytree=0.7, subsample=0.9, subsample_freq=5 ...........\n",
      "[CV]  colsample_bytree=0.7, subsample=0.9, subsample_freq=3, score=0.908101, total= 3.1min\n",
      "[CV] colsample_bytree=0.7, subsample=0.9, subsample_freq=5 ...........\n",
      "[CV]  colsample_bytree=0.7, subsample=0.9, subsample_freq=3, score=0.906615, total= 3.3min\n",
      "[CV] colsample_bytree=0.8, subsample=0.6, subsample_freq=1 ...........\n",
      "[CV]  colsample_bytree=0.7, subsample=0.9, subsample_freq=3, score=0.914103, total= 3.2min\n",
      "[CV] colsample_bytree=0.8, subsample=0.6, subsample_freq=1 ...........\n",
      "[CV]  colsample_bytree=0.7, subsample=0.9, subsample_freq=4, score=0.919191, total= 3.4min\n",
      "[CV] colsample_bytree=0.8, subsample=0.6, subsample_freq=1 ...........\n",
      "[CV]  colsample_bytree=0.7, subsample=0.9, subsample_freq=4, score=0.907810, total= 3.1min\n",
      "[CV] colsample_bytree=0.8, subsample=0.6, subsample_freq=1 ...........\n",
      "[CV]  colsample_bytree=0.7, subsample=0.9, subsample_freq=4, score=0.909560, total= 3.0min\n",
      "[CV] colsample_bytree=0.8, subsample=0.6, subsample_freq=1 ...........\n",
      "[CV]  colsample_bytree=0.7, subsample=0.9, subsample_freq=4, score=0.903994, total= 3.0min\n",
      "[CV] colsample_bytree=0.8, subsample=0.6, subsample_freq=2 ...........\n",
      "[CV]  colsample_bytree=0.7, subsample=0.9, subsample_freq=4, score=0.916536, total= 3.1min\n",
      "[CV] colsample_bytree=0.8, subsample=0.6, subsample_freq=2 ...........\n",
      "[CV]  colsample_bytree=0.7, subsample=0.9, subsample_freq=5, score=0.918169, total= 3.1min\n",
      "[CV] colsample_bytree=0.8, subsample=0.6, subsample_freq=2 ...........\n",
      "[CV]  colsample_bytree=0.7, subsample=0.9, subsample_freq=5, score=0.909396, total= 3.0min\n",
      "[CV] colsample_bytree=0.8, subsample=0.6, subsample_freq=2 ...........\n"
     ]
    },
    {
     "name": "stderr",
     "output_type": "stream",
     "text": [
      "[Parallel(n_jobs=-1)]: Done 197 tasks      | elapsed: 51.9min\n"
     ]
    },
    {
     "name": "stdout",
     "output_type": "stream",
     "text": [
      "[CV]  colsample_bytree=0.7, subsample=0.9, subsample_freq=5, score=0.909150, total= 3.2min\n",
      "[CV] colsample_bytree=0.8, subsample=0.6, subsample_freq=2 ...........\n",
      "[CV]  colsample_bytree=0.7, subsample=0.9, subsample_freq=5, score=0.913278, total= 3.0min\n",
      "[CV] colsample_bytree=0.8, subsample=0.6, subsample_freq=3 ...........\n",
      "[CV]  colsample_bytree=0.7, subsample=0.9, subsample_freq=5, score=0.904766, total= 3.2min\n",
      "[CV] colsample_bytree=0.8, subsample=0.6, subsample_freq=3 ...........\n",
      "[CV]  colsample_bytree=0.8, subsample=0.6, subsample_freq=1, score=0.915826, total= 3.0min\n",
      "[CV] colsample_bytree=0.8, subsample=0.6, subsample_freq=3 ...........\n",
      "[CV]  colsample_bytree=0.8, subsample=0.6, subsample_freq=1, score=0.903659, total= 3.0min\n",
      "[CV] colsample_bytree=0.8, subsample=0.6, subsample_freq=3 ...........\n",
      "[CV]  colsample_bytree=0.8, subsample=0.6, subsample_freq=1, score=0.906709, total= 2.8min\n",
      "[CV] colsample_bytree=0.8, subsample=0.6, subsample_freq=3 ...........\n",
      "[CV]  colsample_bytree=0.8, subsample=0.6, subsample_freq=1, score=0.913239, total= 2.8min\n",
      "[CV]  colsample_bytree=0.8, subsample=0.6, subsample_freq=2, score=0.916597, total= 2.8min\n",
      "[CV] colsample_bytree=0.8, subsample=0.6, subsample_freq=4 ...........\n",
      "[CV] colsample_bytree=0.8, subsample=0.6, subsample_freq=4 ...........\n",
      "[CV]  colsample_bytree=0.8, subsample=0.6, subsample_freq=1, score=0.902620, total= 2.9min\n",
      "[CV] colsample_bytree=0.8, subsample=0.6, subsample_freq=4 ...........\n",
      "[CV]  colsample_bytree=0.8, subsample=0.6, subsample_freq=2, score=0.905001, total= 2.9min\n",
      "[CV] colsample_bytree=0.8, subsample=0.6, subsample_freq=4 ...........\n",
      "[CV]  colsample_bytree=0.8, subsample=0.6, subsample_freq=2, score=0.903254, total= 2.9min\n",
      "[CV] colsample_bytree=0.8, subsample=0.6, subsample_freq=4 ...........\n",
      "[CV]  colsample_bytree=0.8, subsample=0.6, subsample_freq=2, score=0.902241, total= 3.0min\n",
      "[CV] colsample_bytree=0.8, subsample=0.6, subsample_freq=5 ...........\n",
      "[CV]  colsample_bytree=0.8, subsample=0.6, subsample_freq=2, score=0.911203, total= 3.0min\n",
      "[CV] colsample_bytree=0.8, subsample=0.6, subsample_freq=5 ...........\n",
      "[CV]  colsample_bytree=0.8, subsample=0.6, subsample_freq=3, score=0.914051, total= 2.8min\n",
      "[CV] colsample_bytree=0.8, subsample=0.6, subsample_freq=5 ...........\n",
      "[CV]  colsample_bytree=0.8, subsample=0.6, subsample_freq=3, score=0.903001, total= 2.8min\n",
      "[CV] colsample_bytree=0.8, subsample=0.6, subsample_freq=5 ...........\n",
      "[CV]  colsample_bytree=0.8, subsample=0.6, subsample_freq=3, score=0.901788, total= 2.9min\n",
      "[CV] colsample_bytree=0.8, subsample=0.6, subsample_freq=5 ...........\n",
      "[CV]  colsample_bytree=0.8, subsample=0.6, subsample_freq=3, score=0.900966, total= 2.9min\n",
      "[CV] colsample_bytree=0.8, subsample=0.7, subsample_freq=1 ...........\n",
      "[CV]  colsample_bytree=0.8, subsample=0.6, subsample_freq=3, score=0.910132, total= 2.8min\n",
      "[CV] colsample_bytree=0.8, subsample=0.7, subsample_freq=1 ...........\n",
      "[CV]  colsample_bytree=0.8, subsample=0.6, subsample_freq=4, score=0.915664, total= 2.8min\n",
      "[CV] colsample_bytree=0.8, subsample=0.7, subsample_freq=1 ...........\n",
      "[CV]  colsample_bytree=0.8, subsample=0.6, subsample_freq=4, score=0.906535, total= 2.9min\n",
      "[CV] colsample_bytree=0.8, subsample=0.7, subsample_freq=1 ...........\n",
      "[CV]  colsample_bytree=0.8, subsample=0.6, subsample_freq=4, score=0.904332, total= 3.0min\n",
      "[CV] colsample_bytree=0.8, subsample=0.7, subsample_freq=1 ...........\n"
     ]
    },
    {
     "name": "stderr",
     "output_type": "stream",
     "text": [
      "[Parallel(n_jobs=-1)]: Done 218 tasks      | elapsed: 57.4min\n"
     ]
    },
    {
     "name": "stdout",
     "output_type": "stream",
     "text": [
      "[CV]  colsample_bytree=0.8, subsample=0.6, subsample_freq=4, score=0.901264, total= 2.8min\n",
      "[CV] colsample_bytree=0.8, subsample=0.7, subsample_freq=2 ...........\n",
      "[CV]  colsample_bytree=0.8, subsample=0.6, subsample_freq=5, score=0.915014, total= 2.6min\n",
      "[CV] colsample_bytree=0.8, subsample=0.7, subsample_freq=2 ...........\n",
      "[CV]  colsample_bytree=0.8, subsample=0.6, subsample_freq=4, score=0.912273, total= 3.0min\n",
      "[CV] colsample_bytree=0.8, subsample=0.7, subsample_freq=2 ...........\n",
      "[CV]  colsample_bytree=0.8, subsample=0.6, subsample_freq=5, score=0.903745, total= 2.9min\n",
      "[CV] colsample_bytree=0.8, subsample=0.7, subsample_freq=2 ...........\n",
      "[CV]  colsample_bytree=0.8, subsample=0.6, subsample_freq=5, score=0.905030, total= 2.7min\n",
      "[CV] colsample_bytree=0.8, subsample=0.7, subsample_freq=2 ...........\n",
      "[CV]  colsample_bytree=0.8, subsample=0.6, subsample_freq=5, score=0.901590, total= 2.7min\n",
      "[CV] colsample_bytree=0.8, subsample=0.7, subsample_freq=3 ...........\n",
      "[CV]  colsample_bytree=0.8, subsample=0.7, subsample_freq=1, score=0.916881, total= 2.8min\n",
      "[CV] colsample_bytree=0.8, subsample=0.7, subsample_freq=3 ...........\n",
      "[CV]  colsample_bytree=0.8, subsample=0.6, subsample_freq=5, score=0.909475, total= 3.0min\n",
      "[CV] colsample_bytree=0.8, subsample=0.7, subsample_freq=3 ...........\n",
      "[CV]  colsample_bytree=0.8, subsample=0.7, subsample_freq=1, score=0.907320, total= 2.8min\n",
      "[CV] colsample_bytree=0.8, subsample=0.7, subsample_freq=3 ...........\n",
      "[CV]  colsample_bytree=0.8, subsample=0.7, subsample_freq=1, score=0.903871, total= 2.9min\n",
      "[CV] colsample_bytree=0.8, subsample=0.7, subsample_freq=3 ...........\n",
      "[CV]  colsample_bytree=0.8, subsample=0.7, subsample_freq=1, score=0.907291, total= 3.1min\n",
      "[CV] colsample_bytree=0.8, subsample=0.7, subsample_freq=4 ...........\n",
      "[CV]  colsample_bytree=0.8, subsample=0.7, subsample_freq=2, score=0.905142, total= 2.7min\n",
      "[CV] colsample_bytree=0.8, subsample=0.7, subsample_freq=4 ...........\n",
      "[CV]  colsample_bytree=0.8, subsample=0.7, subsample_freq=1, score=0.912592, total= 3.0min\n",
      "[CV] colsample_bytree=0.8, subsample=0.7, subsample_freq=4 ...........\n",
      "[CV]  colsample_bytree=0.8, subsample=0.7, subsample_freq=2, score=0.917556, total= 3.0min\n",
      "[CV] colsample_bytree=0.8, subsample=0.7, subsample_freq=4 ...........\n",
      "[CV]  colsample_bytree=0.8, subsample=0.7, subsample_freq=2, score=0.905511, total= 3.1min\n",
      "[CV] colsample_bytree=0.8, subsample=0.7, subsample_freq=4 ...........\n",
      "[CV]  colsample_bytree=0.8, subsample=0.7, subsample_freq=2, score=0.903381, total= 2.9min\n",
      "[CV] colsample_bytree=0.8, subsample=0.7, subsample_freq=5 ...........\n",
      "[CV]  colsample_bytree=0.8, subsample=0.7, subsample_freq=2, score=0.913775, total= 2.9min\n",
      "[CV] colsample_bytree=0.8, subsample=0.7, subsample_freq=5 ...........\n",
      "[CV]  colsample_bytree=0.8, subsample=0.7, subsample_freq=3, score=0.916412, total= 2.8min\n",
      "[CV] colsample_bytree=0.8, subsample=0.7, subsample_freq=5 ...........\n",
      "[CV]  colsample_bytree=0.8, subsample=0.7, subsample_freq=3, score=0.906914, total= 2.8min\n",
      "[CV] colsample_bytree=0.8, subsample=0.7, subsample_freq=5 ...........\n",
      "[CV]  colsample_bytree=0.8, subsample=0.7, subsample_freq=3, score=0.904566, total= 2.8min\n",
      "[CV] colsample_bytree=0.8, subsample=0.7, subsample_freq=5 ...........\n",
      "[CV]  colsample_bytree=0.8, subsample=0.7, subsample_freq=3, score=0.912640, total= 2.8min\n",
      "[CV] colsample_bytree=0.8, subsample=0.8, subsample_freq=1 ...........\n",
      "[CV]  colsample_bytree=0.8, subsample=0.7, subsample_freq=3, score=0.906183, total= 3.3min\n",
      "[CV] colsample_bytree=0.8, subsample=0.8, subsample_freq=1 ...........\n",
      "[CV]  colsample_bytree=0.8, subsample=0.7, subsample_freq=4, score=0.905878, total= 2.8min\n",
      "[CV] colsample_bytree=0.8, subsample=0.8, subsample_freq=1 ...........\n"
     ]
    },
    {
     "name": "stderr",
     "output_type": "stream",
     "text": [
      "[Parallel(n_jobs=-1)]: Done 241 tasks      | elapsed: 63.3min\n"
     ]
    },
    {
     "name": "stdout",
     "output_type": "stream",
     "text": [
      "[CV]  colsample_bytree=0.8, subsample=0.7, subsample_freq=4, score=0.917632, total= 3.2min\n",
      "[CV] colsample_bytree=0.8, subsample=0.8, subsample_freq=1 ...........\n",
      "[CV]  colsample_bytree=0.8, subsample=0.7, subsample_freq=4, score=0.907263, total= 3.0min\n",
      "[CV] colsample_bytree=0.8, subsample=0.8, subsample_freq=1 ...........\n",
      "[CV]  colsample_bytree=0.8, subsample=0.7, subsample_freq=4, score=0.903764, total= 2.9min\n",
      "[CV] colsample_bytree=0.8, subsample=0.8, subsample_freq=2 ...........\n",
      "[CV]  colsample_bytree=0.8, subsample=0.7, subsample_freq=5, score=0.917400, total= 3.0min\n",
      "[CV] colsample_bytree=0.8, subsample=0.8, subsample_freq=2 ...........\n",
      "[CV]  colsample_bytree=0.8, subsample=0.7, subsample_freq=4, score=0.913969, total= 3.1min\n",
      "[CV] colsample_bytree=0.8, subsample=0.8, subsample_freq=2 ...........\n",
      "[CV]  colsample_bytree=0.8, subsample=0.7, subsample_freq=5, score=0.907325, total= 2.9min\n",
      "[CV] colsample_bytree=0.8, subsample=0.8, subsample_freq=2 ...........\n",
      "[CV]  colsample_bytree=0.8, subsample=0.7, subsample_freq=5, score=0.906711, total= 2.8min\n",
      "[CV] colsample_bytree=0.8, subsample=0.8, subsample_freq=2 ...........\n",
      "[CV]  colsample_bytree=0.8, subsample=0.7, subsample_freq=5, score=0.914507, total= 2.8min\n",
      "[CV] colsample_bytree=0.8, subsample=0.8, subsample_freq=3 ...........\n",
      "[CV]  colsample_bytree=0.8, subsample=0.7, subsample_freq=5, score=0.903145, total= 3.0min\n",
      "[CV] colsample_bytree=0.8, subsample=0.8, subsample_freq=3 ...........\n",
      "[CV]  colsample_bytree=0.8, subsample=0.8, subsample_freq=1, score=0.919693, total= 3.0min\n",
      "[CV] colsample_bytree=0.8, subsample=0.8, subsample_freq=3 ...........\n",
      "[CV]  colsample_bytree=0.8, subsample=0.8, subsample_freq=1, score=0.908120, total= 2.7min\n",
      "[CV] colsample_bytree=0.8, subsample=0.8, subsample_freq=3 ...........\n",
      "[CV]  colsample_bytree=0.8, subsample=0.8, subsample_freq=1, score=0.915447, total= 2.9min\n",
      "[CV] colsample_bytree=0.8, subsample=0.8, subsample_freq=3 ...........\n",
      "[CV]  colsample_bytree=0.8, subsample=0.8, subsample_freq=1, score=0.908634, total= 3.3min\n",
      "[CV] colsample_bytree=0.8, subsample=0.8, subsample_freq=4 ...........\n",
      "[CV]  colsample_bytree=0.8, subsample=0.8, subsample_freq=2, score=0.918573, total= 2.9min\n",
      "[CV] colsample_bytree=0.8, subsample=0.8, subsample_freq=4 ...........\n",
      "[CV]  colsample_bytree=0.8, subsample=0.8, subsample_freq=1, score=0.903539, total= 3.2min\n",
      "[CV] colsample_bytree=0.8, subsample=0.8, subsample_freq=4 ...........\n",
      "[CV]  colsample_bytree=0.8, subsample=0.8, subsample_freq=2, score=0.909876, total= 3.0min\n",
      "[CV] colsample_bytree=0.8, subsample=0.8, subsample_freq=4 ...........\n",
      "[CV]  colsample_bytree=0.8, subsample=0.8, subsample_freq=2, score=0.907826, total= 3.2min\n",
      "[CV] colsample_bytree=0.8, subsample=0.8, subsample_freq=4 ...........\n",
      "[CV]  colsample_bytree=0.8, subsample=0.8, subsample_freq=2, score=0.905874, total= 2.9min\n",
      "[CV] colsample_bytree=0.8, subsample=0.8, subsample_freq=5 ...........\n",
      "[CV]  colsample_bytree=0.8, subsample=0.8, subsample_freq=2, score=0.914488, total= 2.9min\n",
      "[CV] colsample_bytree=0.8, subsample=0.8, subsample_freq=5 ...........\n",
      "[CV]  colsample_bytree=0.8, subsample=0.8, subsample_freq=3, score=0.918119, total= 2.8min\n",
      "[CV] colsample_bytree=0.8, subsample=0.8, subsample_freq=5 ...........\n",
      "[CV]  colsample_bytree=0.8, subsample=0.8, subsample_freq=3, score=0.907612, total= 3.1min\n",
      "[CV] colsample_bytree=0.8, subsample=0.8, subsample_freq=5 ...........\n",
      "[CV]  colsample_bytree=0.8, subsample=0.8, subsample_freq=3, score=0.906865, total= 2.9min\n",
      "[CV] colsample_bytree=0.8, subsample=0.8, subsample_freq=5 ...........\n",
      "[CV]  colsample_bytree=0.8, subsample=0.8, subsample_freq=3, score=0.904292, total= 3.2min\n",
      "[CV] colsample_bytree=0.8, subsample=0.9, subsample_freq=1 ...........\n"
     ]
    },
    {
     "name": "stderr",
     "output_type": "stream",
     "text": [
      "[Parallel(n_jobs=-1)]: Done 264 tasks      | elapsed: 69.4min\n"
     ]
    },
    {
     "name": "stdout",
     "output_type": "stream",
     "text": [
      "[CV]  colsample_bytree=0.8, subsample=0.8, subsample_freq=3, score=0.912240, total= 2.9min\n",
      "[CV] colsample_bytree=0.8, subsample=0.9, subsample_freq=1 ...........\n",
      "[CV]  colsample_bytree=0.8, subsample=0.8, subsample_freq=4, score=0.919260, total= 3.0min\n",
      "[CV] colsample_bytree=0.8, subsample=0.9, subsample_freq=1 ...........\n",
      "[CV]  colsample_bytree=0.8, subsample=0.8, subsample_freq=4, score=0.910328, total= 3.0min\n",
      "[CV] colsample_bytree=0.8, subsample=0.9, subsample_freq=1 ...........\n",
      "[CV]  colsample_bytree=0.8, subsample=0.8, subsample_freq=4, score=0.906837, total= 3.3min\n",
      "[CV] colsample_bytree=0.8, subsample=0.9, subsample_freq=1 ...........\n",
      "[CV]  colsample_bytree=0.8, subsample=0.8, subsample_freq=4, score=0.906678, total= 3.0min\n",
      "[CV] colsample_bytree=0.8, subsample=0.9, subsample_freq=2 ...........\n",
      "[CV]  colsample_bytree=0.8, subsample=0.8, subsample_freq=4, score=0.914258, total= 3.2min\n",
      "[CV] colsample_bytree=0.8, subsample=0.9, subsample_freq=2 ...........\n",
      "[CV]  colsample_bytree=0.8, subsample=0.8, subsample_freq=5, score=0.908406, total= 2.8min\n",
      "[CV] colsample_bytree=0.8, subsample=0.9, subsample_freq=2 ...........\n",
      "[CV]  colsample_bytree=0.8, subsample=0.8, subsample_freq=5, score=0.916509, total= 3.0min\n",
      "[CV] colsample_bytree=0.8, subsample=0.9, subsample_freq=2 ...........\n",
      "[CV]  colsample_bytree=0.8, subsample=0.8, subsample_freq=5, score=0.908333, total= 2.9min\n",
      "[CV] colsample_bytree=0.8, subsample=0.9, subsample_freq=2 ...........\n",
      "[CV]  colsample_bytree=0.8, subsample=0.8, subsample_freq=5, score=0.913443, total= 2.9min\n",
      "[CV] colsample_bytree=0.8, subsample=0.9, subsample_freq=3 ...........\n",
      "[CV]  colsample_bytree=0.8, subsample=0.8, subsample_freq=5, score=0.903441, total= 3.1min\n",
      "[CV] colsample_bytree=0.8, subsample=0.9, subsample_freq=3 ...........\n",
      "[CV]  colsample_bytree=0.8, subsample=0.9, subsample_freq=1, score=0.921643, total= 3.0min\n",
      "[CV] colsample_bytree=0.8, subsample=0.9, subsample_freq=3 ...........\n",
      "[CV]  colsample_bytree=0.8, subsample=0.9, subsample_freq=1, score=0.907394, total= 3.1min\n",
      "[CV] colsample_bytree=0.8, subsample=0.9, subsample_freq=3 ...........\n",
      "[CV]  colsample_bytree=0.8, subsample=0.9, subsample_freq=1, score=0.909925, total= 2.9min\n",
      "[CV] colsample_bytree=0.8, subsample=0.9, subsample_freq=3 ...........\n",
      "[CV]  colsample_bytree=0.8, subsample=0.9, subsample_freq=1, score=0.905448, total= 3.1min\n",
      "[CV] colsample_bytree=0.8, subsample=0.9, subsample_freq=4 ...........\n",
      "[CV]  colsample_bytree=0.8, subsample=0.9, subsample_freq=2, score=0.918978, total= 3.1min\n",
      "[CV] colsample_bytree=0.8, subsample=0.9, subsample_freq=4 ...........\n",
      "[CV]  colsample_bytree=0.8, subsample=0.9, subsample_freq=1, score=0.916605, total= 3.3min\n",
      "[CV] colsample_bytree=0.8, subsample=0.9, subsample_freq=4 ...........\n",
      "[CV]  colsample_bytree=0.8, subsample=0.9, subsample_freq=2, score=0.909280, total= 3.2min\n",
      "[CV] colsample_bytree=0.8, subsample=0.9, subsample_freq=4 ...........\n",
      "[CV]  colsample_bytree=0.8, subsample=0.9, subsample_freq=2, score=0.909742, total= 2.8min\n",
      "[CV] colsample_bytree=0.8, subsample=0.9, subsample_freq=4 ...........\n",
      "[CV]  colsample_bytree=0.8, subsample=0.9, subsample_freq=2, score=0.904961, total= 3.0min\n",
      "[CV] colsample_bytree=0.8, subsample=0.9, subsample_freq=5 ...........\n",
      "[CV]  colsample_bytree=0.8, subsample=0.9, subsample_freq=2, score=0.914373, total= 3.0min\n",
      "[CV] colsample_bytree=0.8, subsample=0.9, subsample_freq=5 ...........\n",
      "[CV]  colsample_bytree=0.8, subsample=0.9, subsample_freq=3, score=0.921408, total= 2.9min\n",
      "[CV] colsample_bytree=0.8, subsample=0.9, subsample_freq=5 ...........\n",
      "[CV]  colsample_bytree=0.8, subsample=0.9, subsample_freq=3, score=0.910288, total= 3.1min\n",
      "[CV] colsample_bytree=0.8, subsample=0.9, subsample_freq=5 ...........\n",
      "[CV]  colsample_bytree=0.8, subsample=0.9, subsample_freq=3, score=0.907824, total= 2.9min\n",
      "[CV] colsample_bytree=0.8, subsample=0.9, subsample_freq=5 ...........\n",
      "[CV]  colsample_bytree=0.8, subsample=0.9, subsample_freq=3, score=0.914209, total= 2.9min\n",
      "[CV] colsample_bytree=0.9, subsample=0.6, subsample_freq=1 ...........\n"
     ]
    },
    {
     "name": "stderr",
     "output_type": "stream",
     "text": [
      "[Parallel(n_jobs=-1)]: Done 289 tasks      | elapsed: 75.6min\n"
     ]
    },
    {
     "name": "stdout",
     "output_type": "stream",
     "text": [
      "[CV]  colsample_bytree=0.8, subsample=0.9, subsample_freq=4, score=0.920919, total= 3.0min\n",
      "[CV] colsample_bytree=0.9, subsample=0.6, subsample_freq=1 ...........\n",
      "[CV]  colsample_bytree=0.8, subsample=0.9, subsample_freq=3, score=0.906346, total= 3.3min\n",
      "[CV] colsample_bytree=0.9, subsample=0.6, subsample_freq=1 ...........\n",
      "[CV]  colsample_bytree=0.8, subsample=0.9, subsample_freq=4, score=0.908641, total= 3.1min\n",
      "[CV] colsample_bytree=0.9, subsample=0.6, subsample_freq=1 ...........\n",
      "[CV]  colsample_bytree=0.8, subsample=0.9, subsample_freq=4, score=0.906646, total= 3.2min\n",
      "[CV] colsample_bytree=0.9, subsample=0.6, subsample_freq=1 ...........\n",
      "[CV]  colsample_bytree=0.8, subsample=0.9, subsample_freq=4, score=0.914347, total= 2.9min\n",
      "[CV] colsample_bytree=0.9, subsample=0.6, subsample_freq=2 ...........\n",
      "[CV]  colsample_bytree=0.8, subsample=0.9, subsample_freq=5, score=0.917996, total= 3.0min\n",
      "[CV] colsample_bytree=0.9, subsample=0.6, subsample_freq=2 ...........\n",
      "[CV]  colsample_bytree=0.8, subsample=0.9, subsample_freq=4, score=0.904348, total= 3.4min\n",
      "[CV] colsample_bytree=0.9, subsample=0.6, subsample_freq=2 ...........\n",
      "[CV]  colsample_bytree=0.8, subsample=0.9, subsample_freq=5, score=0.909377, total= 3.1min\n",
      "[CV] colsample_bytree=0.9, subsample=0.6, subsample_freq=2 ...........\n",
      "[CV]  colsample_bytree=0.8, subsample=0.9, subsample_freq=5, score=0.908904, total= 3.0min\n",
      "[CV] colsample_bytree=0.9, subsample=0.6, subsample_freq=2 ...........\n",
      "[CV]  colsample_bytree=0.8, subsample=0.9, subsample_freq=5, score=0.905559, total= 3.1min\n",
      "[CV] colsample_bytree=0.9, subsample=0.6, subsample_freq=3 ...........\n",
      "[CV]  colsample_bytree=0.9, subsample=0.6, subsample_freq=1, score=0.914626, total= 2.7min\n",
      "[CV] colsample_bytree=0.9, subsample=0.6, subsample_freq=3 ...........\n",
      "[CV]  colsample_bytree=0.8, subsample=0.9, subsample_freq=5, score=0.913426, total= 3.2min\n",
      "[CV] colsample_bytree=0.9, subsample=0.6, subsample_freq=3 ...........\n",
      "[CV]  colsample_bytree=0.9, subsample=0.6, subsample_freq=1, score=0.905270, total= 2.8min\n",
      "[CV] colsample_bytree=0.9, subsample=0.6, subsample_freq=3 ...........\n",
      "[CV]  colsample_bytree=0.9, subsample=0.6, subsample_freq=1, score=0.906090, total= 2.9min\n",
      "[CV] colsample_bytree=0.9, subsample=0.6, subsample_freq=3 ...........\n",
      "[CV]  colsample_bytree=0.9, subsample=0.6, subsample_freq=1, score=0.902615, total= 3.0min\n",
      "[CV] colsample_bytree=0.9, subsample=0.6, subsample_freq=4 ...........\n",
      "[CV]  colsample_bytree=0.9, subsample=0.6, subsample_freq=1, score=0.913437, total= 3.0min\n",
      "[CV] colsample_bytree=0.9, subsample=0.6, subsample_freq=4 ...........\n",
      "[CV]  colsample_bytree=0.9, subsample=0.6, subsample_freq=2, score=0.915263, total= 2.9min\n",
      "[CV] colsample_bytree=0.9, subsample=0.6, subsample_freq=4 ...........\n",
      "[CV]  colsample_bytree=0.9, subsample=0.6, subsample_freq=2, score=0.906355, total= 2.7min\n",
      "[CV] colsample_bytree=0.9, subsample=0.6, subsample_freq=4 ...........\n",
      "[CV]  colsample_bytree=0.9, subsample=0.6, subsample_freq=2, score=0.906337, total= 3.2min\n",
      "[CV] colsample_bytree=0.9, subsample=0.6, subsample_freq=4 ...........\n",
      "[CV]  colsample_bytree=0.9, subsample=0.6, subsample_freq=2, score=0.900139, total= 2.9min\n",
      "[CV] colsample_bytree=0.9, subsample=0.6, subsample_freq=5 ...........\n",
      "[CV]  colsample_bytree=0.9, subsample=0.6, subsample_freq=2, score=0.910536, total= 2.9min\n",
      "[CV] colsample_bytree=0.9, subsample=0.6, subsample_freq=5 ...........\n",
      "[CV]  colsample_bytree=0.9, subsample=0.6, subsample_freq=3, score=0.907146, total= 2.7min\n",
      "[CV] colsample_bytree=0.9, subsample=0.6, subsample_freq=5 ...........\n",
      "[CV]  colsample_bytree=0.9, subsample=0.6, subsample_freq=3, score=0.913912, total= 3.0min\n",
      "[CV] colsample_bytree=0.9, subsample=0.6, subsample_freq=5 ...........\n",
      "[CV]  colsample_bytree=0.9, subsample=0.6, subsample_freq=3, score=0.901784, total= 2.9min\n",
      "[CV] colsample_bytree=0.9, subsample=0.6, subsample_freq=5 ...........\n",
      "[CV]  colsample_bytree=0.9, subsample=0.6, subsample_freq=3, score=0.901237, total= 2.8min\n",
      "[CV] colsample_bytree=0.9, subsample=0.7, subsample_freq=1 ...........\n"
     ]
    },
    {
     "name": "stderr",
     "output_type": "stream",
     "text": [
      "[Parallel(n_jobs=-1)]: Done 314 tasks      | elapsed: 81.7min\n"
     ]
    },
    {
     "name": "stdout",
     "output_type": "stream",
     "text": [
      "[CV]  colsample_bytree=0.9, subsample=0.6, subsample_freq=3, score=0.912644, total= 2.9min\n",
      "[CV] colsample_bytree=0.9, subsample=0.7, subsample_freq=1 ...........\n",
      "[CV]  colsample_bytree=0.9, subsample=0.6, subsample_freq=4, score=0.914691, total= 2.9min\n",
      "[CV] colsample_bytree=0.9, subsample=0.7, subsample_freq=1 ...........\n",
      "[CV]  colsample_bytree=0.9, subsample=0.6, subsample_freq=4, score=0.905205, total= 2.9min\n",
      "[CV] colsample_bytree=0.9, subsample=0.7, subsample_freq=1 ...........\n",
      "[CV]  colsample_bytree=0.9, subsample=0.6, subsample_freq=4, score=0.906314, total= 2.9min\n",
      "[CV] colsample_bytree=0.9, subsample=0.7, subsample_freq=1 ...........\n",
      "[CV]  colsample_bytree=0.9, subsample=0.6, subsample_freq=4, score=0.899746, total= 2.7min\n",
      "[CV] colsample_bytree=0.9, subsample=0.7, subsample_freq=2 ...........\n",
      "[CV]  colsample_bytree=0.9, subsample=0.6, subsample_freq=5, score=0.916731, total= 2.9min\n",
      "[CV] colsample_bytree=0.9, subsample=0.7, subsample_freq=2 ...........\n",
      "[CV]  colsample_bytree=0.9, subsample=0.6, subsample_freq=4, score=0.911250, total= 3.0min\n",
      "[CV] colsample_bytree=0.9, subsample=0.7, subsample_freq=2 ...........\n",
      "[CV]  colsample_bytree=0.9, subsample=0.6, subsample_freq=5, score=0.905007, total= 2.8min\n",
      "[CV] colsample_bytree=0.9, subsample=0.7, subsample_freq=2 ...........\n",
      "[CV]  colsample_bytree=0.9, subsample=0.6, subsample_freq=5, score=0.902566, total= 2.6min\n",
      "[CV] colsample_bytree=0.9, subsample=0.7, subsample_freq=2 ...........\n",
      "[CV]  colsample_bytree=0.9, subsample=0.6, subsample_freq=5, score=0.903361, total= 2.9min\n",
      "[CV] colsample_bytree=0.9, subsample=0.7, subsample_freq=3 ...........\n",
      "[CV]  colsample_bytree=0.9, subsample=0.7, subsample_freq=1, score=0.919763, total= 2.9min\n",
      "[CV] colsample_bytree=0.9, subsample=0.7, subsample_freq=3 ...........\n",
      "[CV]  colsample_bytree=0.9, subsample=0.6, subsample_freq=5, score=0.911030, total= 3.1min\n",
      "[CV] colsample_bytree=0.9, subsample=0.7, subsample_freq=3 ...........\n",
      "[CV]  colsample_bytree=0.9, subsample=0.7, subsample_freq=1, score=0.907697, total= 3.0min\n",
      "[CV] colsample_bytree=0.9, subsample=0.7, subsample_freq=3 ...........\n",
      "[CV]  colsample_bytree=0.9, subsample=0.7, subsample_freq=1, score=0.907903, total= 3.0min\n",
      "[CV] colsample_bytree=0.9, subsample=0.7, subsample_freq=3 ...........\n",
      "[CV]  colsample_bytree=0.9, subsample=0.7, subsample_freq=2, score=0.916671, total= 2.7min\n",
      "[CV] colsample_bytree=0.9, subsample=0.7, subsample_freq=4 ...........\n",
      "[CV]  colsample_bytree=0.9, subsample=0.7, subsample_freq=1, score=0.914319, total= 2.9min\n",
      "[CV] colsample_bytree=0.9, subsample=0.7, subsample_freq=4 ...........\n",
      "[CV]  colsample_bytree=0.9, subsample=0.7, subsample_freq=1, score=0.903925, total= 3.0min\n",
      "[CV] colsample_bytree=0.9, subsample=0.7, subsample_freq=4 ...........\n",
      "[CV]  colsample_bytree=0.9, subsample=0.7, subsample_freq=2, score=0.906433, total= 2.9min\n",
      "[CV] colsample_bytree=0.9, subsample=0.7, subsample_freq=4 ...........\n",
      "[CV]  colsample_bytree=0.9, subsample=0.7, subsample_freq=2, score=0.912397, total= 2.6min\n",
      "[CV] colsample_bytree=0.9, subsample=0.7, subsample_freq=4 ...........\n",
      "[CV]  colsample_bytree=0.9, subsample=0.7, subsample_freq=2, score=0.903323, total= 2.9min\n",
      "[CV] colsample_bytree=0.9, subsample=0.7, subsample_freq=5 ...........\n",
      "[CV]  colsample_bytree=0.9, subsample=0.7, subsample_freq=2, score=0.906458, total= 3.2min\n",
      "[CV] colsample_bytree=0.9, subsample=0.7, subsample_freq=5 ...........\n",
      "[CV]  colsample_bytree=0.9, subsample=0.7, subsample_freq=3, score=0.915344, total= 3.1min\n",
      "[CV] colsample_bytree=0.9, subsample=0.7, subsample_freq=5 ...........\n",
      "[CV]  colsample_bytree=0.9, subsample=0.7, subsample_freq=3, score=0.906334, total= 2.9min\n",
      "[CV] colsample_bytree=0.9, subsample=0.7, subsample_freq=5 ...........\n",
      "[CV]  colsample_bytree=0.9, subsample=0.7, subsample_freq=3, score=0.906635, total= 3.0min\n",
      "[CV] colsample_bytree=0.9, subsample=0.7, subsample_freq=5 ...........\n",
      "[CV]  colsample_bytree=0.9, subsample=0.7, subsample_freq=3, score=0.904667, total= 3.0min\n",
      "[CV] colsample_bytree=0.9, subsample=0.8, subsample_freq=1 ...........\n",
      "[CV]  colsample_bytree=0.9, subsample=0.7, subsample_freq=4, score=0.917900, total= 2.8min\n",
      "[CV] colsample_bytree=0.9, subsample=0.8, subsample_freq=1 ...........\n",
      "[CV]  colsample_bytree=0.9, subsample=0.7, subsample_freq=3, score=0.911171, total= 3.0min\n",
      "[CV] colsample_bytree=0.9, subsample=0.8, subsample_freq=1 ...........\n"
     ]
    },
    {
     "name": "stderr",
     "output_type": "stream",
     "text": [
      "[Parallel(n_jobs=-1)]: Done 341 tasks      | elapsed: 88.5min\n"
     ]
    },
    {
     "name": "stdout",
     "output_type": "stream",
     "text": [
      "[CV]  colsample_bytree=0.9, subsample=0.7, subsample_freq=4, score=0.905918, total= 2.9min\n",
      "[CV] colsample_bytree=0.9, subsample=0.8, subsample_freq=1 ...........\n",
      "[CV]  colsample_bytree=0.9, subsample=0.7, subsample_freq=4, score=0.907111, total= 3.1min\n",
      "[CV] colsample_bytree=0.9, subsample=0.8, subsample_freq=1 ...........\n",
      "[CV]  colsample_bytree=0.9, subsample=0.7, subsample_freq=4, score=0.913633, total= 2.7min\n",
      "[CV] colsample_bytree=0.9, subsample=0.8, subsample_freq=2 ...........\n",
      "[CV]  colsample_bytree=0.9, subsample=0.7, subsample_freq=5, score=0.916845, total= 2.8min\n",
      "[CV] colsample_bytree=0.9, subsample=0.8, subsample_freq=2 ...........\n",
      "[CV]  colsample_bytree=0.9, subsample=0.7, subsample_freq=4, score=0.902222, total= 3.0min\n",
      "[CV] colsample_bytree=0.9, subsample=0.8, subsample_freq=2 ...........\n",
      "[CV]  colsample_bytree=0.9, subsample=0.7, subsample_freq=5, score=0.907569, total= 2.9min\n",
      "[CV] colsample_bytree=0.9, subsample=0.8, subsample_freq=2 ...........\n",
      "[CV]  colsample_bytree=0.9, subsample=0.7, subsample_freq=5, score=0.903726, total= 2.8min\n",
      "[CV] colsample_bytree=0.9, subsample=0.8, subsample_freq=2 ...........\n",
      "[CV]  colsample_bytree=0.9, subsample=0.7, subsample_freq=5, score=0.906430, total= 3.1min\n",
      "[CV] colsample_bytree=0.9, subsample=0.8, subsample_freq=3 ...........\n",
      "[CV]  colsample_bytree=0.9, subsample=0.7, subsample_freq=5, score=0.912998, total= 3.0min\n",
      "[CV] colsample_bytree=0.9, subsample=0.8, subsample_freq=3 ...........\n",
      "[CV]  colsample_bytree=0.9, subsample=0.8, subsample_freq=1, score=0.917624, total= 3.2min\n",
      "[CV] colsample_bytree=0.9, subsample=0.8, subsample_freq=3 ...........\n",
      "[CV]  colsample_bytree=0.9, subsample=0.8, subsample_freq=1, score=0.908456, total= 2.8min\n",
      "[CV] colsample_bytree=0.9, subsample=0.8, subsample_freq=3 ...........\n",
      "[CV]  colsample_bytree=0.9, subsample=0.8, subsample_freq=1, score=0.907510, total= 3.0min\n",
      "[CV] colsample_bytree=0.9, subsample=0.8, subsample_freq=3 ...........\n",
      "[CV]  colsample_bytree=0.9, subsample=0.8, subsample_freq=1, score=0.904846, total= 3.0min\n",
      "[CV] colsample_bytree=0.9, subsample=0.8, subsample_freq=4 ...........\n",
      "[CV]  colsample_bytree=0.9, subsample=0.8, subsample_freq=2, score=0.917032, total= 2.8min\n",
      "[CV] colsample_bytree=0.9, subsample=0.8, subsample_freq=4 ...........\n",
      "[CV]  colsample_bytree=0.9, subsample=0.8, subsample_freq=1, score=0.913014, total= 3.2min\n",
      "[CV] colsample_bytree=0.9, subsample=0.8, subsample_freq=4 ...........\n",
      "[CV]  colsample_bytree=0.9, subsample=0.8, subsample_freq=2, score=0.907787, total= 2.9min\n",
      "[CV] colsample_bytree=0.9, subsample=0.8, subsample_freq=4 ...........\n",
      "[CV]  colsample_bytree=0.9, subsample=0.8, subsample_freq=2, score=0.908475, total= 3.2min\n",
      "[CV] colsample_bytree=0.9, subsample=0.8, subsample_freq=4 ...........\n",
      "[CV]  colsample_bytree=0.9, subsample=0.8, subsample_freq=2, score=0.904944, total= 3.1min\n",
      "[CV] colsample_bytree=0.9, subsample=0.8, subsample_freq=5 ...........\n",
      "[CV]  colsample_bytree=0.9, subsample=0.8, subsample_freq=2, score=0.912878, total= 3.1min\n",
      "[CV] colsample_bytree=0.9, subsample=0.8, subsample_freq=5 ...........\n",
      "[CV]  colsample_bytree=0.9, subsample=0.8, subsample_freq=3, score=0.908118, total= 3.0min\n",
      "[CV] colsample_bytree=0.9, subsample=0.8, subsample_freq=5 ...........\n",
      "[CV]  colsample_bytree=0.9, subsample=0.8, subsample_freq=3, score=0.919921, total= 3.3min\n",
      "[CV] colsample_bytree=0.9, subsample=0.8, subsample_freq=5 ...........\n",
      "[CV]  colsample_bytree=0.9, subsample=0.8, subsample_freq=3, score=0.904510, total= 2.9min\n",
      "[CV] colsample_bytree=0.9, subsample=0.8, subsample_freq=5 ...........\n",
      "[CV]  colsample_bytree=0.9, subsample=0.8, subsample_freq=3, score=0.913686, total= 3.0min\n",
      "[CV] colsample_bytree=0.9, subsample=0.9, subsample_freq=1 ...........\n",
      "[CV]  colsample_bytree=0.9, subsample=0.8, subsample_freq=3, score=0.908711, total= 3.3min\n",
      "[CV] colsample_bytree=0.9, subsample=0.9, subsample_freq=1 ...........\n",
      "[CV]  colsample_bytree=0.9, subsample=0.8, subsample_freq=4, score=0.916732, total= 3.1min\n",
      "[CV] colsample_bytree=0.9, subsample=0.9, subsample_freq=1 ...........\n",
      "[CV]  colsample_bytree=0.9, subsample=0.8, subsample_freq=4, score=0.907525, total= 2.8min\n",
      "[CV] colsample_bytree=0.9, subsample=0.9, subsample_freq=1 ...........\n",
      "[CV]  colsample_bytree=0.9, subsample=0.8, subsample_freq=4, score=0.909481, total= 3.1min\n",
      "[CV] colsample_bytree=0.9, subsample=0.9, subsample_freq=1 ...........\n"
     ]
    },
    {
     "name": "stderr",
     "output_type": "stream",
     "text": [
      "[Parallel(n_jobs=-1)]: Done 368 tasks      | elapsed: 95.3min\n"
     ]
    },
    {
     "name": "stdout",
     "output_type": "stream",
     "text": [
      "[CV]  colsample_bytree=0.9, subsample=0.8, subsample_freq=4, score=0.904888, total= 2.9min\n",
      "[CV] colsample_bytree=0.9, subsample=0.9, subsample_freq=2 ...........\n",
      "[CV]  colsample_bytree=0.9, subsample=0.8, subsample_freq=5, score=0.917074, total= 3.0min\n",
      "[CV] colsample_bytree=0.9, subsample=0.9, subsample_freq=2 ...........\n",
      "[CV]  colsample_bytree=0.9, subsample=0.8, subsample_freq=4, score=0.915468, total= 3.3min\n",
      "[CV] colsample_bytree=0.9, subsample=0.9, subsample_freq=2 ...........\n",
      "[CV]  colsample_bytree=0.9, subsample=0.8, subsample_freq=5, score=0.907058, total= 3.0min\n",
      "[CV] colsample_bytree=0.9, subsample=0.9, subsample_freq=2 ...........\n",
      "[CV]  colsample_bytree=0.9, subsample=0.8, subsample_freq=5, score=0.905877, total= 3.1min\n",
      "[CV] colsample_bytree=0.9, subsample=0.9, subsample_freq=2 ...........\n",
      "[CV]  colsample_bytree=0.9, subsample=0.8, subsample_freq=5, score=0.905461, total= 3.2min\n",
      "[CV] colsample_bytree=0.9, subsample=0.9, subsample_freq=3 ...........\n",
      "[CV]  colsample_bytree=0.9, subsample=0.8, subsample_freq=5, score=0.914350, total= 3.1min\n",
      "[CV] colsample_bytree=0.9, subsample=0.9, subsample_freq=3 ...........\n",
      "[CV]  colsample_bytree=0.9, subsample=0.9, subsample_freq=1, score=0.919862, total= 2.9min\n",
      "[CV] colsample_bytree=0.9, subsample=0.9, subsample_freq=3 ...........\n",
      "[CV]  colsample_bytree=0.9, subsample=0.9, subsample_freq=1, score=0.906270, total= 2.8min\n",
      "[CV] colsample_bytree=0.9, subsample=0.9, subsample_freq=3 ...........\n",
      "[CV]  colsample_bytree=0.9, subsample=0.9, subsample_freq=1, score=0.906874, total= 3.0min\n",
      "[CV] colsample_bytree=0.9, subsample=0.9, subsample_freq=3 ...........\n",
      "[CV]  colsample_bytree=0.9, subsample=0.9, subsample_freq=1, score=0.907468, total= 3.4min\n",
      "[CV] colsample_bytree=0.9, subsample=0.9, subsample_freq=4 ...........\n",
      "[CV]  colsample_bytree=0.9, subsample=0.9, subsample_freq=2, score=0.918771, total= 3.0min\n",
      "[CV] colsample_bytree=0.9, subsample=0.9, subsample_freq=4 ...........\n",
      "[CV]  colsample_bytree=0.9, subsample=0.9, subsample_freq=1, score=0.914917, total= 3.2min\n",
      "[CV] colsample_bytree=0.9, subsample=0.9, subsample_freq=4 ...........\n",
      "[CV]  colsample_bytree=0.9, subsample=0.9, subsample_freq=2, score=0.908121, total= 3.1min\n",
      "[CV] colsample_bytree=0.9, subsample=0.9, subsample_freq=4 ...........\n",
      "[CV]  colsample_bytree=0.9, subsample=0.9, subsample_freq=2, score=0.908057, total= 3.4min\n",
      "[CV] colsample_bytree=0.9, subsample=0.9, subsample_freq=4 ...........\n",
      "[CV]  colsample_bytree=0.9, subsample=0.9, subsample_freq=2, score=0.903268, total= 3.0min\n",
      "[CV] colsample_bytree=0.9, subsample=0.9, subsample_freq=5 ...........\n",
      "[CV]  colsample_bytree=0.9, subsample=0.9, subsample_freq=2, score=0.914745, total= 3.1min\n",
      "[CV] colsample_bytree=0.9, subsample=0.9, subsample_freq=5 ...........\n",
      "[CV]  colsample_bytree=0.9, subsample=0.9, subsample_freq=3, score=0.908477, total= 2.8min\n",
      "[CV] colsample_bytree=0.9, subsample=0.9, subsample_freq=5 ...........\n",
      "[CV]  colsample_bytree=0.9, subsample=0.9, subsample_freq=3, score=0.919338, total= 3.1min\n",
      "[CV] colsample_bytree=0.9, subsample=0.9, subsample_freq=5 ...........\n",
      "[CV]  colsample_bytree=0.9, subsample=0.9, subsample_freq=3, score=0.909021, total= 3.0min\n",
      "[CV] colsample_bytree=0.9, subsample=0.9, subsample_freq=5 ...........\n",
      "[CV]  colsample_bytree=0.9, subsample=0.9, subsample_freq=3, score=0.905382, total= 2.8min\n",
      "[CV]  colsample_bytree=0.9, subsample=0.9, subsample_freq=3, score=0.916665, total= 3.0min\n",
      "[CV]  colsample_bytree=0.9, subsample=0.9, subsample_freq=4, score=0.919857, total= 3.2min\n",
      "[CV]  colsample_bytree=0.9, subsample=0.9, subsample_freq=4, score=0.908434, total= 2.9min\n",
      "[CV]  colsample_bytree=0.9, subsample=0.9, subsample_freq=4, score=0.907896, total= 3.0min\n",
      "[CV]  colsample_bytree=0.9, subsample=0.9, subsample_freq=4, score=0.907573, total= 2.6min\n",
      "[CV]  colsample_bytree=0.9, subsample=0.9, subsample_freq=5, score=0.918953, total= 2.5min\n",
      "[CV]  colsample_bytree=0.9, subsample=0.9, subsample_freq=4, score=0.915277, total= 2.7min\n",
      "[CV]  colsample_bytree=0.9, subsample=0.9, subsample_freq=5, score=0.908237, total= 2.0min\n",
      "[CV]  colsample_bytree=0.9, subsample=0.9, subsample_freq=5, score=0.908095, total= 2.1min\n",
      "[CV]  colsample_bytree=0.9, subsample=0.9, subsample_freq=5, score=0.914934, total= 1.9min\n",
      "[CV]  colsample_bytree=0.9, subsample=0.9, subsample_freq=5, score=0.905691, total= 2.0min\n"
     ]
    },
    {
     "name": "stderr",
     "output_type": "stream",
     "text": [
      "[Parallel(n_jobs=-1)]: Done 400 out of 400 | elapsed: 102.4min finished\n"
     ]
    },
    {
     "name": "stdout",
     "output_type": "stream",
     "text": [
      "{'colsample_bytree': 0.6, 'subsample': 0.9, 'subsample_freq': 4}\n"
     ]
    }
   ],
   "source": [
    "base_classifier = lgb.LGBMClassifier(num_leaves=256, max_depth=-1, learning_rate=0.1, n_estimators=500, max_bin=255,\n",
    "                                     subsample_for_bin=20, objective='binary', min_split_gain=0.0, \n",
    "                                     min_child_weight=1, min_child_samples=10, reg_alpha=0.01, reg_lambda=0.1)\n",
    "\n",
    "gbm_params = {\n",
    "    'subsample': [i/10.0 for i in range(6,10)],\n",
    "    'subsample_freq': [1, 2, 3, 4, 5],\n",
    "    'colsample_bytree': [i/10.0 for i in range(6,10)]\n",
    "}\n",
    "\n",
    "\n",
    "grid = GridSearchCV(base_classifier, gbm_params,scoring='roc_auc',cv = 5,verbose=10,n_jobs=-1)\n",
    "\n",
    "grid.fit(selected_train_data_x, train_data_y)\n",
    "\n",
    "print (grid.best_params_)"
   ]
  },
  {
   "cell_type": "markdown",
   "metadata": {},
   "source": [
    "#### Tune Regularization Parameters"
   ]
  },
  {
   "cell_type": "code",
   "execution_count": 42,
   "metadata": {},
   "outputs": [
    {
     "name": "stdout",
     "output_type": "stream",
     "text": [
      "Fitting 5 folds for each of 25 candidates, totalling 125 fits\n",
      "[CV] reg_alpha=1e-05, reg_lambda=1e-05 ...............................\n",
      "[CV] reg_alpha=1e-05, reg_lambda=1e-05 ...............................\n",
      "[CV] reg_alpha=1e-05, reg_lambda=1e-05 ...............................\n",
      "[CV] reg_alpha=1e-05, reg_lambda=1e-05 ...............................\n",
      "[CV] reg_alpha=1e-05, reg_lambda=1e-05 ...............................\n",
      "[CV] reg_alpha=1e-05, reg_lambda=0.01 ................................\n",
      "[CV] reg_alpha=1e-05, reg_lambda=0.01 ................................\n",
      "[CV] reg_alpha=1e-05, reg_lambda=0.01 ................................\n",
      "[CV] reg_alpha=1e-05, reg_lambda=0.01 ................................\n",
      "[CV] reg_alpha=1e-05, reg_lambda=0.01 ................................\n",
      "[CV] reg_alpha=1e-05, reg_lambda=0.1 .................................\n",
      "[CV] reg_alpha=1e-05, reg_lambda=0.1 .................................\n",
      "[CV]  reg_alpha=1e-05, reg_lambda=1e-05, score=0.905331, total= 2.8min\n",
      "[CV] reg_alpha=1e-05, reg_lambda=0.1 .................................\n"
     ]
    },
    {
     "name": "stderr",
     "output_type": "stream",
     "text": [
      "[Parallel(n_jobs=-1)]: Done   1 tasks      | elapsed:  2.9min\n"
     ]
    },
    {
     "name": "stdout",
     "output_type": "stream",
     "text": [
      "[CV] . reg_alpha=1e-05, reg_lambda=0.01, score=0.907171, total= 2.9min\n",
      "[CV] reg_alpha=1e-05, reg_lambda=0.1 .................................\n",
      "[CV] . reg_alpha=1e-05, reg_lambda=0.01, score=0.907986, total= 2.9min\n",
      "[CV] reg_alpha=1e-05, reg_lambda=0.1 .................................\n",
      "[CV] . reg_alpha=1e-05, reg_lambda=0.01, score=0.919353, total= 3.0min\n",
      "[CV] reg_alpha=1e-05, reg_lambda=1 ...................................\n",
      "[CV] . reg_alpha=1e-05, reg_lambda=0.01, score=0.907698, total= 3.0min\n",
      "[CV] reg_alpha=1e-05, reg_lambda=1 ...................................\n",
      "[CV]  reg_alpha=1e-05, reg_lambda=1e-05, score=0.920492, total= 3.0min\n",
      "[CV] reg_alpha=1e-05, reg_lambda=1 ...................................\n",
      "[CV]  reg_alpha=1e-05, reg_lambda=1e-05, score=0.907680, total= 3.0min\n",
      "[CV] reg_alpha=1e-05, reg_lambda=1 ...................................\n",
      "[CV]  reg_alpha=1e-05, reg_lambda=1e-05, score=0.908294, total= 3.1min\n",
      "[CV] reg_alpha=1e-05, reg_lambda=1 ...................................\n"
     ]
    },
    {
     "name": "stderr",
     "output_type": "stream",
     "text": [
      "[Parallel(n_jobs=-1)]: Done   8 tasks      | elapsed:  3.1min\n"
     ]
    },
    {
     "name": "stdout",
     "output_type": "stream",
     "text": [
      "[CV]  reg_alpha=1e-05, reg_lambda=1e-05, score=0.914266, total= 3.1min\n",
      "[CV] reg_alpha=1e-05, reg_lambda=10 ..................................\n",
      "[CV] .. reg_alpha=1e-05, reg_lambda=0.1, score=0.909812, total= 3.2min\n",
      "[CV] reg_alpha=1e-05, reg_lambda=10 ..................................\n",
      "[CV] . reg_alpha=1e-05, reg_lambda=0.01, score=0.913597, total= 3.3min\n",
      "[CV] reg_alpha=1e-05, reg_lambda=10 ..................................\n",
      "[CV] .. reg_alpha=1e-05, reg_lambda=0.1, score=0.918576, total= 3.4min\n",
      "[CV] reg_alpha=1e-05, reg_lambda=10 ..................................\n",
      "[CV] .. reg_alpha=1e-05, reg_lambda=0.1, score=0.907501, total= 3.0min\n",
      "[CV] reg_alpha=1e-05, reg_lambda=10 ..................................\n",
      "[CV] .. reg_alpha=1e-05, reg_lambda=0.1, score=0.913022, total= 3.1min\n",
      "[CV] reg_alpha=0.01, reg_lambda=1e-05 ................................\n",
      "[CV] .. reg_alpha=1e-05, reg_lambda=0.1, score=0.907832, total= 3.2min\n",
      "[CV] reg_alpha=0.01, reg_lambda=1e-05 ................................\n",
      "[CV] .... reg_alpha=1e-05, reg_lambda=1, score=0.919265, total= 3.3min\n",
      "[CV] reg_alpha=0.01, reg_lambda=1e-05 ................................\n",
      "[CV] .... reg_alpha=1e-05, reg_lambda=1, score=0.908622, total= 3.4min\n",
      "[CV] reg_alpha=0.01, reg_lambda=1e-05 ................................\n"
     ]
    },
    {
     "name": "stderr",
     "output_type": "stream",
     "text": [
      "[Parallel(n_jobs=-1)]: Done  17 tasks      | elapsed:  6.5min\n"
     ]
    },
    {
     "name": "stdout",
     "output_type": "stream",
     "text": [
      "[CV] .... reg_alpha=1e-05, reg_lambda=1, score=0.913333, total= 3.5min\n",
      "[CV] reg_alpha=0.01, reg_lambda=1e-05 ................................\n",
      "[CV] .... reg_alpha=1e-05, reg_lambda=1, score=0.905981, total= 3.6min\n",
      "[CV] reg_alpha=0.01, reg_lambda=0.01 .................................\n",
      "[CV] .... reg_alpha=1e-05, reg_lambda=1, score=0.909166, total= 3.9min\n",
      "[CV] reg_alpha=0.01, reg_lambda=0.01 .................................\n",
      "[CV] ... reg_alpha=1e-05, reg_lambda=10, score=0.914528, total= 3.8min\n",
      "[CV] reg_alpha=0.01, reg_lambda=0.01 .................................\n",
      "[CV] ... reg_alpha=1e-05, reg_lambda=10, score=0.904625, total= 4.1min\n",
      "[CV] reg_alpha=0.01, reg_lambda=0.01 .................................\n",
      "[CV] ... reg_alpha=1e-05, reg_lambda=10, score=0.903723, total= 4.2min\n",
      "[CV] reg_alpha=0.01, reg_lambda=0.01 .................................\n",
      "[CV] ... reg_alpha=1e-05, reg_lambda=10, score=0.901380, total= 4.4min\n",
      "[CV] reg_alpha=0.01, reg_lambda=0.1 ..................................\n",
      "[CV] . reg_alpha=0.01, reg_lambda=1e-05, score=0.909432, total= 3.1min\n",
      "[CV] reg_alpha=0.01, reg_lambda=0.1 ..................................\n",
      "[CV] . reg_alpha=0.01, reg_lambda=1e-05, score=0.920241, total= 3.2min\n",
      "[CV] reg_alpha=0.01, reg_lambda=0.1 ..................................\n"
     ]
    },
    {
     "name": "stderr",
     "output_type": "stream",
     "text": [
      "[Parallel(n_jobs=-1)]: Done  26 tasks      | elapsed:  9.4min\n"
     ]
    },
    {
     "name": "stdout",
     "output_type": "stream",
     "text": [
      "[CV] . reg_alpha=0.01, reg_lambda=1e-05, score=0.908647, total= 3.1min\n",
      "[CV] reg_alpha=0.01, reg_lambda=0.1 ..................................\n",
      "[CV] . reg_alpha=0.01, reg_lambda=1e-05, score=0.905555, total= 3.0min\n",
      "[CV] reg_alpha=0.01, reg_lambda=0.1 ..................................\n",
      "[CV] . reg_alpha=0.01, reg_lambda=1e-05, score=0.914743, total= 3.1min\n",
      "[CV] reg_alpha=0.01, reg_lambda=1 ....................................\n",
      "[CV] .. reg_alpha=0.01, reg_lambda=0.01, score=0.909357, total= 3.0min\n",
      "[CV] reg_alpha=0.01, reg_lambda=1 ....................................\n",
      "[CV] .. reg_alpha=0.01, reg_lambda=0.01, score=0.919575, total= 3.3min\n",
      "[CV] reg_alpha=0.01, reg_lambda=1 ....................................\n",
      "[CV] ... reg_alpha=1e-05, reg_lambda=10, score=0.913934, total= 4.1min\n",
      "[CV] reg_alpha=0.01, reg_lambda=1 ....................................\n",
      "[CV] .. reg_alpha=0.01, reg_lambda=0.01, score=0.907671, total= 3.2min\n",
      "[CV] reg_alpha=0.01, reg_lambda=1 ....................................\n",
      "[CV] .. reg_alpha=0.01, reg_lambda=0.01, score=0.904081, total= 3.1min\n",
      "[CV] reg_alpha=0.01, reg_lambda=10 ...................................\n",
      "[CV] .. reg_alpha=0.01, reg_lambda=0.01, score=0.913279, total= 3.3min\n",
      "[CV] reg_alpha=0.01, reg_lambda=10 ...................................\n",
      "[CV] ... reg_alpha=0.01, reg_lambda=0.1, score=0.921313, total= 3.2min\n",
      "[CV] reg_alpha=0.01, reg_lambda=10 ...................................\n",
      "[CV] ... reg_alpha=0.01, reg_lambda=0.1, score=0.911849, total= 3.1min\n",
      "[CV] reg_alpha=0.01, reg_lambda=10 ...................................\n"
     ]
    },
    {
     "name": "stderr",
     "output_type": "stream",
     "text": [
      "[Parallel(n_jobs=-1)]: Done  37 tasks      | elapsed: 12.4min\n"
     ]
    },
    {
     "name": "stdout",
     "output_type": "stream",
     "text": [
      "[CV] ... reg_alpha=0.01, reg_lambda=0.1, score=0.903906, total= 3.0min\n",
      "[CV] reg_alpha=0.01, reg_lambda=10 ...................................\n",
      "[CV] ... reg_alpha=0.01, reg_lambda=0.1, score=0.909207, total= 3.3min\n",
      "[CV] reg_alpha=0.1, reg_lambda=1e-05 .................................\n",
      "[CV] ... reg_alpha=0.01, reg_lambda=0.1, score=0.915440, total= 3.2min\n",
      "[CV] reg_alpha=0.1, reg_lambda=1e-05 .................................\n",
      "[CV] ..... reg_alpha=0.01, reg_lambda=1, score=0.919872, total= 3.5min\n",
      "[CV] reg_alpha=0.1, reg_lambda=1e-05 .................................\n",
      "[CV] ..... reg_alpha=0.01, reg_lambda=1, score=0.907411, total= 3.4min\n",
      "[CV] reg_alpha=0.1, reg_lambda=1e-05 .................................\n",
      "[CV] ..... reg_alpha=0.01, reg_lambda=1, score=0.904576, total= 3.4min\n",
      "[CV] reg_alpha=0.1, reg_lambda=1e-05 .................................\n",
      "[CV] ..... reg_alpha=0.01, reg_lambda=1, score=0.906152, total= 3.5min\n",
      "[CV] reg_alpha=0.1, reg_lambda=0.01 ..................................\n",
      "[CV] ..... reg_alpha=0.01, reg_lambda=1, score=0.914206, total= 3.8min\n",
      "[CV] reg_alpha=0.1, reg_lambda=0.01 ..................................\n",
      "[CV] .... reg_alpha=0.01, reg_lambda=10, score=0.916045, total= 4.0min\n",
      "[CV] reg_alpha=0.1, reg_lambda=0.01 ..................................\n",
      "[CV] .... reg_alpha=0.01, reg_lambda=10, score=0.904982, total= 4.1min\n",
      "[CV] reg_alpha=0.1, reg_lambda=0.01 ..................................\n",
      "[CV] .... reg_alpha=0.01, reg_lambda=10, score=0.905375, total= 4.2min\n",
      "[CV] reg_alpha=0.1, reg_lambda=0.01 ..................................\n"
     ]
    },
    {
     "name": "stderr",
     "output_type": "stream",
     "text": [
      "[Parallel(n_jobs=-1)]: Done  48 tasks      | elapsed: 15.4min\n"
     ]
    },
    {
     "name": "stdout",
     "output_type": "stream",
     "text": [
      "[CV] .. reg_alpha=0.1, reg_lambda=1e-05, score=0.919699, total= 3.1min\n",
      "[CV] reg_alpha=0.1, reg_lambda=0.1 ...................................\n",
      "[CV] .. reg_alpha=0.1, reg_lambda=1e-05, score=0.911887, total= 3.1min\n",
      "[CV] reg_alpha=0.1, reg_lambda=0.1 ...................................\n",
      "[CV] .... reg_alpha=0.01, reg_lambda=10, score=0.900556, total= 3.9min\n",
      "[CV] reg_alpha=0.1, reg_lambda=0.1 ...................................\n",
      "[CV] .... reg_alpha=0.01, reg_lambda=10, score=0.911442, total= 3.8min\n",
      "[CV] .. reg_alpha=0.1, reg_lambda=1e-05, score=0.908222, total= 3.1min\n",
      "[CV] reg_alpha=0.1, reg_lambda=0.1 ...................................\n",
      "[CV] reg_alpha=0.1, reg_lambda=0.1 ...................................\n",
      "[CV] .. reg_alpha=0.1, reg_lambda=1e-05, score=0.905325, total= 3.0min\n",
      "[CV] reg_alpha=0.1, reg_lambda=1 .....................................\n",
      "[CV] ... reg_alpha=0.1, reg_lambda=0.01, score=0.920293, total= 3.3min\n",
      "[CV] reg_alpha=0.1, reg_lambda=1 .....................................\n",
      "[CV] .. reg_alpha=0.1, reg_lambda=1e-05, score=0.914274, total= 3.4min\n",
      "[CV] reg_alpha=0.1, reg_lambda=1 .....................................\n",
      "[CV] ... reg_alpha=0.1, reg_lambda=0.01, score=0.908845, total= 3.3min\n",
      "[CV] reg_alpha=0.1, reg_lambda=1 .....................................\n",
      "[CV] ... reg_alpha=0.1, reg_lambda=0.01, score=0.910286, total= 3.3min\n",
      "[CV] reg_alpha=0.1, reg_lambda=1 .....................................\n",
      "[CV] ... reg_alpha=0.1, reg_lambda=0.01, score=0.905035, total= 3.3min\n",
      "[CV] reg_alpha=0.1, reg_lambda=10 ....................................\n",
      "[CV] ... reg_alpha=0.1, reg_lambda=0.01, score=0.917126, total= 3.2min\n",
      "[CV] reg_alpha=0.1, reg_lambda=10 ....................................\n",
      "[CV] .... reg_alpha=0.1, reg_lambda=0.1, score=0.920003, total= 3.1min\n",
      "[CV] reg_alpha=0.1, reg_lambda=10 ....................................\n"
     ]
    },
    {
     "name": "stderr",
     "output_type": "stream",
     "text": [
      "[Parallel(n_jobs=-1)]: Done  61 tasks      | elapsed: 19.0min\n"
     ]
    },
    {
     "name": "stdout",
     "output_type": "stream",
     "text": [
      "[CV] .... reg_alpha=0.1, reg_lambda=0.1, score=0.910220, total= 3.1min\n",
      "[CV] reg_alpha=0.1, reg_lambda=10 ....................................\n",
      "[CV] .... reg_alpha=0.1, reg_lambda=0.1, score=0.906910, total= 3.1min\n",
      "[CV] reg_alpha=0.1, reg_lambda=10 ....................................\n",
      "[CV] .... reg_alpha=0.1, reg_lambda=0.1, score=0.908952, total= 3.3min\n",
      "[CV] reg_alpha=1, reg_lambda=1e-05 ...................................\n",
      "[CV] .... reg_alpha=0.1, reg_lambda=0.1, score=0.913956, total= 3.3min\n",
      "[CV] reg_alpha=1, reg_lambda=1e-05 ...................................\n",
      "[CV] ...... reg_alpha=0.1, reg_lambda=1, score=0.919635, total= 3.2min\n",
      "[CV] reg_alpha=1, reg_lambda=1e-05 ...................................\n",
      "[CV] ...... reg_alpha=0.1, reg_lambda=1, score=0.910319, total= 3.5min\n",
      "[CV] reg_alpha=1, reg_lambda=1e-05 ...................................\n",
      "[CV] ...... reg_alpha=0.1, reg_lambda=1, score=0.908025, total= 3.8min\n",
      "[CV] reg_alpha=1, reg_lambda=1e-05 ...................................\n",
      "[CV] ...... reg_alpha=0.1, reg_lambda=1, score=0.903404, total= 3.6min\n",
      "[CV] reg_alpha=1, reg_lambda=0.01 ....................................\n",
      "[CV] ...... reg_alpha=0.1, reg_lambda=1, score=0.914845, total= 3.7min\n",
      "[CV] reg_alpha=1, reg_lambda=0.01 ....................................\n",
      "[CV] ..... reg_alpha=0.1, reg_lambda=10, score=0.913552, total= 4.0min\n",
      "[CV] reg_alpha=1, reg_lambda=0.01 ....................................\n",
      "[CV] ..... reg_alpha=0.1, reg_lambda=10, score=0.905421, total= 4.1min\n",
      "[CV] reg_alpha=1, reg_lambda=0.01 ....................................\n",
      "[CV] .... reg_alpha=1, reg_lambda=1e-05, score=0.906301, total= 3.0min\n",
      "[CV] reg_alpha=1, reg_lambda=0.01 ....................................\n",
      "[CV] ..... reg_alpha=0.1, reg_lambda=10, score=0.906191, total= 3.9min\n",
      "[CV] reg_alpha=1, reg_lambda=0.1 .....................................\n"
     ]
    },
    {
     "name": "stderr",
     "output_type": "stream",
     "text": [
      "[Parallel(n_jobs=-1)]: Done  74 tasks      | elapsed: 22.9min\n"
     ]
    },
    {
     "name": "stdout",
     "output_type": "stream",
     "text": [
      "[CV] ..... reg_alpha=0.1, reg_lambda=10, score=0.900745, total= 3.9min\n",
      "[CV] reg_alpha=1, reg_lambda=0.1 .....................................\n",
      "[CV] .... reg_alpha=1, reg_lambda=1e-05, score=0.915685, total= 3.2min\n",
      "[CV] reg_alpha=1, reg_lambda=0.1 .....................................\n",
      "[CV] .... reg_alpha=1, reg_lambda=1e-05, score=0.905973, total= 3.2min\n",
      "[CV] reg_alpha=1, reg_lambda=0.1 .....................................\n",
      "[CV] ..... reg_alpha=0.1, reg_lambda=10, score=0.910504, total= 3.8min\n",
      "[CV] reg_alpha=1, reg_lambda=0.1 .....................................\n",
      "[CV] .... reg_alpha=1, reg_lambda=1e-05, score=0.900450, total= 3.1min\n",
      "[CV] reg_alpha=1, reg_lambda=1 .......................................\n",
      "[CV] .... reg_alpha=1, reg_lambda=1e-05, score=0.912249, total= 3.2min\n",
      "[CV] reg_alpha=1, reg_lambda=1 .......................................\n",
      "[CV] ..... reg_alpha=1, reg_lambda=0.01, score=0.916508, total= 3.3min\n",
      "[CV] reg_alpha=1, reg_lambda=1 .......................................\n",
      "[CV] ..... reg_alpha=1, reg_lambda=0.01, score=0.905843, total= 3.3min\n",
      "[CV] reg_alpha=1, reg_lambda=1 .......................................\n",
      "[CV] ..... reg_alpha=1, reg_lambda=0.01, score=0.900361, total= 3.0min\n",
      "[CV] reg_alpha=1, reg_lambda=1 .......................................\n",
      "[CV] ..... reg_alpha=1, reg_lambda=0.01, score=0.913005, total= 3.0min\n",
      "[CV] reg_alpha=1, reg_lambda=10 ......................................\n",
      "[CV] ..... reg_alpha=1, reg_lambda=0.01, score=0.906295, total= 3.2min\n",
      "[CV] reg_alpha=1, reg_lambda=10 ......................................\n",
      "[CV] ...... reg_alpha=1, reg_lambda=0.1, score=0.917775, total= 3.1min\n",
      "[CV] reg_alpha=1, reg_lambda=10 ......................................\n",
      "[CV] ...... reg_alpha=1, reg_lambda=0.1, score=0.901665, total= 3.1min\n",
      "[CV] reg_alpha=1, reg_lambda=10 ......................................\n",
      "[CV] ...... reg_alpha=1, reg_lambda=0.1, score=0.905251, total= 3.2min\n",
      "[CV] reg_alpha=1, reg_lambda=10 ......................................\n",
      "[CV] ...... reg_alpha=1, reg_lambda=0.1, score=0.906499, total= 3.3min\n",
      "[CV] reg_alpha=10, reg_lambda=1e-05 ..................................\n"
     ]
    },
    {
     "name": "stderr",
     "output_type": "stream",
     "text": [
      "[Parallel(n_jobs=-1)]: Done  89 tasks      | elapsed: 26.3min\n"
     ]
    },
    {
     "name": "stdout",
     "output_type": "stream",
     "text": [
      "[CV] ...... reg_alpha=1, reg_lambda=0.1, score=0.912935, total= 3.1min\n",
      "[CV] reg_alpha=10, reg_lambda=1e-05 ..................................\n",
      "[CV] ........ reg_alpha=1, reg_lambda=1, score=0.914880, total= 3.3min\n",
      "[CV] reg_alpha=10, reg_lambda=1e-05 ..................................\n",
      "[CV] ........ reg_alpha=1, reg_lambda=1, score=0.905360, total= 3.4min\n",
      "[CV] reg_alpha=10, reg_lambda=1e-05 ..................................\n",
      "[CV] ........ reg_alpha=1, reg_lambda=1, score=0.907183, total= 3.5min\n",
      "[CV] reg_alpha=10, reg_lambda=1e-05 ..................................\n",
      "[CV] ........ reg_alpha=1, reg_lambda=1, score=0.899178, total= 3.3min\n",
      "[CV] reg_alpha=10, reg_lambda=0.01 ...................................\n",
      "[CV] ... reg_alpha=10, reg_lambda=1e-05, score=0.889023, total= 2.2min\n",
      "[CV] reg_alpha=10, reg_lambda=0.01 ...................................\n",
      "[CV] ... reg_alpha=10, reg_lambda=1e-05, score=0.879981, total= 2.2min\n",
      "[CV] reg_alpha=10, reg_lambda=0.01 ...................................\n",
      "[CV] ........ reg_alpha=1, reg_lambda=1, score=0.911350, total= 3.3min\n",
      "[CV] reg_alpha=10, reg_lambda=0.01 ...................................\n",
      "[CV] ... reg_alpha=10, reg_lambda=1e-05, score=0.877917, total= 2.1min\n",
      "[CV] reg_alpha=10, reg_lambda=0.01 ...................................\n",
      "[CV] ....... reg_alpha=1, reg_lambda=10, score=0.915018, total= 3.7min\n",
      "[CV] reg_alpha=10, reg_lambda=0.1 ....................................\n",
      "[CV] ... reg_alpha=10, reg_lambda=1e-05, score=0.874224, total= 2.2min\n",
      "[CV] reg_alpha=10, reg_lambda=0.1 ....................................\n",
      "[CV] ....... reg_alpha=1, reg_lambda=10, score=0.904119, total= 4.0min\n",
      "[CV] reg_alpha=10, reg_lambda=0.1 ....................................\n",
      "[CV] ....... reg_alpha=1, reg_lambda=10, score=0.898669, total= 4.0min\n",
      "[CV] reg_alpha=10, reg_lambda=0.1 ....................................\n",
      "[CV] ....... reg_alpha=1, reg_lambda=10, score=0.902942, total= 4.1min\n",
      "[CV] reg_alpha=10, reg_lambda=0.1 ....................................\n",
      "[CV] ....... reg_alpha=1, reg_lambda=10, score=0.909218, total= 4.0min\n",
      "[CV] reg_alpha=10, reg_lambda=1 ......................................\n",
      "[CV] ... reg_alpha=10, reg_lambda=1e-05, score=0.887583, total= 2.3min\n",
      "[CV] reg_alpha=10, reg_lambda=1 ......................................\n",
      "[CV] .... reg_alpha=10, reg_lambda=0.01, score=0.889964, total= 2.3min\n",
      "[CV] reg_alpha=10, reg_lambda=1 ......................................\n",
      "[CV] .... reg_alpha=10, reg_lambda=0.01, score=0.880170, total= 2.2min\n",
      "[CV] reg_alpha=10, reg_lambda=1 ......................................\n",
      "[CV] .... reg_alpha=10, reg_lambda=0.01, score=0.880113, total= 2.2min\n",
      "[CV] reg_alpha=10, reg_lambda=1 ......................................\n",
      "[CV] .... reg_alpha=10, reg_lambda=0.01, score=0.874570, total= 2.1min\n",
      "[CV] reg_alpha=10, reg_lambda=10 .....................................\n",
      "[CV] .... reg_alpha=10, reg_lambda=0.01, score=0.885920, total= 2.2min\n",
      "[CV] reg_alpha=10, reg_lambda=10 .....................................\n",
      "[CV] ..... reg_alpha=10, reg_lambda=0.1, score=0.888048, total= 2.1min\n",
      "[CV] reg_alpha=10, reg_lambda=10 .....................................\n",
      "[CV] ..... reg_alpha=10, reg_lambda=0.1, score=0.879405, total= 2.2min\n",
      "[CV] reg_alpha=10, reg_lambda=10 .....................................\n",
      "[CV] ..... reg_alpha=10, reg_lambda=0.1, score=0.877006, total= 2.0min\n",
      "[CV] reg_alpha=10, reg_lambda=10 .....................................\n",
      "[CV] ..... reg_alpha=10, reg_lambda=0.1, score=0.881371, total= 2.4min\n",
      "[CV] ....... reg_alpha=10, reg_lambda=1, score=0.890693, total= 2.3min\n"
     ]
    },
    {
     "name": "stderr",
     "output_type": "stream",
     "text": [
      "[Parallel(n_jobs=-1)]: Done 115 out of 125 | elapsed: 32.6min remaining:  2.8min\n"
     ]
    },
    {
     "name": "stdout",
     "output_type": "stream",
     "text": [
      "[CV] ..... reg_alpha=10, reg_lambda=0.1, score=0.887665, total= 2.4min\n",
      "[CV] ....... reg_alpha=10, reg_lambda=1, score=0.881233, total= 2.3min\n",
      "[CV] ....... reg_alpha=10, reg_lambda=1, score=0.880769, total= 2.1min\n",
      "[CV] ....... reg_alpha=10, reg_lambda=1, score=0.875004, total= 2.2min\n",
      "[CV] ....... reg_alpha=10, reg_lambda=1, score=0.887997, total= 2.0min\n",
      "[CV] ...... reg_alpha=10, reg_lambda=10, score=0.884522, total= 1.8min\n",
      "[CV] ...... reg_alpha=10, reg_lambda=10, score=0.876769, total= 1.7min\n",
      "[CV] ...... reg_alpha=10, reg_lambda=10, score=0.877032, total= 1.5min\n",
      "[CV] ...... reg_alpha=10, reg_lambda=10, score=0.874122, total= 1.2min\n",
      "[CV] ...... reg_alpha=10, reg_lambda=10, score=0.884223, total= 1.2min\n"
     ]
    },
    {
     "name": "stderr",
     "output_type": "stream",
     "text": [
      "[Parallel(n_jobs=-1)]: Done 125 out of 125 | elapsed: 33.4min finished\n"
     ]
    },
    {
     "name": "stdout",
     "output_type": "stream",
     "text": [
      "{'reg_alpha': 0.01, 'reg_lambda': 0.1}\n"
     ]
    }
   ],
   "source": [
    "base_classifier = lgb.LGBMClassifier(num_leaves=256, max_depth=-1, learning_rate=0.1, n_estimators=500, max_bin=255,\n",
    "                                     subsample_for_bin=20, objective='binary', min_split_gain=0.0, colsample_bytree=0.6,\n",
    "                                     subsample=0.9, subsample_freq=4, min_child_weight=1, min_child_samples=10)\n",
    "\n",
    "gbm_params = {\n",
    "    'reg_alpha': [1e-5, 1e-2, 0.1, 1, 10],\n",
    "    'reg_lambda': [1e-5, 1e-2, 0.1, 1, 10],\n",
    "}\n",
    "\n",
    "\n",
    "grid = GridSearchCV(base_classifier, gbm_params,scoring='roc_auc',cv = 5,verbose=10,n_jobs=-1)\n",
    "\n",
    "grid.fit(selected_train_data_x, train_data_y)\n",
    "\n",
    "print (grid.best_params_)"
   ]
  },
  {
   "cell_type": "markdown",
   "metadata": {},
   "source": [
    "#### Tune Learning Rate"
   ]
  },
  {
   "cell_type": "code",
   "execution_count": 43,
   "metadata": {
    "scrolled": true
   },
   "outputs": [
    {
     "name": "stdout",
     "output_type": "stream",
     "text": [
      "Fitting 5 folds for each of 5 candidates, totalling 25 fits\n",
      "[CV] learning_rate=0.001 .............................................\n",
      "[CV] learning_rate=0.001 .............................................\n",
      "[CV] learning_rate=0.001 .............................................\n",
      "[CV] learning_rate=0.001 .............................................\n",
      "[CV] learning_rate=0.001 .............................................\n",
      "[CV] learning_rate=0.01 ..............................................\n",
      "[CV] learning_rate=0.01 ..............................................\n",
      "[CV] learning_rate=0.01 ..............................................\n",
      "[CV] learning_rate=0.01 ..............................................\n",
      "[CV] learning_rate=0.01 ..............................................\n",
      "[CV] learning_rate=0.1 ...............................................\n",
      "[CV] learning_rate=0.1 ...............................................\n",
      "[CV] ................ learning_rate=0.1, score=0.911849, total= 3.1min\n",
      "[CV] learning_rate=0.1 ...............................................\n"
     ]
    },
    {
     "name": "stderr",
     "output_type": "stream",
     "text": [
      "[Parallel(n_jobs=-1)]: Done   1 tasks      | elapsed:  3.1min\n"
     ]
    },
    {
     "name": "stdout",
     "output_type": "stream",
     "text": [
      "[CV] ................ learning_rate=0.1, score=0.921313, total= 3.1min\n",
      "[CV] learning_rate=0.1 ...............................................\n",
      "[CV] ............... learning_rate=0.01, score=0.889626, total= 3.6min\n",
      "[CV] learning_rate=0.1 ...............................................\n",
      "[CV] ............... learning_rate=0.01, score=0.892961, total= 3.7min\n",
      "[CV] learning_rate=1 .................................................\n",
      "[CV] .............. learning_rate=0.001, score=0.832066, total= 3.8min\n",
      "[CV] learning_rate=1 .................................................\n"
     ]
    },
    {
     "name": "stderr",
     "output_type": "stream",
     "text": [
      "[Parallel(n_jobs=-1)]: Done   5 out of  25 | elapsed:  3.8min remaining: 15.3min\n"
     ]
    },
    {
     "name": "stdout",
     "output_type": "stream",
     "text": [
      "[CV] .............. learning_rate=0.001, score=0.833533, total= 3.8min\n",
      "[CV] learning_rate=1 .................................................\n",
      "[CV] ............... learning_rate=0.01, score=0.901741, total= 3.8min\n",
      "[CV] learning_rate=1 .................................................\n",
      "[CV] .............. learning_rate=0.001, score=0.836058, total= 3.9min\n",
      "[CV] learning_rate=1 .................................................\n"
     ]
    },
    {
     "name": "stderr",
     "output_type": "stream",
     "text": [
      "[Parallel(n_jobs=-1)]: Done   8 out of  25 | elapsed:  3.9min remaining:  8.3min\n"
     ]
    },
    {
     "name": "stdout",
     "output_type": "stream",
     "text": [
      "[CV] ............... learning_rate=0.01, score=0.895535, total= 3.9min\n",
      "[CV] learning_rate=10 ................................................\n",
      "[CV] .............. learning_rate=0.001, score=0.827088, total= 3.9min\n",
      "[CV] learning_rate=10 ................................................\n",
      "[CV] .............. learning_rate=0.001, score=0.823180, total= 4.0min\n",
      "[CV] learning_rate=10 ................................................\n"
     ]
    },
    {
     "name": "stderr",
     "output_type": "stream",
     "text": [
      "[Parallel(n_jobs=-1)]: Done  11 out of  25 | elapsed:  4.0min remaining:  5.1min\n"
     ]
    },
    {
     "name": "stdout",
     "output_type": "stream",
     "text": [
      "[CV] ............... learning_rate=0.01, score=0.900070, total= 4.1min\n",
      "[CV] learning_rate=10 ................................................\n",
      "[CV] ................. learning_rate=10, score=0.691831, total=  17.5s\n",
      "[CV] learning_rate=10 ................................................\n",
      "[CV] ................. learning_rate=10, score=0.697349, total=  16.4s\n"
     ]
    },
    {
     "name": "stderr",
     "output_type": "stream",
     "text": [
      "[Parallel(n_jobs=-1)]: Done  14 out of  25 | elapsed:  4.3min remaining:  3.3min\n"
     ]
    },
    {
     "name": "stdout",
     "output_type": "stream",
     "text": [
      "[CV] ................. learning_rate=10, score=0.695195, total=  17.6s\n",
      "[CV] ................. learning_rate=10, score=0.693273, total=  15.6s\n",
      "[CV] ................. learning_rate=10, score=0.679671, total=  14.6s\n"
     ]
    },
    {
     "name": "stderr",
     "output_type": "stream",
     "text": [
      "[Parallel(n_jobs=-1)]: Done  17 out of  25 | elapsed:  4.5min remaining:  2.1min\n"
     ]
    },
    {
     "name": "stdout",
     "output_type": "stream",
     "text": [
      "[CV] .................. learning_rate=1, score=0.885949, total=  41.7s\n",
      "[CV] .................. learning_rate=1, score=0.879047, total=  40.0s\n",
      "[CV] .................. learning_rate=1, score=0.877953, total=  39.2s\n"
     ]
    },
    {
     "name": "stderr",
     "output_type": "stream",
     "text": [
      "[Parallel(n_jobs=-1)]: Done  20 out of  25 | elapsed:  4.6min remaining:  1.1min\n"
     ]
    },
    {
     "name": "stdout",
     "output_type": "stream",
     "text": [
      "[CV] .................. learning_rate=1, score=0.892825, total=  39.0s\n",
      "[CV] .................. learning_rate=1, score=0.894945, total=  45.7s\n",
      "[CV] ................ learning_rate=0.1, score=0.903906, total= 1.8min\n"
     ]
    },
    {
     "name": "stderr",
     "output_type": "stream",
     "text": [
      "[Parallel(n_jobs=-1)]: Done  23 out of  25 | elapsed:  4.9min remaining:   25.8s\n"
     ]
    },
    {
     "name": "stdout",
     "output_type": "stream",
     "text": [
      "[CV] ................ learning_rate=0.1, score=0.909207, total= 1.9min\n",
      "[CV] ................ learning_rate=0.1, score=0.915440, total= 1.3min\n"
     ]
    },
    {
     "name": "stderr",
     "output_type": "stream",
     "text": [
      "[Parallel(n_jobs=-1)]: Done  25 out of  25 | elapsed:  5.0min finished\n"
     ]
    },
    {
     "name": "stdout",
     "output_type": "stream",
     "text": [
      "{'learning_rate': 0.1}\n"
     ]
    }
   ],
   "source": [
    "base_classifier = lgb.LGBMClassifier(num_leaves=256, max_depth=-1, n_estimators=500, max_bin=255, subsample_for_bin=20,\n",
    "                                     objective='binary', min_split_gain=0.0, colsample_bytree=0.6,subsample=0.9,\n",
    "                                     subsample_freq=4, min_child_weight=1, min_child_samples=10, reg_alpha=0.01, reg_lambda=0.1)\n",
    "\n",
    "gbm_params = {\n",
    "    'learning_rate': [1e-3, 1e-2, 0.1, 1, 10],\n",
    "}\n",
    "\n",
    "\n",
    "grid = GridSearchCV(base_classifier, gbm_params,scoring='roc_auc',cv = 5,verbose=10,n_jobs=-1)\n",
    "\n",
    "grid.fit(selected_train_data_x, train_data_y)\n",
    "\n",
    "print (grid.best_params_)"
   ]
  },
  {
   "cell_type": "markdown",
   "metadata": {},
   "source": [
    "# Train Final Model"
   ]
  },
  {
   "cell_type": "code",
   "execution_count": 44,
   "metadata": {},
   "outputs": [
    {
     "data": {
      "text/plain": [
       "LGBMClassifier(boosting_type='gbdt', colsample_bytree=0.6, learning_rate=0.1,\n",
       "        max_bin=255, max_depth=-1, min_child_samples=10,\n",
       "        min_child_weight=1, min_split_gain=0.0, n_estimators=500,\n",
       "        nthread=-1, num_leaves=256, objective='binary', reg_alpha=0.01,\n",
       "        reg_lambda=0.1, seed=0, silent=True, subsample=0.9,\n",
       "        subsample_for_bin=20, subsample_freq=4)"
      ]
     },
     "execution_count": 44,
     "metadata": {},
     "output_type": "execute_result"
    }
   ],
   "source": [
    "final_classifier = lgb.LGBMClassifier(num_leaves=256, learning_rate=0.1, max_depth=-1, n_estimators=500, max_bin=255, subsample_for_bin=20,\n",
    "                                     objective='binary', min_split_gain=0.0, colsample_bytree=0.6,subsample=0.9,\n",
    "                                     subsample_freq=4, min_child_weight=1, min_child_samples=10, reg_alpha=0.01, reg_lambda=0.1)\n",
    "\n",
    "final_classifier.fit(selected_train_data_x, train_data_y)"
   ]
  },
  {
   "cell_type": "code",
   "execution_count": 49,
   "metadata": {
    "collapsed": true
   },
   "outputs": [],
   "source": [
    "preds = final_classifier.predict(selected_test_data_x)\n",
    "res = pd.DataFrame({'RefId': test_idx, 'IsBadBuy': preds})\n",
    "res.to_csv('../output/submission.csv', index=False)"
   ]
  },
  {
   "cell_type": "code",
   "execution_count": null,
   "metadata": {
    "collapsed": true
   },
   "outputs": [],
   "source": []
  }
 ],
 "metadata": {
  "kernelspec": {
   "display_name": "Python 3",
   "language": "python",
   "name": "python3"
  },
  "language_info": {
   "codemirror_mode": {
    "name": "ipython",
    "version": 3
   },
   "file_extension": ".py",
   "mimetype": "text/x-python",
   "name": "python",
   "nbconvert_exporter": "python",
   "pygments_lexer": "ipython3",
   "version": "3.6.0"
  }
 },
 "nbformat": 4,
 "nbformat_minor": 2
}
